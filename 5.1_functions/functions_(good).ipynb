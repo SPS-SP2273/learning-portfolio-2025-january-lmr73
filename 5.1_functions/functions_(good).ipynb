{
 "cells": [
  {
   "attachments": {},
   "cell_type": "markdown",
   "id": "123456",
   "metadata": {},
   "source": [
    "<div style=\"text-align:left;font-size:2em\"><span style=\"font-weight:bolder;font-size:1.25em\">SP2273 | Learning Portfolio</span><br><br><span style=\"font-weight:bold;color:darkred\">Functions (Good)</span></div>"
   ]
  },
  {
   "attachments": {},
   "cell_type": "markdown",
   "id": "1fe02be8",
   "metadata": {},
   "source": [
    "# What to expect in this chapter"
   ]
  },
  {
   "attachments": {},
   "cell_type": "markdown",
   "id": "1e02d992",
   "metadata": {},
   "source": [
    "# 1 Checks, balances, and contingencies"
   ]
  },
  {
   "cell_type": "code",
   "execution_count": 1,
   "id": "edf00cd5-9854-4e7c-a2e0-084c8ceefb7c",
   "metadata": {},
   "outputs": [
    {
     "data": {
      "text/plain": [
       "10.0"
      ]
     },
     "execution_count": 1,
     "metadata": {},
     "output_type": "execute_result"
    }
   ],
   "source": [
    "def area_tri(base,height):\n",
    "    return(1/2*base*height)\n",
    "\n",
    "area_tri(4,5)"
   ]
  },
  {
   "cell_type": "markdown",
   "id": "d6f80566-380f-4a2f-bbda-c69e2b511115",
   "metadata": {},
   "source": [
    "Base and height are local variables, defined within the function, that cannot be called outside of the function. \n",
    "ERROR NAME IS NOT DEFINED"
   ]
  },
  {
   "cell_type": "code",
   "execution_count": 8,
   "id": "c97dd9db-8bd6-4614-b286-f88af5f2d325",
   "metadata": {},
   "outputs": [
    {
     "ename": "AssertionError",
     "evalue": "x must be cute",
     "output_type": "error",
     "traceback": [
      "\u001b[1;31m---------------------------------------------------------------------------\u001b[0m",
      "\u001b[1;31mAssertionError\u001b[0m                            Traceback (most recent call last)",
      "Cell \u001b[1;32mIn[8], line 2\u001b[0m\n\u001b[0;32m      1\u001b[0m x\u001b[38;5;241m=\u001b[39m\u001b[38;5;241m-\u001b[39m\u001b[38;5;241m129\u001b[39m\n\u001b[1;32m----> 2\u001b[0m \u001b[38;5;28;01massert\u001b[39;00m x\u001b[38;5;241m>\u001b[39m\u001b[38;5;241m=\u001b[39m \u001b[38;5;241m0\u001b[39m, \u001b[38;5;124m\"\u001b[39m\u001b[38;5;124mx must be cute\u001b[39m\u001b[38;5;124m\"\u001b[39m\n",
      "\u001b[1;31mAssertionError\u001b[0m: x must be cute"
     ]
    }
   ],
   "source": [
    "x=-129\n",
    "assert x>= 0, \"x must be cute\""
   ]
  },
  {
   "cell_type": "code",
   "execution_count": 11,
   "id": "2d6e9e91-7a3c-46b8-b17b-9b701dd51983",
   "metadata": {},
   "outputs": [
    {
     "name": "stdout",
     "output_type": "stream",
     "text": [
      "0\n",
      "1\n",
      "2\n",
      "3\n",
      "4\n",
      "5\n",
      "6\n"
     ]
    },
    {
     "ename": "AssertionError",
     "evalue": "i accidentally printed '6' because of the order of the statements",
     "output_type": "error",
     "traceback": [
      "\u001b[1;31m---------------------------------------------------------------------------\u001b[0m",
      "\u001b[1;31mAssertionError\u001b[0m                            Traceback (most recent call last)",
      "Cell \u001b[1;32mIn[11], line 3\u001b[0m\n\u001b[0;32m      1\u001b[0m \u001b[38;5;28;01mfor\u001b[39;00m i \u001b[38;5;129;01min\u001b[39;00m \u001b[38;5;28mrange\u001b[39m(\u001b[38;5;241m10\u001b[39m):\n\u001b[0;32m      2\u001b[0m     \u001b[38;5;28mprint\u001b[39m(i)\n\u001b[1;32m----> 3\u001b[0m     \u001b[38;5;28;01massert\u001b[39;00m i\u001b[38;5;241m<\u001b[39m\u001b[38;5;241m=\u001b[39m\u001b[38;5;241m5\u001b[39m, \u001b[38;5;124m\"\u001b[39m\u001b[38;5;124mi accidentally printed \u001b[39m\u001b[38;5;124m'\u001b[39m\u001b[38;5;124m6\u001b[39m\u001b[38;5;124m'\u001b[39m\u001b[38;5;124m because of the order of the statements\u001b[39m\u001b[38;5;124m\"\u001b[39m\n",
      "\u001b[1;31mAssertionError\u001b[0m: i accidentally printed '6' because of the order of the statements"
     ]
    }
   ],
   "source": [
    "for i in range(10):\n",
    "    print(i)\n",
    "    assert i<=5, \"i accidentally printed '6' because of the order of the statements\""
   ]
  },
  {
   "cell_type": "code",
   "execution_count": 16,
   "id": "8ac36e93-ddc7-42eb-bc80-17f8c5734513",
   "metadata": {},
   "outputs": [
    {
     "ename": "ZeroDivisionError",
     "evalue": "division by zero",
     "output_type": "error",
     "traceback": [
      "\u001b[1;31m---------------------------------------------------------------------------\u001b[0m",
      "\u001b[1;31mZeroDivisionError\u001b[0m                         Traceback (most recent call last)",
      "Cell \u001b[1;32mIn[16], line 2\u001b[0m\n\u001b[0;32m      1\u001b[0m \u001b[38;5;66;03m#ZERO DIVISION ERROR\u001b[39;00m\n\u001b[1;32m----> 2\u001b[0m x\u001b[38;5;241m=\u001b[39m\u001b[38;5;241;43m1\u001b[39;49m\u001b[38;5;241;43m/\u001b[39;49m\u001b[38;5;241;43m0\u001b[39;49m\n",
      "\u001b[1;31mZeroDivisionError\u001b[0m: division by zero"
     ]
    }
   ],
   "source": [
    "#ZERO DIVISION ERROR\n",
    "x=1/0"
   ]
  },
  {
   "cell_type": "code",
   "execution_count": 18,
   "id": "9612aaca-a3b2-4be1-9f86-4f4e427c20fd",
   "metadata": {},
   "outputs": [
    {
     "name": "stdout",
     "output_type": "stream",
     "text": [
      "i am a cat\n",
      "1.0\n",
      "0.5\n",
      "0.3333333333333333\n",
      "0.25\n",
      "0.2\n",
      "0.16666666666666666\n",
      "0.14285714285714285\n",
      "0.125\n",
      "0.1111111111111111\n"
     ]
    }
   ],
   "source": [
    "for pokemon in range(10):\n",
    "    try:\n",
    "        print(1/pokemon)\n",
    "    except ZeroDivisionError: #using except with errors\n",
    "        print('i am a cat')"
   ]
  },
  {
   "cell_type": "code",
   "execution_count": 22,
   "id": "4ce346b9-23a1-4968-9cf0-81c216a26139",
   "metadata": {},
   "outputs": [
    {
     "name": "stdin",
     "output_type": "stream",
     "text": [
      "tell me your age a\n"
     ]
    },
    {
     "name": "stdout",
     "output_type": "stream",
     "text": [
      "pls give me a number pls pls pls\n"
     ]
    },
    {
     "name": "stdin",
     "output_type": "stream",
     "text": [
      "tell me your age b\n"
     ]
    },
    {
     "name": "stdout",
     "output_type": "stream",
     "text": [
      "pls give me a number pls pls pls\n"
     ]
    },
    {
     "name": "stdin",
     "output_type": "stream",
     "text": [
      "tell me your age c\n"
     ]
    },
    {
     "name": "stdout",
     "output_type": "stream",
     "text": [
      "pls give me a number pls pls pls\n"
     ]
    },
    {
     "name": "stdin",
     "output_type": "stream",
     "text": [
      "tell me your age 1\n"
     ]
    }
   ],
   "source": [
    "found = False\n",
    "while found == False:\n",
    "    try:\n",
    "        x=input('tell me your age')\n",
    "        x=int(x)\n",
    "        found=True\n",
    "    except ValueError:\n",
    "        print('pls give me a number pls pls pls')"
   ]
  },
  {
   "attachments": {},
   "cell_type": "markdown",
   "id": "1bdc997b",
   "metadata": {},
   "source": [
    "## 1.1 assert"
   ]
  },
  {
   "attachments": {},
   "cell_type": "markdown",
   "id": "df1c5035",
   "metadata": {},
   "source": [
    "## 1.2 try-except"
   ]
  },
  {
   "attachments": {},
   "cell_type": "markdown",
   "id": "97f2c746",
   "metadata": {},
   "source": [
    "## 1.3 A simple suggestion"
   ]
  },
  {
   "cell_type": "code",
   "execution_count": 28,
   "id": "4bcdcf1a-8abd-4747-a323-1ce89985fed3",
   "metadata": {},
   "outputs": [
    {
     "name": "stdout",
     "output_type": "stream",
     "text": [
      "6\n",
      "10\n",
      "19008\n"
     ]
    }
   ],
   "source": [
    "def vol_cuboid(length, width, height=5): #5 is the default value of height when no input parameter is given\n",
    "    return(length*width*height)\n",
    "\n",
    "x=vol_cuboid(1,2,3)\n",
    "print(x)\n",
    "\n",
    "y=vol_cuboid(1, 2)\n",
    "print(y)\n",
    "\n",
    "z=vol_cuboid(width=12, length=16, height=99)\n",
    "print(z)"
   ]
  },
  {
   "cell_type": "code",
   "execution_count": null,
   "id": "d73bc0ed-2578-46ab-98d4-10b55b95aefa",
   "metadata": {},
   "outputs": [],
   "source": []
  },
  {
   "attachments": {},
   "cell_type": "markdown",
   "id": "ddf87678",
   "metadata": {},
   "source": [
    "# 2 Some loose ends"
   ]
  },
  {
   "attachments": {},
   "cell_type": "markdown",
   "id": "e6b4ea8e",
   "metadata": {},
   "source": [
    "## 2.1 Positional, keyword and default arguments"
   ]
  },
  {
   "attachments": {},
   "cell_type": "markdown",
   "id": "718a8183",
   "metadata": {},
   "source": [
    "## 2.2 Docstrings"
   ]
  },
  {
   "cell_type": "code",
   "execution_count": 33,
   "id": "c8e234f4-92e7-4ac3-a22c-59ef53ac3091",
   "metadata": {},
   "outputs": [
    {
     "data": {
      "text/plain": [
       "np.float64(0.0)"
      ]
     },
     "execution_count": 33,
     "metadata": {},
     "output_type": "execute_result"
    }
   ],
   "source": [
    "#parse function into function\n",
    "\n",
    "import numpy as np\n",
    "\n",
    "def calculator(value, func):\n",
    "    '''This calculator works by inputing a value, parsing the function, and then BOOMZ''' #docstrings\n",
    "    return(func(value))\n",
    "\n",
    "calculator(0,np.sin)"
   ]
  },
  {
   "cell_type": "code",
   "execution_count": 36,
   "id": "cb252918-7011-4c15-bb66-33d8b2ee1f40",
   "metadata": {},
   "outputs": [
    {
     "data": {
      "text/plain": [
       "array([ 0.84147098,  0.90929743,  0.14112001, -0.7568025 , -0.95892427,\n",
       "       -0.2794155 ])"
      ]
     },
     "execution_count": 36,
     "metadata": {},
     "output_type": "execute_result"
    }
   ],
   "source": [
    "x=np.array([1, 2, 3, 4, 5, 6])\n",
    "calculator(x,np.sin)"
   ]
  },
  {
   "cell_type": "code",
   "execution_count": null,
   "id": "ec491085-66f5-45fe-b6b6-03744578b00b",
   "metadata": {},
   "outputs": [],
   "source": []
  },
  {
   "cell_type": "code",
   "execution_count": 34,
   "id": "63a68f7a-f132-4705-a4bd-1944748162c1",
   "metadata": {},
   "outputs": [
    {
     "name": "stdout",
     "output_type": "stream",
     "text": [
      "Help on function calculator in module __main__:\n",
      "\n",
      "calculator(value, func)\n",
      "    This calculator works by inputing a value, parsing the function, and then BOOMZ\n",
      "\n"
     ]
    }
   ],
   "source": [
    "#THIS IS A DOCSTRING IN USE!\n",
    "help(calculator)"
   ]
  },
  {
   "attachments": {},
   "cell_type": "markdown",
   "id": "f884a4cf",
   "metadata": {},
   "source": [
    "## 2.3 Function are first-class citizens"
   ]
  },
  {
   "attachments": {},
   "cell_type": "markdown",
   "id": "ea8e4200",
   "metadata": {},
   "source": [
    "## 2.4 More about unpacking"
   ]
  },
  {
   "cell_type": "code",
   "execution_count": 41,
   "id": "169d867e-783d-4d59-95c8-2456063373b8",
   "metadata": {},
   "outputs": [],
   "source": [
    "#UNPACKING\n",
    "\n",
    "def vol_cuboid(length, width, height=5): \n",
    "    return([length*width*height, length, width, height]) #using the square brackets to make outputs into a list"
   ]
  },
  {
   "cell_type": "code",
   "execution_count": 43,
   "id": "2b5254aa-38ab-49fc-bd23-25ef9857d4a0",
   "metadata": {},
   "outputs": [
    {
     "data": {
      "text/plain": [
       "[6, 1, 2, 3]"
      ]
     },
     "execution_count": 43,
     "metadata": {},
     "output_type": "execute_result"
    }
   ],
   "source": [
    "vol_cuboid(1,2,3) #function can return multiple variables"
   ]
  },
  {
   "cell_type": "code",
   "execution_count": 46,
   "id": "d8d29afb-dbda-462d-ac8f-68e536da6d79",
   "metadata": {},
   "outputs": [
    {
     "data": {
      "text/plain": [
       "6"
      ]
     },
     "execution_count": 46,
     "metadata": {},
     "output_type": "execute_result"
    }
   ],
   "source": [
    "#selecting the elemets\n",
    "\n",
    "volume = vol_cuboid(1,2,3)[0]\n",
    "volume"
   ]
  },
  {
   "cell_type": "code",
   "execution_count": null,
   "id": "01b919e0-c457-491d-b8ef-fbc58aa4ee83",
   "metadata": {},
   "outputs": [],
   "source": [
    "#more convinient using dimensions\n",
    "\n",
    "volume = vol_cuboid\n"
   ]
  }
 ],
 "metadata": {
  "kernelspec": {
   "display_name": "Python 3 (ipykernel)",
   "language": "python",
   "name": "python3"
  },
  "language_info": {
   "codemirror_mode": {
    "name": "ipython",
    "version": 3
   },
   "file_extension": ".py",
   "mimetype": "text/x-python",
   "name": "python",
   "nbconvert_exporter": "python",
   "pygments_lexer": "ipython3",
   "version": "3.12.3"
  },
  "toc": {
   "base_numbering": 1,
   "nav_menu": {},
   "number_sections": true,
   "sideBar": true,
   "skip_h1_title": false,
   "title_cell": "Table of Contents",
   "title_sidebar": "Contents",
   "toc_cell": false,
   "toc_position": {},
   "toc_section_display": true,
   "toc_window_display": false
  },
  "vscode": {
   "interpreter": {
    "hash": "31f2aee4e71d21fbe5cf8b01ff0e069b9275f58929596ceb00d14d90e3e16cd6"
   }
  }
 },
 "nbformat": 4,
 "nbformat_minor": 5
}
