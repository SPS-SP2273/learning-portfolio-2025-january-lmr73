{
 "cells": [
  {
   "attachments": {},
   "cell_type": "markdown",
   "id": "123456",
   "metadata": {},
   "source": [
    "<div style=\"text-align:left;font-size:2em\"><span style=\"font-weight:bolder;font-size:1.25em\">SP2273 | Learning Portfolio</span><br><br><span style=\"font-weight:bold;color:darkred\">VIVA NOTES</span></div>"
   ]
  },
  {
   "attachments": {},
   "cell_type": "markdown",
   "id": "b29a783c",
   "metadata": {},
   "source": [
    "# Markdown syntax"
   ]
  },
  {
   "cell_type": "markdown",
   "id": "4c508056-8473-4c9e-8b43-bd36a6ae9d7c",
   "metadata": {},
   "source": [
    "**Bold**\t** ** or __ __ \\\n",
    "**Italic**\t* * or _ _ \\\n",
    "**All bold and italic**\t*** *** \\\n",
    "**Subscript**\t<sub> </sub> \\\n",
    "**Superscript**\t<sup> </sup> \\\n",
    "\\\n",
    "[display text](link address)\n",
    "\\\n",
    "\\\n",
    "![](image link address)\n",
    "\\\n",
    "\\\n",
    "tables [https://www.tablesgenerator.com/markdown_tables#google_vignette](https://www.tablesgenerator.com/markdown_tables#google_vignette) \n",
    "1. list\n",
    "1. list\n",
    "1. list\n",
    "\n",
    "\n",
    "\n",
    "**Inline math**  $\\sqrt{b^2-4ac}$\n",
    "\n",
    "**Math block**\n",
    "$$\n",
    "x = \\dfrac{-b \\pm \\sqrt{b^2-4ac}}{2a}\n",
    "$$\n"
   ]
  },
  {
   "cell_type": "markdown",
   "id": "33ae4406-8450-4b20-9e04-f7df60e00d36",
   "metadata": {},
   "source": [
    "## Types of cats\n",
    "\n",
    "### Cute cats\n",
    "\n",
    "hello **kitty** *meow* <sub>cute</sub>"
   ]
  },
  {
   "cell_type": "markdown",
   "id": "1cc67841-cb12-4ac2-acce-ae1881f85412",
   "metadata": {},
   "source": [
    "# GitHub info\n",
    "**What is a Git repository?** \n",
    "It is the cloud-based GitHub page used to store and share code, allowing collaboration. \n",
    "\n",
    "**Git keeps track of ____BLANK____ in the files in our repository.**\n",
    "\"Changes\"\n",
    "\n",
    "**What is a commit?**\n",
    "It is like saving a changes to the file after editing its code. \n",
    "\n",
    "**What is a push?**\n",
    "To upload and sync new changes to the Github cloud.\n",
    "\n",
    "**What is a pull?**\n",
    "To sync new changes from the cloud onto the local device. \n",
    "\n",
    "**What is the difference between GitHub and GitHub Desktop?**\n",
    "GitHub: main location for files, stored in the cloud (Github servers). GitHub Desktop: GUI to access and change the Learning Portfolio files on the online GitHub by syncing it with the changes made on the local machine. "
   ]
  },
  {
   "cell_type": "code",
   "execution_count": 5,
   "id": "9e19c154-ed8b-4162-a45b-6d5fedf9d1b0",
   "metadata": {},
   "outputs": [],
   "source": [
    "%%timeit\n",
    "#code here"
   ]
  },
  {
   "cell_type": "code",
   "execution_count": null,
   "id": "414e09fd-4ab4-4c05-98d7-67636446587d",
   "metadata": {},
   "outputs": [],
   "source": [
    "#print cwd\n",
    "!cd\n",
    "\n",
    "#list all files in folder\n",
    "!dir"
   ]
  },
  {
   "cell_type": "markdown",
   "id": "c19fdf15-0475-4f6e-bbe6-0c845fde9200",
   "metadata": {},
   "source": [
    "# Fundamentals"
   ]
  },
  {
   "cell_type": "code",
   "execution_count": 26,
   "id": "8c6a6cdb-edc2-4e89-b6e2-42ee6396f099",
   "metadata": {},
   "outputs": [
    {
     "name": "stdout",
     "output_type": "stream",
     "text": [
      "hewwo woo hewwo woo hewwo woo \n",
      "cat goesmeowmeowmeow\n",
      "break line\n",
      "break line\n",
      "break line\n",
      "\n",
      "comma syntax hmm\n"
     ]
    }
   ],
   "source": [
    "print (\"hewwo woo \"*3)\n",
    "print(\"cat goes\"+\"meow\"*3)\n",
    "print(\"break line\\n\"*3)\n",
    "print(\"comma\",\"syntax\", \"hmm\",end=\"\\n\")"
   ]
  },
  {
   "cell_type": "code",
   "execution_count": 30,
   "id": "c4483c8a-bab2-48a7-b45e-d563bea331b7",
   "metadata": {},
   "outputs": [
    {
     "name": "stdout",
     "output_type": "stream",
     "text": [
      "['I', 'am', 'Batman']\n",
      "MEOW MEOW CAT\n",
      "haha\n",
      "Moomoo Cow\n"
     ]
    }
   ],
   "source": [
    "a=\"I am Batman\".split()\n",
    "\n",
    "b='meow meow cat'.upper() #.lower()\n",
    "c='hehe'.replace('e','a')\n",
    "d='moomoo cow'.title()\n",
    "\n",
    "print(a,b,c,d, sep='\\n')"
   ]
  },
  {
   "cell_type": "code",
   "execution_count": 31,
   "id": "c1bd8922-4e7d-4a58-9e10-71dcd60216c5",
   "metadata": {},
   "outputs": [
    {
     "name": "stdout",
     "output_type": "stream",
     "text": [
      "<class 'str'> <class 'int'> <class 'float'>\n"
     ]
    }
   ],
   "source": [
    "a=type('meow')\n",
    "b=type(1)\n",
    "c=type(1.5)\n",
    "print(a,b,c)"
   ]
  },
  {
   "cell_type": "code",
   "execution_count": null,
   "id": "93693dcf-bb6d-4c5a-8b43-d8b13249dd05",
   "metadata": {},
   "outputs": [],
   "source": [
    "import math\n",
    "import numpy\n",
    "\n",
    "math.sqrt(4)\n",
    "np.sqrt(4)"
   ]
  },
  {
   "cell_type": "code",
   "execution_count": 57,
   "id": "b31026fe-beae-4acb-99b0-88149d4cdd4f",
   "metadata": {},
   "outputs": [],
   "source": [
    "x = [1, 2]\n",
    "y = x #y will be bound to the SAME list object with a value [1 ,2]\n",
    "y = x.copy() \n",
    "y.append(3)"
   ]
  },
  {
   "cell_type": "code",
   "execution_count": 25,
   "id": "b67d9830-87ad-40b8-909a-5c6f0520c795",
   "metadata": {},
   "outputs": [],
   "source": [
    "#asking for help\n",
    "?print\n",
    "help(print)"
   ]
  },
  {
   "cell_type": "code",
   "execution_count": 58,
   "id": "4d8631fd-ed32-4de6-95ae-bf51fb77476e",
   "metadata": {},
   "outputs": [
    {
     "data": {
      "text/plain": [
       "1"
      ]
     },
     "execution_count": 58,
     "metadata": {},
     "output_type": "execute_result"
    }
   ],
   "source": [
    "5/2           # division to obtain floating point value\n",
    "5//2          # division to obtain quotient\n",
    "5%2           # division to obtain the remainder"
   ]
  },
  {
   "cell_type": "markdown",
   "id": "a1cc5793-1359-471f-a5f2-dcfc1ce96ddd",
   "metadata": {},
   "source": [
    "## IF"
   ]
  },
  {
   "cell_type": "code",
   "execution_count": null,
   "id": "4ce2fb21-1999-42ef-b109-c367354ad5a8",
   "metadata": {},
   "outputs": [],
   "source": [
    "if name == 'Batman':\n",
    "    print('Hello Batman!')\n",
    "elif name == 'Robin':\n",
    "    print('Hello Sidekick!')\n",
    "else:\n",
    "    print('Hello World!')"
   ]
  },
  {
   "cell_type": "code",
   "execution_count": 36,
   "id": "ce14a617-9542-4857-b0d5-ce2698e5f9ce",
   "metadata": {},
   "outputs": [
    {
     "data": {
      "text/plain": [
       "False"
      ]
     },
     "execution_count": 36,
     "metadata": {},
     "output_type": "execute_result"
    }
   ],
   "source": [
    "x=0\n",
    "(x<5) or (x>8)\n",
    "(x<5) and (x>8)"
   ]
  },
  {
   "cell_type": "code",
   "execution_count": 47,
   "id": "f7b66988-7234-464f-b42b-2e7b3be400ea",
   "metadata": {},
   "outputs": [
    {
     "name": "stdout",
     "output_type": "stream",
     "text": [
      "False True True\n"
     ]
    }
   ],
   "source": [
    "a=\"a\" in ['apple','dog','cat']\n",
    "b=\"apple\" in ['apple','dog','cat']\n",
    "c='app' in 'apple'\n",
    "print(a, b, c)"
   ]
  },
  {
   "cell_type": "code",
   "execution_count": 45,
   "id": "5a2a5cb7-1e2b-492c-bebd-9a4c5f23b7a3",
   "metadata": {},
   "outputs": [],
   "source": [
    "x = float(x) #converting to float, int, str\n",
    "np.isclose(a3,3*a) #numpy comparison for floats"
   ]
  },
  {
   "cell_type": "code",
   "execution_count": 53,
   "id": "e60418e5-a6aa-4b88-8186-57118e738146",
   "metadata": {},
   "outputs": [
    {
     "name": "stdout",
     "output_type": "stream",
     "text": [
      "Hello Batman!\n"
     ]
    }
   ],
   "source": [
    "name = 'Batman'\n",
    "\n",
    "match name:\n",
    "    case 'Batman':\n",
    "        print('Hello Batman!')\n",
    "    case 'Robin':\n",
    "        print('Hello Robin!')\n",
    "    case _:\n",
    "        print('Hello World!')"
   ]
  },
  {
   "cell_type": "code",
   "execution_count": 56,
   "id": "7ad27b32-45d0-4a75-9f44-da7476ea4381",
   "metadata": {},
   "outputs": [
    {
     "data": {
      "text/plain": [
       "'Bonjour!'"
      ]
     },
     "execution_count": 56,
     "metadata": {},
     "output_type": "execute_result"
    }
   ],
   "source": [
    "nationality='French'\n",
    "greeting = \"Bonjour!\" if nationality == 'French' else \"Hello!\"\n",
    "(\"Hello!\", \"Bonjour!\")[nationality == 'French']\n",
    "{False: \"Hello!\", True: \"Bonjour!\"}[nationality == 'French']"
   ]
  },
  {
   "cell_type": "markdown",
   "id": "d8dc79d4-5d45-4916-aa11-0e4bc9022d87",
   "metadata": {},
   "source": [
    "## F strings\n",
    "[link to syntax](https://sps.nus.edu.sg/sp2273/docs/python_basics/02_basics/2_basics_good.html)"
   ]
  },
  {
   "cell_type": "code",
   "execution_count": 49,
   "id": "7d550cb3-65b5-4dff-8b1c-ee67e877c8d0",
   "metadata": {},
   "outputs": [
    {
     "name": "stdout",
     "output_type": "stream",
     "text": [
      "x=42 and y=24\n"
     ]
    }
   ],
   "source": [
    "#syntax {X:>0Y.ZW}\n",
    "x, y= 42, 24\n",
    "print(f'{x=} and {y=}')"
   ]
  },
  {
   "cell_type": "code",
   "execution_count": 73,
   "id": "6b5f84a1-f738-4d46-8143-47d5c09f5dc0",
   "metadata": {},
   "outputs": [
    {
     "name": "stdout",
     "output_type": "stream",
     "text": [
      "The value of pi to 1 decimal places is: 3.1\n",
      "The value of pi to 2 decimal places is: 3.14\n",
      "The value of pi to 3 decimal places is: 3.142\n",
      "Apple     $0.99\n",
      "Banana    $0.59\n",
      "Orange    $1.29\n",
      "\n"
     ]
    }
   ],
   "source": [
    "pi = 3.141592\n",
    "for x in range(1,4):\n",
    "    print(f'The value of pi to {x} decimal places is: {pi:.{x}f}')\n",
    "\n",
    "print(f'{'Apple ':<10}{'$0.99':>5}{'\\n'}{'Banana ':<10}{'$0.59':>5}{'\\n'}{'Orange ':<10}{'$1.29':>5}{'\\n'}')"
   ]
  },
  {
   "cell_type": "markdown",
   "id": "46cdfb80-42ab-4e03-9eb0-280f92ab2f89",
   "metadata": {},
   "source": [
    "# Lists"
   ]
  },
  {
   "cell_type": "code",
   "execution_count": null,
   "id": "a128c35d-c76f-4af9-80cc-5ae5b93ec8d2",
   "metadata": {},
   "outputs": [],
   "source": [
    "py_list=[1,2,3,4,5] #For growing numbers, adding to list\n",
    "np_array=np.array([1,2,3,4,5]) #or\n",
    "np_array=np.array(py_list) #For math calculations\n",
    "\n",
    "#list works as a whole\n",
    "#arrays works with individual elements within\n",
    "\n",
    "np_array +1 #add 1 to each element\n",
    "py_list +[1] #add [1] to the list\n",
    "\n",
    "py_list*2 #make the list twice\n",
    "np_array*2 #multiply each element by 2\n",
    "\n",
    "len(py_list) #length of list\n",
    "len(np_array) \n",
    "\n",
    "np_array.size #length\n",
    "np_array.shape\n",
    "\n",
    "#asking question\n",
    "'a' in ['a','b','c']\n",
    "\n",
    "#numpy arrays do not tolerate different types, converts lists all into the same type\n",
    "#lists allows different types eg. str, int, float..."
   ]
  },
  {
   "cell_type": "code",
   "execution_count": 90,
   "id": "9b10eac8-f78e-45e3-a617-805b53cfa081",
   "metadata": {},
   "outputs": [
    {
     "data": {
      "text/plain": [
       "[0, 1, 2, 3, 4, 5]"
      ]
     },
     "execution_count": 90,
     "metadata": {},
     "output_type": "execute_result"
    }
   ],
   "source": [
    "list(range(6)) #making a list "
   ]
  },
  {
   "cell_type": "code",
   "execution_count": null,
   "id": "f57c2b2e-aadf-4c37-89f2-1457f7ddbf09",
   "metadata": {},
   "outputs": [],
   "source": [
    "#concatenate lists\n",
    "py_list_again=[1,2]+[8,9,0]+['A','B']\n",
    "\n",
    "#addition of each element\n",
    "np.array([1,2,3])+np.array([8,9,0]) \n",
    "\n",
    "x=[1,2,3]\n",
    "x[0]=1000 #1 changed to 1000\n",
    "\n",
    "y=(1,2,3) #TUPLES have list attributes but cannot be changed eg. for experiment constants."
   ]
  },
  {
   "cell_type": "code",
   "execution_count": 9,
   "id": "b5a71042-75f8-43bd-b65b-6663d205a059",
   "metadata": {},
   "outputs": [],
   "source": [
    "py_list = [1, 2, 3, 4, 5]   # A 1D list\n",
    "\n",
    "py_list_2 = [               # A 2D list\n",
    "                [1, \"A\"],      \n",
    "                [2, \"B\"],\n",
    "                [3, \"C\"],\n",
    "                [4, \"D\"],\n",
    "                [5, \"E\"]\n",
    "            ]\n",
    "#indexing\n",
    "py_list_2d[0][1] #returns 'A'\n",
    "py_list_2d[1:4] #returns 3 lists\n",
    "np_array_2d[0,1] #returns 'A\n",
    "np_array_2d[:,0] #returns 1,2,3,4,5 -- syntax np_array_2d[start:end,value]"
   ]
  },
  {
   "cell_type": "code",
   "execution_count": null,
   "id": "d8cb8e97-4e97-471a-9351-615fa041ffa0",
   "metadata": {},
   "outputs": [],
   "source": [
    "#convert to int to do math\n",
    "np_array_2d[1:4,0].astype(int)*2 #positions 2 to 4, first value, *2\n",
    "\n",
    "sum(py_list)     # sum() is a base Python function\n",
    "max(py_list)     # max() is a base Python function\n",
    "min(py_list)     # min() is a base Python function\n",
    "np_array.sum()\n",
    "np_array.max()\n",
    "np_array.min()\n",
    "np_array.mean()\n",
    "np_array.std()"
   ]
  },
  {
   "cell_type": "code",
   "execution_count": null,
   "id": "e0d7269a-6444-4423-bde1-550dc42cbdec",
   "metadata": {},
   "outputs": [],
   "source": [
    "sum(happy_array==1) #how many '1' in array\n",
    "\n",
    "odd = numbers%2 \n",
    "odd = odd != 0 #'odd' is an array of TRUE for odd, FALSE for even\n",
    "np_array_2d[odd,1]) #printing the mask, only values"
   ]
  },
  {
   "cell_type": "markdown",
   "id": "c62555bd-3eed-4d7c-92f5-0d98c5b2f1ec",
   "metadata": {},
   "source": [
    "## Masking"
   ]
  },
  {
   "cell_type": "code",
   "execution_count": null,
   "id": "07b3f246-67f8-42a2-8368-8a41242ef228",
   "metadata": {},
   "outputs": [],
   "source": [
    "#subsetting \n",
    "my_rand_numbers[-1] #[] subsetting an array.\n",
    "    #start counting from 0, -1 to count from the back\n",
    "\n",
    "py_list[3:6] #SLICING = subset a range, returns 3,4,5\n",
    "py_list[3:] #4 onwards\n",
    "py_list[:-2] #until 3rd last\n",
    "py_list[-1::-1] #REVERSE list from end to start, going backwards\n",
    "py_list[::2] #SKIPPING\n",
    "\n",
    "my_rand_numbers=np.random.randint(0,100,10) #start, stop, number of outputs\n",
    "my_rand_numbers<50 #true false array\n",
    "\n",
    "mask=my_rand_numbers<50 \n",
    "mask=(my_rand_numbers<50)&(my_rand_numbers%2==0)\n",
    "my_rand_numbers[mask]\n",
    "\n",
    "mask=funny_array<69\n",
    "funny_array[mask] = 1 #all elements below '69' are changed to '1'"
   ]
  },
  {
   "cell_type": "markdown",
   "id": "f95be1a5-8d0d-473f-8cc3-8272baf1a292",
   "metadata": {},
   "source": [
    "# Dictionary"
   ]
  },
  {
   "cell_type": "code",
   "execution_count": 11,
   "id": "280470ac-2730-4ead-99fb-e98e59acacf4",
   "metadata": {},
   "outputs": [
    {
     "name": "stdout",
     "output_type": "stream",
     "text": [
      "Bruce Wayne\n"
     ]
    }
   ],
   "source": [
    "personal_info = {\n",
    "    'Names': 'Batman',  #dictionary can contain lists, arrays, dictionaries\n",
    "    'Real Name': 'Bruce Wayne', #case-sensitive\n",
    "    'Age': 55,\n",
    "    'Affiliation': 'Justice League',\n",
    "    'Universe': 'DC'\n",
    "}\n",
    "#indexing -- print(dictionary[key]) > value\n",
    "print(personal_info['Real Name'])\n",
    "\n",
    "dictionary_name['key_value'][1] #indexing a list within a dictionary"
   ]
  },
  {
   "cell_type": "code",
   "execution_count": null,
   "id": "c502822e-7d28-4ffd-b03f-e9fb714fef31",
   "metadata": {},
   "outputs": [],
   "source": [
    "superhero_info.keys() #return all keys\n",
    "superhero_info.values() #return all values"
   ]
  },
  {
   "cell_type": "markdown",
   "id": "00fc2140-f5a7-4695-9087-9c6a3e2b702e",
   "metadata": {},
   "source": [
    "# Loops"
   ]
  },
  {
   "cell_type": "code",
   "execution_count": null,
   "id": "adaab270-ca65-4c8e-a6b6-3701e37fc86a",
   "metadata": {},
   "outputs": [],
   "source": [
    "for x in funny_list:\n",
    "    print(f'hi{x}')\n",
    "\n",
    "for count, name in enumerate(funny_list):\n",
    "    print(f'{count}: {name}') #0, 1, 2, \n",
    "\n",
    "for index, name in enumerate(real_names,100): #start count from 100\n",
    "    superhero_name = super_names[index] #returns [x] value in super_name list\n",
    "    print(f'{name} is {superhero_name}!') \n",
    "\n",
    "for i in range(1, 10, 3): #range(start, stop, skip)\n",
    "    print(i)\n",
    "    \n",
    "for i in range(len(real_names)):\n",
    "    real_name = real_names[i]\n",
    "    super_name = super_names[i]        \n",
    "    print(f\"{real_name} is Marvel's {super_name}!\")\n",
    "\n",
    "number = 0\n",
    "while number < 5:\n",
    "    print(number)\n",
    "    number += 1"
   ]
  },
  {
   "cell_type": "code",
   "execution_count": null,
   "id": "e9fbe2d9-bf3c-4005-bbe5-93ad6ce8f907",
   "metadata": {},
   "outputs": [],
   "source": [
    "for power in range(5):\n",
    "    number = 10**power\n",
    "    if number > 5000:\n",
    "        break #terminate loop\n",
    "    print(power, number)\n",
    "\n",
    "for power in range(5):\n",
    "    if power == 3:\n",
    "        continue        # Don't proceed further, IN THE CURRENT LOOP\n",
    "    number = 10**power\n",
    "    print(power, number)"
   ]
  },
  {
   "cell_type": "code",
   "execution_count": null,
   "id": "d8b3db2d-46c2-4e0a-8f3d-4a6bdb03a2f5",
   "metadata": {},
   "outputs": [],
   "source": [
    "[number for number in range(10) if number % 2 ==0]\n",
    "#[x for x in range(n) if x condition]\n",
    "\n",
    "for element_1, element_2 in 2d_list:\n",
    "    print(f\"{element_1}, {element_2}\")\n",
    "\n",
    "for element_1, element_2 in zip(1d_list_a,1d_list_b):\n",
    "    print(f\"{element_1}, {element_2}\")"
   ]
  },
  {
   "cell_type": "code",
   "execution_count": 85,
   "id": "e2ca30fa-1d99-47ff-9235-909e71eee007",
   "metadata": {},
   "outputs": [
    {
     "data": {
      "text/plain": [
       "[1, 2, 3, 4, 5, 6, 7]"
      ]
     },
     "execution_count": 85,
     "metadata": {},
     "output_type": "execute_result"
    }
   ],
   "source": [
    "#Flatten 2d list\n",
    "\n",
    "nested_list=[[1, 2, 3], [4, 5, 6, 7]]\n",
    "[y for x in nested_list for y in x]\n",
    "\n",
    "output =[] #longer method\n",
    "for x in nested_list:\n",
    "    for y in x:\n",
    "        output.append(y)\n",
    "\n",
    "output"
   ]
  },
  {
   "cell_type": "code",
   "execution_count": null,
   "id": "1f7fca0b-2310-4f75-8946-1074b415ccc1",
   "metadata": {},
   "outputs": [],
   "source": [
    "#DICTIONARY\n",
    "for key, value in superhero_info.items():\n",
    "    print(f\"{key}, {value}\")\n",
    "\n",
    "for key in superhero_info.keys():\n",
    "    value=superhero_info[key]\n",
    "    print(f\"{key},{value}\")"
   ]
  },
  {
   "cell_type": "code",
   "execution_count": null,
   "id": "3d7d5314-dd8d-4439-9449-25b494491ab1",
   "metadata": {
    "jupyter": {
     "source_hidden": true
    }
   },
   "outputs": [],
   "source": [
    "#combine two lists into a dictionary\n",
    "dict(zip(list1, list2))"
   ]
  },
  {
   "cell_type": "code",
   "execution_count": 86,
   "id": "37e956d3-8ab3-46ea-b501-735083fcc9b3",
   "metadata": {},
   "outputs": [
    {
     "name": "stdout",
     "output_type": "stream",
     "text": [
      "A1\tA2\tA3\t\n",
      "\n",
      "B1\tB2\tB3\t\n",
      "\n",
      "C1\tC2\tC3\t\n",
      "\n"
     ]
    }
   ],
   "source": [
    "for letter in ['A', 'B', 'C']:\n",
    "    for number in [1, 2, 3]:\n",
    "        print(f'{letter}{number}', end='\\t')\n",
    "    print('\\n')"
   ]
  },
  {
   "cell_type": "code",
   "execution_count": 92,
   "id": "3284bbb2-5b15-4c4b-91d9-0784c8b15a06",
   "metadata": {},
   "outputs": [],
   "source": [
    "#sum(heads) works as the output of print(heads) is True/False: True = 1 and False = 0"
   ]
  },
  {
   "cell_type": "markdown",
   "id": "e9509970-bee0-445f-ab80-9d3239948a46",
   "metadata": {},
   "source": [
    "# Functions"
   ]
  },
  {
   "cell_type": "code",
   "execution_count": 74,
   "id": "cd08ad85-0ddb-4a07-915a-a2a0b31caca2",
   "metadata": {},
   "outputs": [
    {
     "name": "stdin",
     "output_type": "stream",
     "text": [
      "Enter the student's score:  99\n"
     ]
    },
    {
     "name": "stdout",
     "output_type": "stream",
     "text": [
      "The student's letter grade is: A\n"
     ]
    }
   ],
   "source": [
    "score_input = int(input(\"Enter the student's score: \"))\n",
    "\n",
    "def grade(score_input):\n",
    "    if score_input >= 70:\n",
    "        x='A'\n",
    "    elif score_input >= 50:\n",
    "        x='B'\n",
    "    elif score_input >= 35:\n",
    "        x='C'\n",
    "    elif score_input >= 0:\n",
    "        x='Fail'  #do not print within the function. assign outputs as 'x'\n",
    "    return x #return 'x'\n",
    "\n",
    "print(f\"The student's letter grade is: {grade(score_input)}\")"
   ]
  },
  {
   "cell_type": "code",
   "execution_count": 79,
   "id": "a918e48b-7fa6-42ed-98e3-014827716ed8",
   "metadata": {},
   "outputs": [],
   "source": [
    "def factorial(n):\n",
    "    if n < 0:\n",
    "        return \"Invalid input\"\n",
    "    elif n == 0:\n",
    "        return 1\n",
    "    else:\n",
    "        result = 1\n",
    "        for number in range(1, n+1):\n",
    "            result *= number\n",
    "    return result"
   ]
  },
  {
   "cell_type": "code",
   "execution_count": null,
   "id": "86c38813-e55d-427d-a347-071770307dca",
   "metadata": {},
   "outputs": [],
   "source": []
  }
 ],
 "metadata": {
  "kernelspec": {
   "display_name": "Python 3 (ipykernel)",
   "language": "python",
   "name": "python3"
  },
  "language_info": {
   "codemirror_mode": {
    "name": "ipython",
    "version": 3
   },
   "file_extension": ".py",
   "mimetype": "text/x-python",
   "name": "python",
   "nbconvert_exporter": "python",
   "pygments_lexer": "ipython3",
   "version": "3.12.3"
  },
  "toc": {
   "base_numbering": 1,
   "nav_menu": {},
   "number_sections": true,
   "sideBar": true,
   "skip_h1_title": false,
   "title_cell": "Table of Contents",
   "title_sidebar": "Contents",
   "toc_cell": false,
   "toc_position": {},
   "toc_section_display": true,
   "toc_window_display": false
  },
  "vscode": {
   "interpreter": {
    "hash": "31f2aee4e71d21fbe5cf8b01ff0e069b9275f58929596ceb00d14d90e3e16cd6"
   }
  }
 },
 "nbformat": 4,
 "nbformat_minor": 5
}
