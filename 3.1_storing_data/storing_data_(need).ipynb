{
 "cells": [
  {
   "attachments": {},
   "cell_type": "markdown",
   "id": "123456",
   "metadata": {},
   "source": [
    "<div style=\"text-align:left;font-size:2em\"><span style=\"font-weight:bolder;font-size:1.25em\">SP2273 | Learning Portfolio</span><br><br><span style=\"font-weight:bold;color:darkred\">Storing Data (Need)</span></div>"
   ]
  },
  {
   "attachments": {},
   "cell_type": "markdown",
   "id": "0dfa6456",
   "metadata": {},
   "source": [
    "# What to expect in this chapter"
   ]
  },
  {
   "attachments": {},
   "cell_type": "markdown",
   "id": "d35d09f5",
   "metadata": {},
   "source": [
    "# 1 Lists, Arrays & Dictionaries"
   ]
  },
  {
   "cell_type": "code",
   "execution_count": 10,
   "id": "cf667213-492f-4985-ae90-72c4dc91d8c0",
   "metadata": {},
   "outputs": [
    {
     "ename": "SyntaxError",
     "evalue": "cannot assign to literal here. Maybe you meant '==' instead of '='? (3026366143.py, line 1)",
     "output_type": "error",
     "traceback": [
      "\u001b[1;36m  Cell \u001b[1;32mIn[10], line 1\u001b[1;36m\u001b[0m\n\u001b[1;33m    'list'=[1,2,3,4,5] #DO NOT use \"list\" as a variable, it is python keyword. Function will be overidded.\u001b[0m\n\u001b[1;37m    ^\u001b[0m\n\u001b[1;31mSyntaxError\u001b[0m\u001b[1;31m:\u001b[0m cannot assign to literal here. Maybe you meant '==' instead of '='?\n"
     ]
    }
   ],
   "source": [
    "'list'=[1,2,3,4,5] #DO NOT use \"list\" as a variable, it is python keyword. Function will be overidded. "
   ]
  },
  {
   "cell_type": "code",
   "execution_count": 12,
   "id": "973f9e85-c4da-44a1-88c9-d0954216110f",
   "metadata": {},
   "outputs": [
    {
     "ename": "TypeError",
     "evalue": "'int' object is not callable",
     "output_type": "error",
     "traceback": [
      "\u001b[1;31m---------------------------------------------------------------------------\u001b[0m",
      "\u001b[1;31mTypeError\u001b[0m                                 Traceback (most recent call last)",
      "Cell \u001b[1;32mIn[12], line 3\u001b[0m\n\u001b[0;32m      1\u001b[0m \u001b[38;5;66;03m#example\u001b[39;00m\n\u001b[0;32m      2\u001b[0m \u001b[38;5;28mprint\u001b[39m\u001b[38;5;241m=\u001b[39m\u001b[38;5;241m2\u001b[39m\n\u001b[1;32m----> 3\u001b[0m \u001b[38;5;28;43mprint\u001b[39;49m\u001b[43m \u001b[49m\u001b[43m(\u001b[49m\u001b[38;5;124;43m'\u001b[39;49m\u001b[38;5;124;43mhahaha\u001b[39;49m\u001b[38;5;124;43m'\u001b[39;49m\u001b[43m)\u001b[49m\n",
      "\u001b[1;31mTypeError\u001b[0m: 'int' object is not callable"
     ]
    }
   ],
   "source": [
    "#example\n",
    "print=2\n",
    "print ('hahaha')"
   ]
  },
  {
   "cell_type": "code",
   "execution_count": 15,
   "id": "e6418edb-890d-42b4-8b0c-893663314c34",
   "metadata": {},
   "outputs": [],
   "source": [
    "import numpy as np"
   ]
  },
  {
   "cell_type": "code",
   "execution_count": 22,
   "id": "119a8555-1a82-4f84-8231-b1da4a25078d",
   "metadata": {},
   "outputs": [],
   "source": [
    "py_list=[1,2,3,4,5] #for growing numbers, adding to list. Convert to numpy_array before calculations."
   ]
  },
  {
   "cell_type": "code",
   "execution_count": 18,
   "id": "e079eb32-6987-4742-bd87-8c7cf24d807b",
   "metadata": {},
   "outputs": [
    {
     "data": {
      "text/plain": [
       "[1, 2, 3, 4, 5]"
      ]
     },
     "execution_count": 18,
     "metadata": {},
     "output_type": "execute_result"
    }
   ],
   "source": [
    "py_list"
   ]
  },
  {
   "cell_type": "code",
   "execution_count": 19,
   "id": "e4476a9d-e6ea-4ff0-b950-6d3ff88f8592",
   "metadata": {},
   "outputs": [],
   "source": [
    "np_array=np.array([1,2,3,4,5]) #for math and science calculations"
   ]
  },
  {
   "cell_type": "code",
   "execution_count": 21,
   "id": "474d02eb-7994-450e-b472-82c40c9a70a1",
   "metadata": {},
   "outputs": [
    {
     "data": {
      "text/plain": [
       "array([1, 2, 3, 4, 5])"
      ]
     },
     "execution_count": 21,
     "metadata": {},
     "output_type": "execute_result"
    }
   ],
   "source": [
    "np_array"
   ]
  },
  {
   "cell_type": "code",
   "execution_count": 23,
   "id": "39ccd684-bf19-43a2-a731-532ee0395afd",
   "metadata": {},
   "outputs": [],
   "source": [
    "np_array=np.array(py_list)"
   ]
  },
  {
   "attachments": {},
   "cell_type": "markdown",
   "id": "959ea6ce",
   "metadata": {},
   "source": [
    "## 1.1 Let’s compare"
   ]
  },
  {
   "attachments": {},
   "cell_type": "markdown",
   "id": "2175a48e",
   "metadata": {},
   "source": [
    "## 1.2 Accessing data from a list (or array)"
   ]
  },
  {
   "attachments": {},
   "cell_type": "markdown",
   "id": "4386f9c4",
   "metadata": {},
   "source": [
    "## 1.3 Accessing data from a dictionary"
   ]
  },
  {
   "attachments": {},
   "cell_type": "markdown",
   "id": "f791bb6d",
   "metadata": {},
   "source": [
    "## 1.4 Higher dimensional lists"
   ]
  },
  {
   "attachments": {},
   "cell_type": "markdown",
   "id": "e365ceb9",
   "metadata": {},
   "source": [
    "# 2 Lists vs. Arrays"
   ]
  },
  {
   "cell_type": "code",
   "execution_count": 27,
   "id": "92d42873-2af4-4c81-bb61-2680d375c21b",
   "metadata": {},
   "outputs": [
    {
     "ename": "TypeError",
     "evalue": "can only concatenate list (not \"int\") to list",
     "output_type": "error",
     "traceback": [
      "\u001b[1;31m---------------------------------------------------------------------------\u001b[0m",
      "\u001b[1;31mTypeError\u001b[0m                                 Traceback (most recent call last)",
      "Cell \u001b[1;32mIn[27], line 4\u001b[0m\n\u001b[0;32m      1\u001b[0m \u001b[38;5;66;03m#list works as a whole\u001b[39;00m\n\u001b[0;32m      2\u001b[0m \u001b[38;5;66;03m#arrays works with individual elements within\u001b[39;00m\n\u001b[1;32m----> 4\u001b[0m \u001b[43mpy_list\u001b[49m\u001b[43m \u001b[49m\u001b[38;5;241;43m+\u001b[39;49m\u001b[38;5;241;43m1\u001b[39;49m\n",
      "\u001b[1;31mTypeError\u001b[0m: can only concatenate list (not \"int\") to list"
     ]
    }
   ],
   "source": [
    "#list works as a whole\n",
    "#arrays works with individual elements within\n",
    "\n",
    "py_list +1"
   ]
  },
  {
   "cell_type": "code",
   "execution_count": 35,
   "id": "206127ef-7be5-4d7c-afdb-ae1a76baf2b7",
   "metadata": {},
   "outputs": [
    {
     "data": {
      "text/plain": [
       "array([2, 3, 4, 5, 6])"
      ]
     },
     "execution_count": 35,
     "metadata": {},
     "output_type": "execute_result"
    }
   ],
   "source": [
    "np_array +1 #add 1 to each element"
   ]
  },
  {
   "cell_type": "code",
   "execution_count": 36,
   "id": "7923f1f6-8920-4305-af47-fad8a3695ee0",
   "metadata": {},
   "outputs": [
    {
     "data": {
      "text/plain": [
       "[1, 2, 3, 4, 5, 1]"
      ]
     },
     "execution_count": 36,
     "metadata": {},
     "output_type": "execute_result"
    }
   ],
   "source": [
    "py_list +[1] #add [1] to the list"
   ]
  },
  {
   "cell_type": "code",
   "execution_count": 37,
   "id": "0918fa46-3b19-4124-8552-d27ef487f2ec",
   "metadata": {},
   "outputs": [
    {
     "data": {
      "text/plain": [
       "[1, 2, 3, 4, 5, 1, 2, 3, 4, 5]"
      ]
     },
     "execution_count": 37,
     "metadata": {},
     "output_type": "execute_result"
    }
   ],
   "source": [
    "py_list*2 #make the list twice"
   ]
  },
  {
   "cell_type": "code",
   "execution_count": 39,
   "id": "33895ee6-3e80-4dcb-838a-f3d2385f06d0",
   "metadata": {},
   "outputs": [
    {
     "data": {
      "text/plain": [
       "array([ 2,  4,  6,  8, 10])"
      ]
     },
     "execution_count": 39,
     "metadata": {},
     "output_type": "execute_result"
    }
   ],
   "source": [
    "np_array*2 #multiply each element by 2"
   ]
  },
  {
   "cell_type": "code",
   "execution_count": 40,
   "id": "c3e0dcb8-04c3-480f-bc6b-2b5c6baffbec",
   "metadata": {},
   "outputs": [
    {
     "data": {
      "text/plain": [
       "5"
      ]
     },
     "execution_count": 40,
     "metadata": {},
     "output_type": "execute_result"
    }
   ],
   "source": [
    "len(py_list) #length of list"
   ]
  },
  {
   "cell_type": "code",
   "execution_count": 46,
   "id": "49aa3bd1-7a54-4251-8d5f-f779da9076e0",
   "metadata": {},
   "outputs": [
    {
     "data": {
      "text/plain": [
       "5"
      ]
     },
     "execution_count": 46,
     "metadata": {},
     "output_type": "execute_result"
    }
   ],
   "source": [
    "len(np_array) "
   ]
  },
  {
   "cell_type": "code",
   "execution_count": 47,
   "id": "8c760e99-031e-42a5-bd7e-dbf180416a00",
   "metadata": {},
   "outputs": [
    {
     "data": {
      "text/plain": [
       "5"
      ]
     },
     "execution_count": 47,
     "metadata": {},
     "output_type": "execute_result"
    }
   ],
   "source": [
    "np_array.size #size of array aka length"
   ]
  },
  {
   "cell_type": "code",
   "execution_count": 45,
   "id": "e12ff423-2708-4468-871b-6e92160cceaa",
   "metadata": {},
   "outputs": [
    {
     "data": {
      "text/plain": [
       "(5,)"
      ]
     },
     "execution_count": 45,
     "metadata": {},
     "output_type": "execute_result"
    }
   ],
   "source": [
    "np_array.shape"
   ]
  },
  {
   "cell_type": "code",
   "execution_count": 48,
   "id": "8b7474b4-a1a7-4b90-bdc2-926ba355279e",
   "metadata": {},
   "outputs": [
    {
     "data": {
      "text/plain": [
       "True"
      ]
     },
     "execution_count": 48,
     "metadata": {},
     "output_type": "execute_result"
    }
   ],
   "source": [
    "#asking question\n",
    "'a' in ['a','b','c']"
   ]
  },
  {
   "cell_type": "code",
   "execution_count": 54,
   "id": "3683ef4f-3bd4-4a30-90e2-a0dac42dfcbe",
   "metadata": {},
   "outputs": [
    {
     "data": {
      "text/plain": [
       "array([39,  6, 97, 58, 27, 35, 89,  6,  7, 68], dtype=int32)"
      ]
     },
     "execution_count": 54,
     "metadata": {},
     "output_type": "execute_result"
    }
   ],
   "source": [
    "my_rand_numbers=np.random.randint(0,100,10)\n",
    "my_rand_numbers"
   ]
  },
  {
   "cell_type": "code",
   "execution_count": 55,
   "id": "64f4a56e-0399-4aaf-b3fa-576cd88540f0",
   "metadata": {},
   "outputs": [
    {
     "data": {
      "text/plain": [
       "array([ True,  True, False, False,  True,  True, False,  True,  True,\n",
       "       False])"
      ]
     },
     "execution_count": 55,
     "metadata": {},
     "output_type": "execute_result"
    }
   ],
   "source": [
    "my_rand_numbers<50"
   ]
  },
  {
   "cell_type": "code",
   "execution_count": 56,
   "id": "421a075a-2e7b-4b82-8af3-eb17e53e4952",
   "metadata": {},
   "outputs": [
    {
     "data": {
      "text/plain": [
       "array([39,  6, 27, 35,  6,  7], dtype=int32)"
      ]
     },
     "execution_count": 56,
     "metadata": {},
     "output_type": "execute_result"
    }
   ],
   "source": [
    "mask=my_rand_numbers<50\n",
    "my_rand_numbers[mask]"
   ]
  },
  {
   "cell_type": "code",
   "execution_count": 60,
   "id": "b477a6b3-d803-4ca5-b838-ffc9ecf3a980",
   "metadata": {},
   "outputs": [
    {
     "data": {
      "text/plain": [
       "array([6, 6], dtype=int32)"
      ]
     },
     "execution_count": 60,
     "metadata": {},
     "output_type": "execute_result"
    }
   ],
   "source": [
    "mask=(my_rand_numbers<50)&(my_rand_numbers%2==0)\n",
    "my_rand_numbers[mask]"
   ]
  },
  {
   "cell_type": "code",
   "execution_count": 63,
   "id": "dafdd483-43f5-4cd8-acb1-890a0b07ecc4",
   "metadata": {},
   "outputs": [
    {
     "data": {
      "text/plain": [
       "np.int32(68)"
      ]
     },
     "execution_count": 63,
     "metadata": {},
     "output_type": "execute_result"
    }
   ],
   "source": [
    "my_rand_numbers[-1] \n",
    "#[] after an array is subsetting an array.\n",
    "#start counting from 0\n",
    "#negative numbers to count from the back without needing the know the size of the array"
   ]
  },
  {
   "cell_type": "code",
   "execution_count": 67,
   "id": "fd5b8e5e-0962-4039-83ac-c386695f785e",
   "metadata": {},
   "outputs": [
    {
     "data": {
      "text/plain": [
       "[1, 2, 3]"
      ]
     },
     "execution_count": 67,
     "metadata": {},
     "output_type": "execute_result"
    }
   ],
   "source": [
    "py_2d_list=[[1,2,3],[4,5,6],[7,8,9]] #list in a list\n",
    "py_2d_list[0]"
   ]
  },
  {
   "cell_type": "code",
   "execution_count": 70,
   "id": "0afa32c1-230a-444c-b173-31b70d8e30eb",
   "metadata": {},
   "outputs": [],
   "source": [
    "py_list_2d = [[1, \"A\"], [2, \"B\"], [3, \"C\"], [4, \"D\"],\n",
    "              [5, \"E\"], [6, \"F\"], [7, \"G\"], [8, \"H\"],\n",
    "              [9, \"I\"], [10, \"J\"]]\n",
    "\n",
    "np_array_2d = np.array(py_list_2d)      # Reusing the Python list \n",
    "                                        # to create a NEW\n",
    "                                        # NumPy array"
   ]
  },
  {
   "cell_type": "code",
   "execution_count": 72,
   "id": "5a1fa728-65f5-4738-a730-970453c59cd5",
   "metadata": {},
   "outputs": [
    {
     "data": {
      "text/plain": [
       "[[1, 'A'],\n",
       " [2, 'B'],\n",
       " [3, 'C'],\n",
       " [4, 'D'],\n",
       " [5, 'E'],\n",
       " [6, 'F'],\n",
       " [7, 'G'],\n",
       " [8, 'H'],\n",
       " [9, 'I'],\n",
       " [10, 'J']]"
      ]
     },
     "execution_count": 72,
     "metadata": {},
     "output_type": "execute_result"
    }
   ],
   "source": [
    "py_list_2d"
   ]
  },
  {
   "cell_type": "code",
   "execution_count": 74,
   "id": "161bab6b-ab51-4d4a-a1ad-f0e560268794",
   "metadata": {},
   "outputs": [
    {
     "data": {
      "text/plain": [
       "array([['1', 'A'],\n",
       "       ['2', 'B'],\n",
       "       ['3', 'C'],\n",
       "       ['4', 'D'],\n",
       "       ['5', 'E'],\n",
       "       ['6', 'F'],\n",
       "       ['7', 'G'],\n",
       "       ['8', 'H'],\n",
       "       ['9', 'I'],\n",
       "       ['10', 'J']], dtype='<U21')"
      ]
     },
     "execution_count": 74,
     "metadata": {},
     "output_type": "execute_result"
    }
   ],
   "source": [
    "np_array_2d #everything converted to str"
   ]
  },
  {
   "cell_type": "markdown",
   "id": "a62bbc88-fcf2-4326-a4df-0d1c684a5a51",
   "metadata": {},
   "source": [
    "- numpy arrays do not tolerate different types (optimised for array operations, different types will slow it down, converts lists all into the same type)\n",
    "- lists allows different types eg. str, int, etc."
   ]
  },
  {
   "cell_type": "code",
   "execution_count": 77,
   "id": "3235b013-ac67-4cf2-8d98-1ef207c5abd1",
   "metadata": {},
   "outputs": [
    {
     "data": {
      "text/plain": [
       "'A'"
      ]
     },
     "execution_count": 77,
     "metadata": {},
     "output_type": "execute_result"
    }
   ],
   "source": [
    "py_list_2d[0][1] #indexing"
   ]
  },
  {
   "cell_type": "code",
   "execution_count": 76,
   "id": "ee8a5abb-706a-4b18-a98c-1c2b5540d1e3",
   "metadata": {},
   "outputs": [
    {
     "data": {
      "text/plain": [
       "np.str_('A')"
      ]
     },
     "execution_count": 76,
     "metadata": {},
     "output_type": "execute_result"
    }
   ],
   "source": [
    "np_array_2d[0,1]"
   ]
  },
  {
   "cell_type": "code",
   "execution_count": 89,
   "id": "8562042d-b42b-469d-ac7d-5269772df831",
   "metadata": {},
   "outputs": [],
   "source": [
    "#Python Lists\n",
    "\n",
    "py_super_names = [\"Black Widow\", \"Iron Man\", \"Doctor Strange\"]\n",
    "py_real_names = [\"Natasha Romanoff\", \"Tony Stark\", \"Stephen Strange\"]\n",
    "\n",
    "#Numpy Arrays\n",
    "\n",
    "np_super_names = np.array([\"Black Widow\", \"Iron Man\", \"Doctor Strange\"])\n",
    "np_real_names = np.array([\"Natasha Romanoff\", \"Tony Stark\", \"Stephen Strange\"])\n",
    "\n",
    "#Dictionary\n",
    "\n",
    "superhero_info = {\n",
    "    \"Natasha Romanoff\": [\"Black Widow\",\"Blue Mouse\",\"Pink Tiger\"],\n",
    "    \"Tony Stark\": \"Iron Man\",\n",
    "    \"Stephen Strange\": \"Doctor Strange\"\n",
    "}\n",
    "#storing data with KEY and VALUE, access data\n",
    "#dictionary can contain lists, arrays, dictionaries\n",
    "#case-sensitive"
   ]
  },
  {
   "cell_type": "code",
   "execution_count": 81,
   "id": "c7e82242-8366-43a0-a406-49edbd814beb",
   "metadata": {},
   "outputs": [
    {
     "data": {
      "text/plain": [
       "'Iron Man'"
      ]
     },
     "execution_count": 81,
     "metadata": {},
     "output_type": "execute_result"
    }
   ],
   "source": [
    "superhero_info['Tony Stark']"
   ]
  },
  {
   "cell_type": "code",
   "execution_count": 88,
   "id": "9cba881a-aee1-4988-8f16-ba64ce46b1e8",
   "metadata": {},
   "outputs": [
    {
     "data": {
      "text/plain": [
       "'Blue Mouse'"
      ]
     },
     "execution_count": 88,
     "metadata": {},
     "output_type": "execute_result"
    }
   ],
   "source": [
    "superhero_info['Natasha Romanoff'][1] #indexing a list within a dictionary"
   ]
  },
  {
   "cell_type": "code",
   "execution_count": 87,
   "id": "36ec454a-bee6-43e1-8a1f-10b73912efa1",
   "metadata": {},
   "outputs": [],
   "source": [
    "#PySuperNames"
   ]
  },
  {
   "cell_type": "code",
   "execution_count": 91,
   "id": "eeb1d257-72bd-4529-bbea-ff9204f542e4",
   "metadata": {},
   "outputs": [],
   "source": [
    "py_list=[\"a1\", \"b2\", \"c3\", \"d4\", \"e5\",\n",
    "         \"f6\", \"g7\", \"h8\", \"i9\", \"j10\"]\n",
    "np_array=np.array(py_list)\n",
    "\n",
    "# Pick one\n",
    "x = py_list  # OR\n",
    "x = np_array"
   ]
  },
  {
   "cell_type": "code",
   "execution_count": 102,
   "id": "b5cc2fab-f1b7-455b-a210-39a1578b0707",
   "metadata": {},
   "outputs": [
    {
     "data": {
      "text/plain": [
       "['d4', 'e5', 'f6']"
      ]
     },
     "execution_count": 102,
     "metadata": {},
     "output_type": "execute_result"
    }
   ],
   "source": [
    "py_list[3:6] #SLICING = subset a range, returns positions 3,4,5 ONLY"
   ]
  },
  {
   "cell_type": "code",
   "execution_count": 93,
   "id": "8b496953-b6ed-43d4-9261-d51019c0e2e6",
   "metadata": {},
   "outputs": [
    {
     "data": {
      "text/plain": [
       "['d4', 'e5', 'f6', 'g7', 'h8', 'i9', 'j10']"
      ]
     },
     "execution_count": 93,
     "metadata": {},
     "output_type": "execute_result"
    }
   ],
   "source": [
    "py_list[3:]"
   ]
  },
  {
   "cell_type": "code",
   "execution_count": 95,
   "id": "e119da40-de21-44e6-b1d8-d68aa189cd9c",
   "metadata": {},
   "outputs": [
    {
     "data": {
      "text/plain": [
       "['a1', 'b2', 'c3', 'd4', 'e5', 'f6', 'g7', 'h8']"
      ]
     },
     "execution_count": 95,
     "metadata": {},
     "output_type": "execute_result"
    }
   ],
   "source": [
    "py_list[:-2]"
   ]
  },
  {
   "cell_type": "code",
   "execution_count": 100,
   "id": "f424224d-73e3-4bfc-9c08-c31a143a40f7",
   "metadata": {},
   "outputs": [
    {
     "data": {
      "text/plain": [
       "['j10', 'i9', 'h8', 'g7', 'f6', 'e5', 'd4', 'c3', 'b2', 'a1']"
      ]
     },
     "execution_count": 100,
     "metadata": {},
     "output_type": "execute_result"
    }
   ],
   "source": [
    "py_list[-1::-1] #REVERSE from end to start, going backwards"
   ]
  },
  {
   "cell_type": "code",
   "execution_count": 101,
   "id": "d0320fde-1388-4f83-aa27-a8b0aecace3d",
   "metadata": {},
   "outputs": [
    {
     "data": {
      "text/plain": [
       "['a1', 'c3', 'e5', 'g7', 'i9']"
      ]
     },
     "execution_count": 101,
     "metadata": {},
     "output_type": "execute_result"
    }
   ],
   "source": [
    "py_list[::2] #SKIPPING"
   ]
  },
  {
   "cell_type": "code",
   "execution_count": 103,
   "id": "fce5c5fd-5a68-4a00-b702-b676a8ec4cb4",
   "metadata": {},
   "outputs": [],
   "source": [
    "py_list=[\"a1\", \"b2\", \"c3\", \"d4\", \"e5\",\n",
    "         \"f6\", \"g7\", \"h8\", \"i9\", \"j10\"]\n",
    "np_array=np.array(py_list)\n",
    "\n",
    "# Pick one\n",
    "x = py_list  # OR\n",
    "x = np_array"
   ]
  },
  {
   "cell_type": "code",
   "execution_count": 104,
   "id": "bfc7502d-43ae-4754-bcd1-0d7fb685ff80",
   "metadata": {},
   "outputs": [
    {
     "data": {
      "text/plain": [
       "[[2, 'B'], [3, 'C'], [4, 'D']]"
      ]
     },
     "execution_count": 104,
     "metadata": {},
     "output_type": "execute_result"
    }
   ],
   "source": [
    "py_list_2d[1:4]"
   ]
  },
  {
   "cell_type": "code",
   "execution_count": 105,
   "id": "2a573541-1eb3-4d95-bae7-3c545b687b97",
   "metadata": {},
   "outputs": [
    {
     "data": {
      "text/plain": [
       "array(['1', '2', '3', '4', '5', '6', '7', '8', '9', '10'], dtype='<U21')"
      ]
     },
     "execution_count": 105,
     "metadata": {},
     "output_type": "execute_result"
    }
   ],
   "source": [
    "np_array_2d[:,0]"
   ]
  },
  {
   "cell_type": "code",
   "execution_count": 108,
   "id": "5caff12c-2c37-422f-aa31-82a3f4263db7",
   "metadata": {},
   "outputs": [
    {
     "data": {
      "text/plain": [
       "array([4, 6, 8])"
      ]
     },
     "execution_count": 108,
     "metadata": {},
     "output_type": "execute_result"
    }
   ],
   "source": [
    "#convert to int to do math\n",
    "np_array_2d[1:4,0].astype(int)*2"
   ]
  },
  {
   "cell_type": "code",
   "execution_count": 109,
   "id": "aa919150-016e-4f37-a4f3-cef30b61055c",
   "metadata": {},
   "outputs": [],
   "source": [
    "#for lists\n",
    "py_list_again=[1,2]+[8,9,0]+['A','B']"
   ]
  },
  {
   "cell_type": "code",
   "execution_count": 114,
   "id": "6dfd4e9e-7edf-4e75-b7ba-8f53d2f7cbfd",
   "metadata": {},
   "outputs": [
    {
     "data": {
      "text/plain": [
       "[1, 2, 8, 9, 0, 'A', 'B']"
      ]
     },
     "execution_count": 114,
     "metadata": {},
     "output_type": "execute_result"
    }
   ],
   "source": [
    "py_list_again #concatenate"
   ]
  },
  {
   "cell_type": "code",
   "execution_count": 113,
   "id": "74d2baa5-e6d0-4214-94e8-235857cd7557",
   "metadata": {},
   "outputs": [
    {
     "data": {
      "text/plain": [
       "array([ 9, 11,  3])"
      ]
     },
     "execution_count": 113,
     "metadata": {},
     "output_type": "execute_result"
    }
   ],
   "source": [
    "#for arrays\n",
    "np.array([1,2,3])+np.array([8,9,0]) #math: will calculate the value of the addition of each elements"
   ]
  },
  {
   "cell_type": "code",
   "execution_count": null,
   "id": "58e599ef-e7bf-41f5-b033-53e6b6cfe5f8",
   "metadata": {},
   "outputs": [],
   "source": []
  },
  {
   "attachments": {},
   "cell_type": "markdown",
   "id": "ed45a3fe",
   "metadata": {},
   "source": [
    "## 2.1 Size"
   ]
  },
  {
   "attachments": {},
   "cell_type": "markdown",
   "id": "36eaa44f",
   "metadata": {},
   "source": [
    "## 2.2 Arrays are fussy about type"
   ]
  },
  {
   "attachments": {},
   "cell_type": "markdown",
   "id": "f0d5a8e7",
   "metadata": {},
   "source": [
    "## 2.3 Adding a number"
   ]
  },
  {
   "attachments": {},
   "cell_type": "markdown",
   "id": "3761c432",
   "metadata": {},
   "source": [
    "## 2.4 Adding another list"
   ]
  },
  {
   "attachments": {},
   "cell_type": "markdown",
   "id": "049ed390",
   "metadata": {},
   "source": [
    "## 2.5 Multiplying by a Number"
   ]
  },
  {
   "attachments": {},
   "cell_type": "markdown",
   "id": "9865c164",
   "metadata": {},
   "source": [
    "## 2.6 Squaring"
   ]
  },
  {
   "attachments": {},
   "cell_type": "markdown",
   "id": "d7dca7ce",
   "metadata": {},
   "source": [
    "## 2.7 Asking questions"
   ]
  },
  {
   "attachments": {},
   "cell_type": "markdown",
   "id": "9da5627b",
   "metadata": {},
   "source": [
    "## 2.8 Mathematics"
   ]
  },
  {
   "attachments": {},
   "cell_type": "markdown",
   "id": "01e53362",
   "metadata": {},
   "source": [
    "## Footnotes"
   ]
  },
  {
   "cell_type": "code",
   "execution_count": 115,
   "id": "88df79fe-5b12-4a6d-a5fd-1f52aa13483a",
   "metadata": {},
   "outputs": [],
   "source": [
    "x=[1,2,3]"
   ]
  },
  {
   "cell_type": "code",
   "execution_count": 116,
   "id": "45418db4-30db-4db1-8724-c251b8d22a65",
   "metadata": {},
   "outputs": [],
   "source": [
    "x[0]=1000"
   ]
  },
  {
   "cell_type": "code",
   "execution_count": 117,
   "id": "11c1e68a-a5b1-4d2a-b11c-acec0f76a664",
   "metadata": {},
   "outputs": [
    {
     "data": {
      "text/plain": [
       "[1000, 2, 3]"
      ]
     },
     "execution_count": 117,
     "metadata": {},
     "output_type": "execute_result"
    }
   ],
   "source": [
    "x"
   ]
  },
  {
   "cell_type": "code",
   "execution_count": 121,
   "id": "b49b84c1-de5e-4aa4-b34f-dcdbaeb7db05",
   "metadata": {},
   "outputs": [],
   "source": [
    "y=(1,2,3) #TUPLES have list attributes but cannot be changed eg. for experiment constants."
   ]
  },
  {
   "cell_type": "code",
   "execution_count": 120,
   "id": "f24086fd-03a4-4f5c-9a39-42edb913b90e",
   "metadata": {},
   "outputs": [
    {
     "ename": "TypeError",
     "evalue": "'tuple' object does not support item assignment",
     "output_type": "error",
     "traceback": [
      "\u001b[1;31m---------------------------------------------------------------------------\u001b[0m",
      "\u001b[1;31mTypeError\u001b[0m                                 Traceback (most recent call last)",
      "Cell \u001b[1;32mIn[120], line 1\u001b[0m\n\u001b[1;32m----> 1\u001b[0m \u001b[43my\u001b[49m\u001b[43m[\u001b[49m\u001b[38;5;241;43m0\u001b[39;49m\u001b[43m]\u001b[49m\u001b[38;5;241m=\u001b[39m\u001b[38;5;241m1000\u001b[39m\n",
      "\u001b[1;31mTypeError\u001b[0m: 'tuple' object does not support item assignment"
     ]
    }
   ],
   "source": [
    "y[0]=1000"
   ]
  },
  {
   "cell_type": "code",
   "execution_count": 2,
   "id": "62d7b92d-2023-49c8-9eb7-5275145e97cf",
   "metadata": {},
   "outputs": [
    {
     "name": "stdout",
     "output_type": "stream",
     "text": [
      "Before: x=[1, 2, 3],y=[1, 2, 3],z=[1, 2, 3]\n",
      "After: x=[1000, 2, 3],y=[1000, 2, 3],z=[1000, 2, 3]\n"
     ]
    }
   ],
   "source": [
    "x=[1, 2, 3]\n",
    "y=x           # DON'T do this!\n",
    "z=x           # DON'T do this!\n",
    "print(f'Before: {x=},{y=},{z=}')\n",
    "x[0]=1000\n",
    "print(f'After: {x=},{y=},{z=}')"
   ]
  }
 ],
 "metadata": {
  "kernelspec": {
   "display_name": "Python 3 (ipykernel)",
   "language": "python",
   "name": "python3"
  },
  "language_info": {
   "codemirror_mode": {
    "name": "ipython",
    "version": 3
   },
   "file_extension": ".py",
   "mimetype": "text/x-python",
   "name": "python",
   "nbconvert_exporter": "python",
   "pygments_lexer": "ipython3",
   "version": "3.12.3"
  },
  "toc": {
   "base_numbering": 1,
   "nav_menu": {},
   "number_sections": true,
   "sideBar": true,
   "skip_h1_title": false,
   "title_cell": "Table of Contents",
   "title_sidebar": "Contents",
   "toc_cell": false,
   "toc_position": {},
   "toc_section_display": true,
   "toc_window_display": false
  },
  "vscode": {
   "interpreter": {
    "hash": "31f2aee4e71d21fbe5cf8b01ff0e069b9275f58929596ceb00d14d90e3e16cd6"
   }
  }
 },
 "nbformat": 4,
 "nbformat_minor": 5
}
