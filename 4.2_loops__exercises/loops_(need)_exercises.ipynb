{
 "cells": [
  {
   "attachments": {},
   "cell_type": "markdown",
   "id": "123456",
   "metadata": {},
   "source": [
    "<div style=\"text-align:left;font-size:2em\"><span style=\"font-weight:bolder;font-size:1.25em\">SP2273 | Learning Portfolio</span><br><br><span style=\"font-weight:bold;color:darkred\">Loops (Need) Exercises</span></div>"
   ]
  },
  {
   "cell_type": "markdown",
   "id": "1e02dbd4-4545-401d-913b-9725e7746a43",
   "metadata": {},
   "source": [
    "# Exercise 1 (Celsius to Fahrenheit) "
   ]
  },
  {
   "cell_type": "code",
   "execution_count": 2,
   "id": "3dde851b-50ed-4cba-b1b6-73814ce4e8a6",
   "metadata": {},
   "outputs": [
    {
     "name": "stdout",
     "output_type": "stream",
     "text": [
      "0, 32.0\n",
      "5, 41.0\n",
      "10, 50.0\n",
      "15, 59.0\n",
      "20, 68.0\n",
      "25, 77.0\n",
      "30, 86.0\n",
      "35, 95.0\n",
      "40, 104.0\n",
      "45, 113.0\n",
      "50, 122.0\n"
     ]
    }
   ],
   "source": [
    "import numpy as np\n",
    "\n",
    "temp_celsius = [\n",
    "    0, 5, 10, 15, 20, 25,\n",
    "    30, 35, 40, 45, 50\n",
    "]\n",
    "\n",
    "celsius_array = np.array(temp_celsius) #celsius array\n",
    "\n",
    "temp_usa = celsius_array*9/5 +32 #fare-ren-height array\n",
    "\n",
    "for index, name in enumerate(celsius_array): #enumerate and index. 'index' is a variable/placeholder\n",
    "    f_temp = temp_usa[index] #matching the arrays\n",
    "    print(f'{name}, {f_temp}') #celsius and Fahrenheit pairs"
   ]
  },
  {
   "cell_type": "markdown",
   "id": "41f6e0ab-1049-4976-9c3a-1946f61ec650",
   "metadata": {},
   "source": [
    "# Exercise 2 (Multiplication table) "
   ]
  },
  {
   "cell_type": "code",
   "execution_count": 64,
   "id": "aaccca93-3208-4e6e-a1c0-7a757dbd1a85",
   "metadata": {},
   "outputs": [
    {
     "name": "stdout",
     "output_type": "stream",
     "text": [
      "A1\tA2\tA3\t\n",
      "\n",
      "B1\tB2\tB3\t\n",
      "\n",
      "C1\tC2\tC3\t\n",
      "\n"
     ]
    }
   ],
   "source": [
    "for letter in ['A', 'B', 'C']:\n",
    "    for number in [1, 2, 3]:\n",
    "        print(f'{letter}{number}', end='\\t')\n",
    "    print('\\n')"
   ]
  },
  {
   "cell_type": "code",
   "execution_count": 71,
   "id": "98c25b5d-1773-4178-9edd-03aa73a7044f",
   "metadata": {},
   "outputs": [
    {
     "name": "stdout",
     "output_type": "stream",
     "text": [
      "1:\t1\t2\t3\t4\t5\t\n",
      "\n",
      "2:\t2\t4\t6\t8\t10\t\n",
      "\n",
      "3:\t3\t6\t9\t12\t15\t\n",
      "\n",
      "4:\t4\t8\t12\t16\t20\t\n",
      "\n",
      "5:\t5\t10\t15\t20\t25\t\n",
      "\n"
     ]
    }
   ],
   "source": [
    "for starting in [1,2,3,4,5]:\n",
    "    print(f'{starting}{':'}', end='\\t')\n",
    "    for  multiplier in [1,2,3,4,5]:\n",
    "        print(f'{starting*multiplier}', end='\\t')\n",
    "    print('\\n')"
   ]
  },
  {
   "cell_type": "code",
   "execution_count": 86,
   "id": "0b9e83d7-60ed-431a-a4b1-5012bf3a6ed7",
   "metadata": {},
   "outputs": [
    {
     "name": "stdout",
     "output_type": "stream",
     "text": [
      "1\n",
      "2\n",
      "3\n",
      "4\n",
      "5\n",
      "6\n",
      "7\n",
      "8\n",
      "9\n"
     ]
    }
   ],
   "source": [
    "for i in range(1,10):\n",
    "    print(i) #prints 1 to 9"
   ]
  },
  {
   "cell_type": "code",
   "execution_count": 85,
   "id": "28822bbc-34cb-4a90-a701-161833a40b39",
   "metadata": {},
   "outputs": [
    {
     "name": "stdout",
     "output_type": "stream",
     "text": [
      "1:\t1\t2\t3\t4\t5\t\n",
      "\n",
      "2:\t2\t4\t6\t8\t10\t\n",
      "\n",
      "3:\t3\t6\t9\t12\t15\t\n",
      "\n",
      "4:\t4\t8\t12\t16\t20\t\n",
      "\n",
      "5:\t5\t10\t15\t20\t25\t\n",
      "\n"
     ]
    }
   ],
   "source": [
    "#doing it using range instead of hardcoding the list\n",
    "start_list=list(range(1,6))\n",
    "mult_list=list(range(1,6))\n",
    "\n",
    "for starting in start_list:\n",
    "    print(f'{starting}{':'}', end='\\t')\n",
    "    for  multiplier in (mult_list):\n",
    "        print(f'{starting*multiplier}', end='\\t')\n",
    "    print('\\n')"
   ]
  },
  {
   "cell_type": "code",
   "execution_count": 87,
   "id": "896c5256-8d19-4f6d-b02f-991f645bf425",
   "metadata": {},
   "outputs": [
    {
     "data": {
      "text/plain": [
       "[1, 2, 3, 4, 5]"
      ]
     },
     "execution_count": 87,
     "metadata": {},
     "output_type": "execute_result"
    }
   ],
   "source": [
    "list(range(1,6)) #MAKING A LIST "
   ]
  },
  {
   "cell_type": "markdown",
   "id": "8301e344-d064-4d9e-bf5e-cbc09c2af17b",
   "metadata": {},
   "source": [
    "# Exercise 3 (Simulating a Coin Flip Experiment)  "
   ]
  },
  {
   "cell_type": "markdown",
   "id": "dd7b3f24-78ed-4fa1-b66b-7f0e0c34d6a5",
   "metadata": {},
   "source": [
    "## This is my final answer"
   ]
  },
  {
   "cell_type": "code",
   "execution_count": 136,
   "id": "95390bf9-35fc-42b1-85a5-98843fa2176b",
   "metadata": {},
   "outputs": [
    {
     "name": "stdout",
     "output_type": "stream",
     "text": [
      "7\n",
      "4\n",
      "5\n",
      "3\n",
      "5\n",
      "8\n",
      "3\n",
      "7\n",
      "6\n",
      "3\n",
      "4\n"
     ]
    }
   ],
   "source": [
    "\n",
    "for i in range(11):\n",
    "    rand=np.random.rand(10)\n",
    "    for i in rand:\n",
    "        heads = rand > 0.5\n",
    "    print(sum(heads))"
   ]
  },
  {
   "cell_type": "code",
   "execution_count": 4,
   "id": "e0c70163-a621-4931-8d64-30df815ab8f8",
   "metadata": {},
   "outputs": [
    {
     "name": "stdout",
     "output_type": "stream",
     "text": [
      "Experiment  1 : No. of Heads = 6\n",
      "Experiment  2 : No. of Heads = 5\n",
      "Experiment  3 : No. of Heads = 4\n",
      "Experiment  4 : No. of Heads = 5\n",
      "Experiment  5 : No. of Heads = 4\n",
      "Experiment  6 : No. of Heads = 7\n",
      "Experiment  7 : No. of Heads = 4\n",
      "Experiment  8 : No. of Heads = 3\n",
      "Experiment  9 : No. of Heads = 4\n",
      "Experiment 10 : No. of Heads = 4\n"
     ]
    }
   ],
   "source": [
    "x=1\n",
    "for i in range(10):\n",
    "    rand=np.random.rand(10)\n",
    "    for i in rand:\n",
    "        heads = rand > 0.5\n",
    "    print(f'{'Experiment '}{x:>2}{' : No. of Heads = '}{sum(heads)}')\n",
    "    x += 1"
   ]
  },
  {
   "cell_type": "markdown",
   "id": "a8fbe924-4404-424c-b50d-ceccc361c739",
   "metadata": {},
   "source": [
    "## CORRECTIONS 18/02/2025"
   ]
  },
  {
   "cell_type": "code",
   "execution_count": 3,
   "id": "751bcefc-75d4-4e45-9eed-34113d697007",
   "metadata": {},
   "outputs": [
    {
     "name": "stdout",
     "output_type": "stream",
     "text": [
      "Experiment  1 : No. of Heads = 7\n",
      "Experiment  2 : No. of Heads = 3\n",
      "Experiment  3 : No. of Heads = 5\n",
      "Experiment  4 : No. of Heads = 2\n",
      "Experiment  5 : No. of Heads = 4\n",
      "Experiment  6 : No. of Heads = 6\n",
      "Experiment  7 : No. of Heads = 4\n",
      "Experiment  8 : No. of Heads = 4\n",
      "Experiment  9 : No. of Heads = 4\n",
      "Experiment 10 : No. of Heads = 5\n"
     ]
    }
   ],
   "source": [
    "x=1\n",
    "for i in range(10):\n",
    "    rand=np.random.rand(10)\n",
    "    heads = rand > 0.5\n",
    "    print(f'{'Experiment '}{x:>2}{' : No. of Heads = '}{sum(heads)}')\n",
    "    x += 1"
   ]
  },
  {
   "cell_type": "markdown",
   "id": "9bb19624-5a5f-41c5-8c62-b51f0f5243cf",
   "metadata": {},
   "source": [
    "## This is my notes"
   ]
  },
  {
   "cell_type": "code",
   "execution_count": 148,
   "id": "6ac126c0-c2e6-4b96-a32e-715c536ed02e",
   "metadata": {},
   "outputs": [
    {
     "name": "stdout",
     "output_type": "stream",
     "text": [
      "[False  True False False  True False False False  True  True]\n",
      "[False False  True False False False  True False False False]\n",
      "[ True  True False False False  True False False False  True]\n",
      "[False  True False  True False  True False False  True False]\n",
      "[ True False  True False  True  True False False False  True]\n",
      "[ True  True False False  True  True  True False  True  True]\n",
      "[ True False False False False False  True False  True  True]\n",
      "[False False  True False  True False  True  True  True  True]\n",
      "[False False False False  True  True  True  True  True False]\n",
      "[False  True False False  True  True False  True  True  True]\n",
      "[ True False False  True False  True False False  True False]\n"
     ]
    }
   ],
   "source": [
    "for i in range(11):\n",
    "    rand=np.random.rand(10)\n",
    "    for i in rand:\n",
    "        heads = rand > 0.5\n",
    "    print(heads) #sum(heads) works as the output of print(heads) is True/False. If True = 1 and False = 0, then the sum(heads) = the SUM OF HEADS!!!"
   ]
  },
  {
   "cell_type": "code",
   "execution_count": 155,
   "id": "7c7b03cf-9003-4952-ba26-53068847b60f",
   "metadata": {},
   "outputs": [
    {
     "name": "stdout",
     "output_type": "stream",
     "text": [
      "4\n",
      "6\n",
      "3\n",
      "5\n",
      "6\n",
      "4\n",
      "7\n",
      "6\n",
      "5\n",
      "3\n"
     ]
    }
   ],
   "source": [
    "for i in range(10):\n",
    "    rand=np.random.rand(10)\n",
    "    for i in rand:\n",
    "        heads = rand > 0.5\n",
    "    print(sum(heads))"
   ]
  },
  {
   "cell_type": "code",
   "execution_count": null,
   "id": "f54dacbe-ab89-470a-a2dc-34fedc1b5b91",
   "metadata": {},
   "outputs": [],
   "source": []
  }
 ],
 "metadata": {
  "kernelspec": {
   "display_name": "Python 3 (ipykernel)",
   "language": "python",
   "name": "python3"
  },
  "language_info": {
   "codemirror_mode": {
    "name": "ipython",
    "version": 3
   },
   "file_extension": ".py",
   "mimetype": "text/x-python",
   "name": "python",
   "nbconvert_exporter": "python",
   "pygments_lexer": "ipython3",
   "version": "3.12.3"
  },
  "toc": {
   "base_numbering": 1,
   "nav_menu": {},
   "number_sections": true,
   "sideBar": true,
   "skip_h1_title": false,
   "title_cell": "Table of Contents",
   "title_sidebar": "Contents",
   "toc_cell": false,
   "toc_position": {},
   "toc_section_display": true,
   "toc_window_display": false
  },
  "vscode": {
   "interpreter": {
    "hash": "31f2aee4e71d21fbe5cf8b01ff0e069b9275f58929596ceb00d14d90e3e16cd6"
   }
  }
 },
 "nbformat": 4,
 "nbformat_minor": 5
}
