{
 "cells": [
  {
   "attachments": {},
   "cell_type": "markdown",
   "id": "123456",
   "metadata": {},
   "source": [
    "<div style=\"text-align:left;font-size:2em\"><span style=\"font-weight:bolder;font-size:1.25em\">SP2273 | Learning Portfolio</span><br><br><span style=\"font-weight:bold;color:darkred\">Loops (Good) Exercises</span></div>"
   ]
  },
  {
   "cell_type": "markdown",
   "id": "2c94ea84-60dc-41f8-9909-a492b37932a8",
   "metadata": {},
   "source": [
    "# Exercise 1 (Make me an odd list)"
   ]
  },
  {
   "cell_type": "code",
   "execution_count": 30,
   "id": "ac2cce4c-c874-49cf-89f9-d01fe8701cdf",
   "metadata": {},
   "outputs": [
    {
     "name": "stdout",
     "output_type": "stream",
     "text": [
      "2.31 μs ± 144 ns per loop (mean ± std. dev. of 7 runs, 100,000 loops each)\n"
     ]
    }
   ],
   "source": [
    "%%timeit\n",
    "\n",
    "happy=[]\n",
    "\n",
    "for i in range(10):\n",
    "    if i%2!=0:\n",
    "        happy=happy+[i**2]\n",
    "#print(happy)"
   ]
  },
  {
   "cell_type": "markdown",
   "id": "cbed9d93-0b41-4d32-ae2f-a97705674da6",
   "metadata": {},
   "source": [
    "# Exercise 2 (Make me another odd list) ☻\n",
    "List comprehension."
   ]
  },
  {
   "cell_type": "code",
   "execution_count": 29,
   "id": "b3560fb6-f5d7-4c87-b24e-2dcc1440dd93",
   "metadata": {},
   "outputs": [
    {
     "name": "stdout",
     "output_type": "stream",
     "text": [
      "1.6 μs ± 115 ns per loop (mean ± std. dev. of 7 runs, 1,000,000 loops each)\n"
     ]
    }
   ],
   "source": [
    "%%timeit\n",
    "[number**2 for number in range(10) if number % 2 !=0]\n",
    "#[output for i in range() if condition]"
   ]
  },
  {
   "cell_type": "markdown",
   "id": "93b5d35f-2661-4e21-8623-1605d3bb1fea",
   "metadata": {},
   "source": [
    "# Exercise 3 (Time me!)\n",
    "Cell magic command %%timeit to time the previous solutions. Which of the two is faster? **List comprehension**\n",
    "\\\n",
    "**#1.** 2.31 μs ± 144 ns per loop (mean ± std. dev. of 7 runs, 100,000 loops each)\\\n",
    "**#2.** 1.6 μs ± 115 ns per loop (mean ± std. dev. of 7 runs, 1,000,000 loops each)"
   ]
  },
  {
   "cell_type": "markdown",
   "id": "2c2091ac-e184-4bcf-9ba2-80bee933c866",
   "metadata": {},
   "source": [
    "# Exercise 4 (A problem of decay)"
   ]
  },
  {
   "cell_type": "code",
   "execution_count": 41,
   "id": "e298c576-a278-42fd-9dd3-b9ee27c4c590",
   "metadata": {},
   "outputs": [
    {
     "name": "stdout",
     "output_type": "stream",
     "text": [
      "14\n"
     ]
    }
   ],
   "source": [
    "decayed = 0\n",
    "undecayed = 100\n",
    "counter=0\n",
    "\n",
    "while undecayed>=decayed:\n",
    "    decayed+=(0.05)*undecayed\n",
    "    undecayed-=(0.05)*undecayed\n",
    "    counter+=1\n",
    "\n",
    "print(counter)"
   ]
  },
  {
   "cell_type": "markdown",
   "id": "fc32fe9c-14de-4c20-930c-e846a11603d1",
   "metadata": {},
   "source": [
    "# Exercise 5 (Changes in CO2)\n",
    "\n",
    "Identify those years that showed an increase of CO2 of 3 ppm or more compared to the previous year. Please print out these years along with the corresponding change in concentration."
   ]
  },
  {
   "cell_type": "code",
   "execution_count": null,
   "id": "0511cbdc-8fd4-440b-bb82-dae851231d99",
   "metadata": {},
   "outputs": [],
   "source": []
  },
  {
   "cell_type": "code",
   "execution_count": 123,
   "id": "01b41cb9-8f2e-420b-a0b2-bf7d207f2756",
   "metadata": {},
   "outputs": [
    {
     "name": "stdout",
     "output_type": "stream",
     "text": [
      "2016,3.410000000000025\n"
     ]
    }
   ],
   "source": [
    "co2_data = [\n",
    "    (2000, 369.55), (2001, 371.14), (2002, 373.28), \n",
    "    (2003, 375.80), (2004, 377.52), (2005, 379.80), \n",
    "    (2006, 381.90), (2007, 383.79), (2008, 385.60), \n",
    "    (2009, 387.43), (2010, 389.90), (2011, 391.65), \n",
    "    (2012, 393.85), (2013, 396.52), (2014, 398.65),\n",
    "    (2015, 400.83), (2016, 404.24), (2017, 406.55), \n",
    "    (2018, 408.52), (2019, 411.44), (2020, 414.24)\n",
    "]\n",
    "\n",
    "x=0\n",
    "while x<len(co2_data)-1:\n",
    "    if (co2_data[x][1]-co2_data[x+1][1])<=-3:\n",
    "        print(f'{co2_data[x+1][0]},{abs(co2_data[x][1]-co2_data[x+1][1])}')\n",
    "        x+=1\n",
    "    else:\n",
    "        x+=1"
   ]
  },
  {
   "cell_type": "markdown",
   "id": "71d9d072-4c0e-42fe-8c3b-6fc9ee560ca7",
   "metadata": {},
   "source": [
    "### testing code"
   ]
  },
  {
   "cell_type": "code",
   "execution_count": 110,
   "id": "d0747217-4188-4779-b09e-e63d9297739f",
   "metadata": {},
   "outputs": [
    {
     "data": {
      "text/plain": [
       "21"
      ]
     },
     "execution_count": 110,
     "metadata": {},
     "output_type": "execute_result"
    }
   ],
   "source": [
    "len(co2_data)"
   ]
  },
  {
   "cell_type": "code",
   "execution_count": 124,
   "id": "8b4c1164-4efd-46fe-b6f7-8ce24354b271",
   "metadata": {},
   "outputs": [
    {
     "data": {
      "text/plain": [
       "-3.410000000000025"
      ]
     },
     "execution_count": 124,
     "metadata": {},
     "output_type": "execute_result"
    }
   ],
   "source": [
    "co2_data[15][1]-co2_data[15+1][1]"
   ]
  },
  {
   "cell_type": "code",
   "execution_count": null,
   "id": "6e3dbab5-c9ef-4224-9eff-df9cd850eb64",
   "metadata": {},
   "outputs": [],
   "source": []
  }
 ],
 "metadata": {
  "kernelspec": {
   "display_name": "Python 3 (ipykernel)",
   "language": "python",
   "name": "python3"
  },
  "language_info": {
   "codemirror_mode": {
    "name": "ipython",
    "version": 3
   },
   "file_extension": ".py",
   "mimetype": "text/x-python",
   "name": "python",
   "nbconvert_exporter": "python",
   "pygments_lexer": "ipython3",
   "version": "3.12.3"
  },
  "toc": {
   "base_numbering": 1,
   "nav_menu": {},
   "number_sections": true,
   "sideBar": true,
   "skip_h1_title": false,
   "title_cell": "Table of Contents",
   "title_sidebar": "Contents",
   "toc_cell": false,
   "toc_position": {},
   "toc_section_display": true,
   "toc_window_display": false
  },
  "vscode": {
   "interpreter": {
    "hash": "31f2aee4e71d21fbe5cf8b01ff0e069b9275f58929596ceb00d14d90e3e16cd6"
   }
  }
 },
 "nbformat": 4,
 "nbformat_minor": 5
}
