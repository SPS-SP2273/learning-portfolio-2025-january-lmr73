{
 "cells": [
  {
   "attachments": {},
   "cell_type": "markdown",
   "id": "123456",
   "metadata": {},
   "source": [
    "<div style=\"text-align:left;font-size:2em\"><span style=\"font-weight:bolder;font-size:1.25em\">SP2273 | Learning Portfolio</span><br><br><span style=\"font-weight:bold;color:darkred\">Files, Folders & OS (Need)</span></div>"
   ]
  },
  {
   "attachments": {},
   "cell_type": "markdown",
   "id": "663b79c4",
   "metadata": {},
   "source": [
    "# What to expect in this chapter"
   ]
  },
  {
   "cell_type": "code",
   "execution_count": 1,
   "id": "76ce83e7-47a2-44cb-8d21-686a28e1942b",
   "metadata": {},
   "outputs": [],
   "source": [
    "import glob"
   ]
  },
  {
   "cell_type": "code",
   "execution_count": 2,
   "id": "679925e4-fca1-46df-9bcd-2dede95b8a45",
   "metadata": {},
   "outputs": [
    {
     "data": {
      "text/plain": [
       "['files,_folders_&_os_(need).ipynb']"
      ]
     },
     "execution_count": 2,
     "metadata": {},
     "output_type": "execute_result"
    }
   ],
   "source": [
    "glob.glob('*')"
   ]
  },
  {
   "cell_type": "code",
   "execution_count": 8,
   "id": "8a255900-84be-4a03-bb37-666dde145562",
   "metadata": {},
   "outputs": [
    {
     "data": {
      "text/plain": [
       "['..\\\\0.1_hello,_github!',\n",
       " '..\\\\0.2_hello,_jupyter!',\n",
       " '..\\\\0.3_Virtual_Environments_(Nice!)',\n",
       " '..\\\\1.1_using_jupyter',\n",
       " '..\\\\1.2_using_jupyter_,_exercises',\n",
       " '..\\\\2.1_fundamentals',\n",
       " '..\\\\2.2_fundamentals__exercises',\n",
       " '..\\\\3.1_storing_data',\n",
       " '..\\\\3.2_storing_data__exercises',\n",
       " '..\\\\4.1_loops',\n",
       " '..\\\\4.2_loops__exercises',\n",
       " '..\\\\5.1_functions',\n",
       " '..\\\\5.2_functions__exercises',\n",
       " '..\\\\6.1_files,_folders_&_os',\n",
       " '..\\\\6.2_files,_folders_&_os__exercises',\n",
       " '..\\\\7.1_plotting',\n",
       " '..\\\\7.2_plotting__exercises',\n",
       " '..\\\\hello12345.txt',\n",
       " '..\\\\README.md']"
      ]
     },
     "execution_count": 8,
     "metadata": {},
     "output_type": "execute_result"
    }
   ],
   "source": [
    "#SHOW ME stuff in the folder above (one level higher)\n",
    "glob.glob('../*')"
   ]
  },
  {
   "cell_type": "code",
   "execution_count": 11,
   "id": "4726ff64-05ac-4843-9b5d-5bd7e9e4eaaa",
   "metadata": {},
   "outputs": [
    {
     "data": {
      "text/plain": [
       "['..\\\\5.1_functions\\\\functions_(good).ipynb',\n",
       " '..\\\\5.1_functions\\\\functions_(need).ipynb',\n",
       " '..\\\\5.1_functions\\\\functions_(nice).ipynb']"
      ]
     },
     "execution_count": 11,
     "metadata": {},
     "output_type": "execute_result"
    }
   ],
   "source": [
    "glob.glob('../5.1*/*')\n",
    "\n",
    "#RELATIVE PATH\n",
    "#DO NOT USE ABSOLUTE PATHS WHEN SHARING CODE\n",
    "#..\\ go up\n",
    "#5.1* return everything with 5.1\n",
    "#\\*"
   ]
  },
  {
   "cell_type": "code",
   "execution_count": 13,
   "id": "c12b1dab-dcd9-4747-8572-fc702607cfc0",
   "metadata": {},
   "outputs": [
    {
     "name": "stdout",
     "output_type": "stream",
     "text": [
      "A\n",
      "B\n",
      "C\n",
      "\n",
      "A\\nB\\nC\\n\n"
     ]
    }
   ],
   "source": [
    "print('A\\nB\\nC\\n')\n",
    "print(r'A\\nB\\nC\\n') #r removes special commands"
   ]
  },
  {
   "cell_type": "code",
   "execution_count": 16,
   "id": "dfd3e61f-700f-4aac-888e-0918f2b825ba",
   "metadata": {},
   "outputs": [
    {
     "data": {
      "text/plain": [
       "['..\\\\0.1_hello,_github!\\\\hello,_github!_(need).ipynb',\n",
       " '..\\\\0.2_hello,_jupyter!\\\\hello,_jupyter!_(need).ipynb',\n",
       " '..\\\\0.3_Virtual_Environments_(Nice!)\\\\virtual_environments_(nice!).ipynb',\n",
       " '..\\\\1.1_using_jupyter\\\\using_jupyter_(good).ipynb',\n",
       " '..\\\\1.1_using_jupyter\\\\using_jupyter_(need).ipynb',\n",
       " '..\\\\1.2_using_jupyter_,_exercises\\\\using_jupyter_(good),_exercises.ipynb',\n",
       " '..\\\\1.2_using_jupyter_,_exercises\\\\using_jupyter_(need),_exercises.ipynb',\n",
       " '..\\\\2.1_fundamentals\\\\fundamentals_(good).ipynb',\n",
       " '..\\\\2.1_fundamentals\\\\fundamentals_(need).ipynb',\n",
       " '..\\\\2.1_fundamentals\\\\fundamentals_(nice).ipynb',\n",
       " '..\\\\2.2_fundamentals__exercises\\\\fundamentals_(good)_exercises.ipynb',\n",
       " '..\\\\2.2_fundamentals__exercises\\\\fundamentals_(need)_exercises.ipynb',\n",
       " '..\\\\3.1_storing_data\\\\storing_data_(good).ipynb',\n",
       " '..\\\\3.1_storing_data\\\\storing_data_(need).ipynb',\n",
       " '..\\\\3.2_storing_data__exercises\\\\storing_data_(good)_exercises.ipynb',\n",
       " '..\\\\3.2_storing_data__exercises\\\\storing_data_(need)_exercises.ipynb',\n",
       " '..\\\\4.1_loops\\\\loops_(good).ipynb',\n",
       " '..\\\\4.1_loops\\\\loops_(need).ipynb',\n",
       " '..\\\\4.1_loops\\\\loops_(nice).ipynb',\n",
       " '..\\\\4.2_loops__exercises\\\\loops_(good)_exercises.ipynb',\n",
       " '..\\\\4.2_loops__exercises\\\\loops_(need)_exercises.ipynb',\n",
       " '..\\\\5.1_functions\\\\functions_(good).ipynb',\n",
       " '..\\\\5.1_functions\\\\functions_(need).ipynb',\n",
       " '..\\\\5.1_functions\\\\functions_(nice).ipynb',\n",
       " '..\\\\5.2_functions__exercises\\\\functions_(good)_exercises.ipynb',\n",
       " '..\\\\5.2_functions__exercises\\\\functions_(need)_exercises.ipynb',\n",
       " '..\\\\6.1_files,_folders_&_os\\\\files,_folders_&_os_(need).ipynb',\n",
       " '..\\\\6.2_files,_folders_&_os__exercises\\\\files,_folders_&_os_(need)_exercises.ipynb',\n",
       " '..\\\\7.1_plotting\\\\plotting_(good).ipynb',\n",
       " '..\\\\7.1_plotting\\\\plotting_(need).ipynb',\n",
       " '..\\\\7.1_plotting\\\\testingmyfirstplot.png',\n",
       " '..\\\\7.2_plotting__exercises\\\\plotting_(good)_exercises.ipynb',\n",
       " '..\\\\7.2_plotting__exercises\\\\plotting_(need)_exercises.ipynb']"
      ]
     },
     "execution_count": 16,
     "metadata": {},
     "output_type": "execute_result"
    }
   ],
   "source": [
    "glob.glob('../*/*')\n",
    "\n",
    "#RETURN FOLDERS \n",
    "#../\n",
    "#* any folder"
   ]
  },
  {
   "cell_type": "code",
   "execution_count": 20,
   "id": "c23193ab-5e6d-4184-8694-960e4027c3e0",
   "metadata": {},
   "outputs": [
    {
     "data": {
      "text/plain": [
       "['..\\\\7.1_plotting\\\\testingmyfirstplot.png']"
      ]
     },
     "execution_count": 20,
     "metadata": {},
     "output_type": "execute_result"
    }
   ],
   "source": [
    "glob.glob('../**/*.png', recursive=True)"
   ]
  },
  {
   "cell_type": "code",
   "execution_count": 22,
   "id": "4847cf65-37d7-47b7-9d78-1b0823f637c1",
   "metadata": {},
   "outputs": [
    {
     "ename": "ModuleNotFoundError",
     "evalue": "No module named 'Pandoc'",
     "output_type": "error",
     "traceback": [
      "\u001b[1;31m---------------------------------------------------------------------------\u001b[0m",
      "\u001b[1;31mModuleNotFoundError\u001b[0m                       Traceback (most recent call last)",
      "Cell \u001b[1;32mIn[22], line 1\u001b[0m\n\u001b[1;32m----> 1\u001b[0m \u001b[38;5;28;01mimport\u001b[39;00m\u001b[38;5;250m \u001b[39m\u001b[38;5;21;01mPandoc\u001b[39;00m\n",
      "\u001b[1;31mModuleNotFoundError\u001b[0m: No module named 'Pandoc'"
     ]
    }
   ],
   "source": []
  },
  {
   "attachments": {},
   "cell_type": "markdown",
   "id": "a00d8473",
   "metadata": {},
   "source": [
    "# 1 Important concepts"
   ]
  },
  {
   "attachments": {},
   "cell_type": "markdown",
   "id": "1f87dd35",
   "metadata": {},
   "source": [
    "## 1.1 Path"
   ]
  },
  {
   "attachments": {},
   "cell_type": "markdown",
   "id": "c4068746",
   "metadata": {},
   "source": [
    "## 1.2 More about relative paths"
   ]
  },
  {
   "attachments": {},
   "cell_type": "markdown",
   "id": "18ceec11",
   "metadata": {},
   "source": [
    "### macOS or Linux"
   ]
  },
  {
   "cell_type": "code",
   "execution_count": null,
   "id": "eb3e3002",
   "metadata": {},
   "outputs": [],
   "source": [
    "\n",
    "# Your code here\n"
   ]
  },
  {
   "attachments": {},
   "cell_type": "markdown",
   "id": "6be2cba9",
   "metadata": {},
   "source": [
    "## 1.3 Path separator"
   ]
  },
  {
   "cell_type": "code",
   "execution_count": 6,
   "id": "e0015f0d-626d-4cf4-a4bd-a2644ed53b45",
   "metadata": {},
   "outputs": [],
   "source": [
    "#THIS IS A PATH SEPARATOR \\"
   ]
  },
  {
   "attachments": {},
   "cell_type": "markdown",
   "id": "bae0987f",
   "metadata": {},
   "source": [
    "## 1.4 Text files vs. Binary files"
   ]
  },
  {
   "attachments": {},
   "cell_type": "markdown",
   "id": "a5f5b723",
   "metadata": {},
   "source": [
    "## 1.5 Extensions"
   ]
  },
  {
   "attachments": {},
   "cell_type": "markdown",
   "id": "413aa660",
   "metadata": {},
   "source": [
    "# 2 Opening and closing files"
   ]
  },
  {
   "attachments": {},
   "cell_type": "markdown",
   "id": "1e7a8185",
   "metadata": {},
   "source": [
    "## 2.1 Reading data"
   ]
  },
  {
   "attachments": {},
   "cell_type": "markdown",
   "id": "fd656344",
   "metadata": {},
   "source": [
    "## 2.2 Writing data"
   ]
  },
  {
   "attachments": {},
   "cell_type": "markdown",
   "id": "b25835f5",
   "metadata": {},
   "source": [
    "### Writing to a file in one go"
   ]
  },
  {
   "cell_type": "code",
   "execution_count": null,
   "id": "77bae3e7",
   "metadata": {},
   "outputs": [],
   "source": [
    "\n",
    "# Your code here\n"
   ]
  },
  {
   "attachments": {},
   "cell_type": "markdown",
   "id": "9ce28db8",
   "metadata": {},
   "source": [
    "### Writing to a file, line by line"
   ]
  },
  {
   "cell_type": "code",
   "execution_count": null,
   "id": "a0c8f437",
   "metadata": {},
   "outputs": [],
   "source": [
    "\n",
    "# Your code here\n"
   ]
  },
  {
   "attachments": {},
   "cell_type": "markdown",
   "id": "2cf9db1b",
   "metadata": {},
   "source": [
    "# 3 Some useful packages"
   ]
  },
  {
   "attachments": {},
   "cell_type": "markdown",
   "id": "24b3e4c3",
   "metadata": {},
   "source": [
    "# 4 OS safe paths"
   ]
  },
  {
   "attachments": {},
   "cell_type": "markdown",
   "id": "e0392364",
   "metadata": {},
   "source": [
    "# 5 Folders"
   ]
  },
  {
   "attachments": {},
   "cell_type": "markdown",
   "id": "15210f9e",
   "metadata": {},
   "source": [
    "## 5.1 Creating folders"
   ]
  },
  {
   "attachments": {},
   "cell_type": "markdown",
   "id": "3b8ad27a",
   "metadata": {},
   "source": [
    "## 5.2 Checking for existence"
   ]
  },
  {
   "attachments": {},
   "cell_type": "markdown",
   "id": "29b90d72",
   "metadata": {},
   "source": [
    "### Using try-except"
   ]
  },
  {
   "cell_type": "code",
   "execution_count": null,
   "id": "91cb879b",
   "metadata": {},
   "outputs": [],
   "source": [
    "\n",
    "# Your code here\n"
   ]
  },
  {
   "attachments": {},
   "cell_type": "markdown",
   "id": "bbeaae20",
   "metadata": {},
   "source": [
    "### Using os.path.exists()"
   ]
  },
  {
   "cell_type": "code",
   "execution_count": null,
   "id": "9e677264",
   "metadata": {},
   "outputs": [],
   "source": [
    "\n",
    "# Your code here\n"
   ]
  },
  {
   "attachments": {},
   "cell_type": "markdown",
   "id": "449d072e",
   "metadata": {},
   "source": [
    "## 5.3 Copying files"
   ]
  },
  {
   "attachments": {},
   "cell_type": "markdown",
   "id": "3c3d7a18",
   "metadata": {},
   "source": [
    "# 6 Listing and looking for files"
   ]
  },
  {
   "attachments": {},
   "cell_type": "markdown",
   "id": "c1e605b9",
   "metadata": {},
   "source": [
    "# 7 Extracting file info"
   ]
  },
  {
   "attachments": {},
   "cell_type": "markdown",
   "id": "99096e93",
   "metadata": {},
   "source": [
    "# 8 Deleting stuff"
   ]
  }
 ],
 "metadata": {
  "kernelspec": {
   "display_name": "Python 3 (ipykernel)",
   "language": "python",
   "name": "python3"
  },
  "language_info": {
   "codemirror_mode": {
    "name": "ipython",
    "version": 3
   },
   "file_extension": ".py",
   "mimetype": "text/x-python",
   "name": "python",
   "nbconvert_exporter": "python",
   "pygments_lexer": "ipython3",
   "version": "3.12.3"
  },
  "toc": {
   "base_numbering": 1,
   "nav_menu": {},
   "number_sections": true,
   "sideBar": true,
   "skip_h1_title": false,
   "title_cell": "Table of Contents",
   "title_sidebar": "Contents",
   "toc_cell": false,
   "toc_position": {},
   "toc_section_display": true,
   "toc_window_display": false
  },
  "vscode": {
   "interpreter": {
    "hash": "31f2aee4e71d21fbe5cf8b01ff0e069b9275f58929596ceb00d14d90e3e16cd6"
   }
  }
 },
 "nbformat": 4,
 "nbformat_minor": 5
}
