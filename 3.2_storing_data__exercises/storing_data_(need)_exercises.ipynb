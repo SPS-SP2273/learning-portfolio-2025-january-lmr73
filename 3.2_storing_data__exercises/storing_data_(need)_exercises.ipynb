{
 "cells": [
  {
   "attachments": {},
   "cell_type": "markdown",
   "id": "123456",
   "metadata": {},
   "source": [
    "<div style=\"text-align:left;font-size:2em\"><span style=\"font-weight:bolder;font-size:1.25em\">SP2273 | Learning Portfolio</span><br><br><span style=\"font-weight:bold;color:darkred\">Storing Data (Need) Exercises</span></div>"
   ]
  },
  {
   "cell_type": "markdown",
   "id": "034d1b70-6bb0-4af8-b953-9a6eac65ec04",
   "metadata": {},
   "source": [
    "# Exercise 1 (Total recall?) "
   ]
  },
  {
   "cell_type": "markdown",
   "id": "89daf376-b4fc-4a3c-a351-5ed00e2a23b4",
   "metadata": {},
   "source": [
    "**Two similarities betwmeen lists and arrays.**\n",
    "- Both stores information separated by a comma.\n",
    "- Both are able to be referenced.\n",
    "\n",
    "\n",
    "**Two differences between lists and arrays.**\n",
    "- Arrays are used for computations while lists are used for storing data where the data is still being updated.\n",
    "- _Numpy Arrays can only accept one type of data eg. str, or int_\n",
    "- _Operations on arrays affect each element, while operations on lists is done as a whole_\n",
    "\n",
    "\n",
    "**What is a dictionary?** \n",
    "\\\n",
    "It has a key and a corresponding value, useful for indexing and matching."
   ]
  },
  {
   "cell_type": "code",
   "execution_count": 1,
   "id": "c7aff353-f916-4c39-b4e7-d430b5fc097b",
   "metadata": {},
   "outputs": [],
   "source": [
    "import numpy as np"
   ]
  },
  {
   "cell_type": "markdown",
   "id": "5f6501ca-b81f-4a47-aa3c-bd9e253c9842",
   "metadata": {},
   "source": [
    "# Exercise 2 (Indexing) "
   ]
  },
  {
   "cell_type": "code",
   "execution_count": 6,
   "id": "bb5a7686-119b-43f2-98e2-f8e171fc6c1b",
   "metadata": {},
   "outputs": [
    {
     "name": "stdout",
     "output_type": "stream",
     "text": [
      "a1\n",
      "c3\n",
      "e5\n",
      "g7\n",
      "i9\n"
     ]
    }
   ],
   "source": [
    "py_list = [\"a1\", \"b2\", \"c3\", \"d4\", \"e5\", \"f6\", \"g7\", \"h8\", \"i9\", \"j10\"]\n",
    "                    # Prints 'a1'\n",
    "                    # Prints 'c3'\n",
    "                    # Prints 'e5'\n",
    "                    # Prints 'g7'\n",
    "n=0\n",
    "for n in range (0,n+10):\n",
    "    if n%2 == 0:\n",
    "        print(py_list[n])\n",
    "        n+=1\n",
    "    else:\n",
    "        n+=1\n",
    "    \n",
    "\n",
    "#print(py_list[8])   # Prints 'i9'"
   ]
  },
  {
   "cell_type": "markdown",
   "id": "1d5d28ab-4eef-4463-b778-edac71b6bb37",
   "metadata": {},
   "source": [
    "# Exercise 3 (Index again)"
   ]
  },
  {
   "cell_type": "code",
   "execution_count": 33,
   "id": "5928098f-758c-4ab3-b259-8bb2636de57b",
   "metadata": {},
   "outputs": [
    {
     "name": "stdout",
     "output_type": "stream",
     "text": [
      "Boron\n"
     ]
    }
   ],
   "source": [
    "elements = ['Hydrogen',\n",
    "            'Helium', 'Lithium',\n",
    "            'Beryllium', 'Boron', 'Carbon',\n",
    "            'Nitrogen', 'Oxygen',\n",
    "            'Fluorine',\n",
    "            'Neon']\n",
    "print(elements[4])"
   ]
  },
  {
   "cell_type": "code",
   "execution_count": 34,
   "id": "78b8cfbc-2380-4e4d-90e8-eae3a41e516e",
   "metadata": {},
   "outputs": [
    {
     "name": "stdout",
     "output_type": "stream",
     "text": [
      "Nitrogen\n"
     ]
    }
   ],
   "source": [
    "print(elements[-4])"
   ]
  },
  {
   "cell_type": "markdown",
   "id": "13a617c3-1620-48ae-b41a-fda0585dff6d",
   "metadata": {},
   "source": [
    "# Exercise 4 (How many ones)"
   ]
  },
  {
   "cell_type": "code",
   "execution_count": 43,
   "id": "4306874e-d6f0-4bc3-8bce-114a34887106",
   "metadata": {},
   "outputs": [
    {
     "name": "stdout",
     "output_type": "stream",
     "text": [
      "9\n"
     ]
    }
   ],
   "source": [
    "import numpy as np\n",
    "\n",
    "numbers=[45, 60, 1, 30, 96, 1, 96, 57, 16, 1,\n",
    "        99, 62, 86, 43, 42, 60, 59, 1, 1, 35,\n",
    "        83, 47, 34, 28, 68, 23, 22, 92, 1, 79,\n",
    "        1, 29, 94, 72, 46, 47, 1, 74, 32, 20,\n",
    "        8, 37, 35, 1, 89, 29, 86, 19, 43, 61]\n",
    "\n",
    "array1=np.array(numbers)\n",
    "\n",
    "\n",
    "print(sum(array1==1))"
   ]
  },
  {
   "cell_type": "markdown",
   "id": "fc02b7d6-1035-46cd-8554-4d1d628275fc",
   "metadata": {},
   "source": [
    "# Exercise 5 (A Matter of Statistics)"
   ]
  },
  {
   "cell_type": "code",
   "execution_count": 83,
   "id": "e2bd3b3e-bd72-4abe-a11e-70564561f9d6",
   "metadata": {},
   "outputs": [
    {
     "name": "stdout",
     "output_type": "stream",
     "text": [
      "38.5\n",
      "302.5\n",
      "32.41990129534635\n",
      "326.0893282522444\n",
      "0.9871796626270701\n",
      "[[1.         0.98717966]\n",
      " [0.98717966 1.        ]]\n",
      "1.0\n",
      "1.0\n"
     ]
    }
   ],
   "source": [
    "x_1 = [1, 4, 9, 16, 25, 36, 49, 64, 81, 100]\n",
    "x_2 = [1, 8, 27, 64, 125, 216, 343, 512, 729, 1000]\n",
    "\n",
    "array1=np.array(x_1)\n",
    "array2=np.array(x_2)\n",
    "\n",
    "mean1 = np.mean(array1)\n",
    "print(mean1)\n",
    "\n",
    "mean2 = np.mean(array2)\n",
    "print(mean2)\n",
    "\n",
    "\n",
    "std1 = np.std(array1)\n",
    "print(std1)\n",
    "\n",
    "std2= np.std(array2)\n",
    "print(std2)\n",
    "\n",
    "\n",
    "pc_diy= (sum((array1-mean1)*(array2-mean2)))/(np.sqrt((sum((array1-mean1)**2))*(sum((array2-mean2)**2))))\n",
    "print(pc_diy)\n",
    "\n",
    "pc1=np.corrcoef(array1) #what is the syntax / input values of this functions\n",
    "pc2=np.corrcoef(array2) #this only has input from one array while pc_diy has inputs from both arrays? confused.\n",
    "\n",
    "pc_new=np.corrcoef(array1, array2)\n",
    "print(pc_new) #output a 2d array :( how to get the correct corrcoef value GOOGLE IT!!!\n",
    "\n",
    "\n",
    "print(pc1)\n",
    "print(pc2)"
   ]
  },
  {
   "cell_type": "markdown",
   "id": "131c0243-2f18-4d0a-98ae-4ae0045fe48a",
   "metadata": {},
   "source": [
    "[![pearsons coeff](https://datatab.net/assets/tutorial/Equation_Pearson_Correlation.png)]"
   ]
  },
  {
   "cell_type": "code",
   "execution_count": 79,
   "id": "16e5d3d7-1c76-4c08-a8f8-ac3b77b30f98",
   "metadata": {},
   "outputs": [
    {
     "data": {
      "text/plain": [
       "\u001b[1;31mSignature:\u001b[0m      \n",
       "\u001b[0mnp\u001b[0m\u001b[1;33m.\u001b[0m\u001b[0mcorrcoef\u001b[0m\u001b[1;33m(\u001b[0m\u001b[1;33m\n",
       "\u001b[0m    \u001b[0mx\u001b[0m\u001b[1;33m,\u001b[0m\u001b[1;33m\n",
       "\u001b[0m    \u001b[0my\u001b[0m\u001b[1;33m=\u001b[0m\u001b[1;32mNone\u001b[0m\u001b[1;33m,\u001b[0m\u001b[1;33m\n",
       "\u001b[0m    \u001b[0mrowvar\u001b[0m\u001b[1;33m=\u001b[0m\u001b[1;32mTrue\u001b[0m\u001b[1;33m,\u001b[0m\u001b[1;33m\n",
       "\u001b[0m    \u001b[0mbias\u001b[0m\u001b[1;33m=\u001b[0m\u001b[1;33m<\u001b[0m\u001b[0mno\u001b[0m \u001b[0mvalue\u001b[0m\u001b[1;33m>\u001b[0m\u001b[1;33m,\u001b[0m\u001b[1;33m\n",
       "\u001b[0m    \u001b[0mddof\u001b[0m\u001b[1;33m=\u001b[0m\u001b[1;33m<\u001b[0m\u001b[0mno\u001b[0m \u001b[0mvalue\u001b[0m\u001b[1;33m>\u001b[0m\u001b[1;33m,\u001b[0m\u001b[1;33m\n",
       "\u001b[0m    \u001b[1;33m*\u001b[0m\u001b[1;33m,\u001b[0m\u001b[1;33m\n",
       "\u001b[0m    \u001b[0mdtype\u001b[0m\u001b[1;33m=\u001b[0m\u001b[1;32mNone\u001b[0m\u001b[1;33m,\u001b[0m\u001b[1;33m\n",
       "\u001b[0m\u001b[1;33m)\u001b[0m\u001b[1;33m\u001b[0m\u001b[1;33m\u001b[0m\u001b[0m\n",
       "\u001b[1;31mCall signature:\u001b[0m  \u001b[0mnp\u001b[0m\u001b[1;33m.\u001b[0m\u001b[0mcorrcoef\u001b[0m\u001b[1;33m(\u001b[0m\u001b[1;33m*\u001b[0m\u001b[0margs\u001b[0m\u001b[1;33m,\u001b[0m \u001b[1;33m**\u001b[0m\u001b[0mkwargs\u001b[0m\u001b[1;33m)\u001b[0m\u001b[1;33m\u001b[0m\u001b[1;33m\u001b[0m\u001b[0m\n",
       "\u001b[1;31mType:\u001b[0m            _ArrayFunctionDispatcher\n",
       "\u001b[1;31mString form:\u001b[0m     <function corrcoef at 0x0000017DB6D5DF80>\n",
       "\u001b[1;31mFile:\u001b[0m            c:\\users\\lmr20\\miniconda3\\lib\\site-packages\\numpy\\lib\\_function_base_impl.py\n",
       "\u001b[1;31mDocstring:\u001b[0m      \n",
       "Return Pearson product-moment correlation coefficients.\n",
       "\n",
       "Please refer to the documentation for `cov` for more detail.  The\n",
       "relationship between the correlation coefficient matrix, `R`, and the\n",
       "covariance matrix, `C`, is\n",
       "\n",
       ".. math:: R_{ij} = \\frac{ C_{ij} } { \\sqrt{ C_{ii} C_{jj} } }\n",
       "\n",
       "The values of `R` are between -1 and 1, inclusive.\n",
       "\n",
       "Parameters\n",
       "----------\n",
       "x : array_like\n",
       "    A 1-D or 2-D array containing multiple variables and observations.\n",
       "    Each row of `x` represents a variable, and each column a single\n",
       "    observation of all those variables. Also see `rowvar` below.\n",
       "y : array_like, optional\n",
       "    An additional set of variables and observations. `y` has the same\n",
       "    shape as `x`.\n",
       "rowvar : bool, optional\n",
       "    If `rowvar` is True (default), then each row represents a\n",
       "    variable, with observations in the columns. Otherwise, the relationship\n",
       "    is transposed: each column represents a variable, while the rows\n",
       "    contain observations.\n",
       "bias : _NoValue, optional\n",
       "    Has no effect, do not use.\n",
       "\n",
       "    .. deprecated:: 1.10.0\n",
       "ddof : _NoValue, optional\n",
       "    Has no effect, do not use.\n",
       "\n",
       "    .. deprecated:: 1.10.0\n",
       "dtype : data-type, optional\n",
       "    Data-type of the result. By default, the return data-type will have\n",
       "    at least `numpy.float64` precision.\n",
       "\n",
       "    .. versionadded:: 1.20\n",
       "\n",
       "Returns\n",
       "-------\n",
       "R : ndarray\n",
       "    The correlation coefficient matrix of the variables.\n",
       "\n",
       "See Also\n",
       "--------\n",
       "cov : Covariance matrix\n",
       "\n",
       "Notes\n",
       "-----\n",
       "Due to floating point rounding the resulting array may not be Hermitian,\n",
       "the diagonal elements may not be 1, and the elements may not satisfy the\n",
       "inequality abs(a) <= 1. The real and imaginary parts are clipped to the\n",
       "interval [-1,  1] in an attempt to improve on that situation but is not\n",
       "much help in the complex case.\n",
       "\n",
       "This function accepts but discards arguments `bias` and `ddof`.  This is\n",
       "for backwards compatibility with previous versions of this function.  These\n",
       "arguments had no effect on the return values of the function and can be\n",
       "safely ignored in this and previous versions of numpy.\n",
       "\n",
       "Examples\n",
       "--------\n",
       ">>> import numpy as np\n",
       "\n",
       "In this example we generate two random arrays, ``xarr`` and ``yarr``, and\n",
       "compute the row-wise and column-wise Pearson correlation coefficients,\n",
       "``R``. Since ``rowvar`` is  true by  default, we first find the row-wise\n",
       "Pearson correlation coefficients between the variables of ``xarr``.\n",
       "\n",
       ">>> import numpy as np\n",
       ">>> rng = np.random.default_rng(seed=42)\n",
       ">>> xarr = rng.random((3, 3))\n",
       ">>> xarr\n",
       "array([[0.77395605, 0.43887844, 0.85859792],\n",
       "       [0.69736803, 0.09417735, 0.97562235],\n",
       "       [0.7611397 , 0.78606431, 0.12811363]])\n",
       ">>> R1 = np.corrcoef(xarr)\n",
       ">>> R1\n",
       "array([[ 1.        ,  0.99256089, -0.68080986],\n",
       "       [ 0.99256089,  1.        , -0.76492172],\n",
       "       [-0.68080986, -0.76492172,  1.        ]])\n",
       "\n",
       "If we add another set of variables and observations ``yarr``, we can\n",
       "compute the row-wise Pearson correlation coefficients between the\n",
       "variables in ``xarr`` and ``yarr``.\n",
       "\n",
       ">>> yarr = rng.random((3, 3))\n",
       ">>> yarr\n",
       "array([[0.45038594, 0.37079802, 0.92676499],\n",
       "       [0.64386512, 0.82276161, 0.4434142 ],\n",
       "       [0.22723872, 0.55458479, 0.06381726]])\n",
       ">>> R2 = np.corrcoef(xarr, yarr)\n",
       ">>> R2\n",
       "array([[ 1.        ,  0.99256089, -0.68080986,  0.75008178, -0.934284  ,\n",
       "        -0.99004057],\n",
       "       [ 0.99256089,  1.        , -0.76492172,  0.82502011, -0.97074098,\n",
       "        -0.99981569],\n",
       "       [-0.68080986, -0.76492172,  1.        , -0.99507202,  0.89721355,\n",
       "         0.77714685],\n",
       "       [ 0.75008178,  0.82502011, -0.99507202,  1.        , -0.93657855,\n",
       "        -0.83571711],\n",
       "       [-0.934284  , -0.97074098,  0.89721355, -0.93657855,  1.        ,\n",
       "         0.97517215],\n",
       "       [-0.99004057, -0.99981569,  0.77714685, -0.83571711,  0.97517215,\n",
       "         1.        ]])\n",
       "\n",
       "Finally if we use the option ``rowvar=False``, the columns are now\n",
       "being treated as the variables and we will find the column-wise Pearson\n",
       "correlation coefficients between variables in ``xarr`` and ``yarr``.\n",
       "\n",
       ">>> R3 = np.corrcoef(xarr, yarr, rowvar=False)\n",
       ">>> R3\n",
       "array([[ 1.        ,  0.77598074, -0.47458546, -0.75078643, -0.9665554 ,\n",
       "         0.22423734],\n",
       "       [ 0.77598074,  1.        , -0.92346708, -0.99923895, -0.58826587,\n",
       "        -0.44069024],\n",
       "       [-0.47458546, -0.92346708,  1.        ,  0.93773029,  0.23297648,\n",
       "         0.75137473],\n",
       "       [-0.75078643, -0.99923895,  0.93773029,  1.        ,  0.55627469,\n",
       "         0.47536961],\n",
       "       [-0.9665554 , -0.58826587,  0.23297648,  0.55627469,  1.        ,\n",
       "        -0.46666491],\n",
       "       [ 0.22423734, -0.44069024,  0.75137473,  0.47536961, -0.46666491,\n",
       "         1.        ]])\n",
       "\u001b[1;31mClass docstring:\u001b[0m\n",
       "Class to wrap functions with checks for __array_function__ overrides.\n",
       "\n",
       "All arguments are required, and can only be passed by position.\n",
       "\n",
       "Parameters\n",
       "----------\n",
       "dispatcher : function or None\n",
       "    The dispatcher function that returns a single sequence-like object\n",
       "    of all arguments relevant.  It must have the same signature (except\n",
       "    the default values) as the actual implementation.\n",
       "    If ``None``, this is a ``like=`` dispatcher and the\n",
       "    ``_ArrayFunctionDispatcher`` must be called with ``like`` as the\n",
       "    first (additional and positional) argument.\n",
       "implementation : function\n",
       "    Function that implements the operation on NumPy arrays without\n",
       "    overrides.  Arguments passed calling the ``_ArrayFunctionDispatcher``\n",
       "    will be forwarded to this (and the ``dispatcher``) as if using\n",
       "    ``*args, **kwargs``.\n",
       "\n",
       "Attributes\n",
       "----------\n",
       "_implementation : function\n",
       "    The original implementation passed in."
      ]
     },
     "metadata": {},
     "output_type": "display_data"
    }
   ],
   "source": [
    "import numpy as np\n",
    "?np.corrcoef"
   ]
  }
 ],
 "metadata": {
  "kernelspec": {
   "display_name": "Python 3 (ipykernel)",
   "language": "python",
   "name": "python3"
  },
  "language_info": {
   "codemirror_mode": {
    "name": "ipython",
    "version": 3
   },
   "file_extension": ".py",
   "mimetype": "text/x-python",
   "name": "python",
   "nbconvert_exporter": "python",
   "pygments_lexer": "ipython3",
   "version": "3.12.3"
  },
  "toc": {
   "base_numbering": 1,
   "nav_menu": {},
   "number_sections": true,
   "sideBar": true,
   "skip_h1_title": false,
   "title_cell": "Table of Contents",
   "title_sidebar": "Contents",
   "toc_cell": false,
   "toc_position": {},
   "toc_section_display": true,
   "toc_window_display": false
  },
  "vscode": {
   "interpreter": {
    "hash": "31f2aee4e71d21fbe5cf8b01ff0e069b9275f58929596ceb00d14d90e3e16cd6"
   }
  }
 },
 "nbformat": 4,
 "nbformat_minor": 5
}
