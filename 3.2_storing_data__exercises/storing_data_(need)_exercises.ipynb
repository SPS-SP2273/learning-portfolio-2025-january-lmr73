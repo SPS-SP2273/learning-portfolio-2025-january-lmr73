{
 "cells": [
  {
   "attachments": {},
   "cell_type": "markdown",
   "id": "123456",
   "metadata": {},
   "source": [
    "<div style=\"text-align:left;font-size:2em\"><span style=\"font-weight:bolder;font-size:1.25em\">SP2273 | Learning Portfolio</span><br><br><span style=\"font-weight:bold;color:darkred\">Storing Data (Need) Exercises</span></div>"
   ]
  },
  {
   "cell_type": "markdown",
   "id": "034d1b70-6bb0-4af8-b953-9a6eac65ec04",
   "metadata": {},
   "source": [
    "# Exercise 1 (Total recall?) "
   ]
  },
  {
   "cell_type": "markdown",
   "id": "89daf376-b4fc-4a3c-a351-5ed00e2a23b4",
   "metadata": {},
   "source": [
    "**Two similarities betwmeen lists and arrays.**\n",
    "- Both stores information separated by a comma.\n",
    "- Both are able to be referenced.\n",
    "\n",
    "\n",
    "**Two differences between lists and arrays.**\n",
    "- Arrays are used for computations while lists are used for storing data where the data is still being updated.\n",
    "- _Numpy Arrays can only accept one type of data eg. str, or int_\n",
    "- _Operations on arrays affect each element, while operations on lists is done as a whole_\n",
    "\n",
    "\n",
    "**What is a dictionary?** \n",
    "\\\n",
    "It has a key and a corresponding value, useful for indexing and matching."
   ]
  },
  {
   "cell_type": "code",
   "execution_count": 1,
   "id": "c7aff353-f916-4c39-b4e7-d430b5fc097b",
   "metadata": {},
   "outputs": [],
   "source": [
    "import numpy as np"
   ]
  },
  {
   "cell_type": "markdown",
   "id": "5f6501ca-b81f-4a47-aa3c-bd9e253c9842",
   "metadata": {},
   "source": [
    "# Exercise 2 (Indexing) "
   ]
  },
  {
   "cell_type": "code",
   "execution_count": 31,
   "id": "bb5a7686-119b-43f2-98e2-f8e171fc6c1b",
   "metadata": {},
   "outputs": [
    {
     "name": "stdout",
     "output_type": "stream",
     "text": [
      "a1\n",
      "c3\n",
      "e5\n",
      "g7\n",
      "i9\n"
     ]
    }
   ],
   "source": [
    "py_list = [\"a1\", \"b2\", \"c3\", \"d4\", \"e5\", \"f6\", \"g7\", \"h8\", \"i9\", \"j10\"]\n",
    "                    # Prints 'a1'\n",
    "                    # Prints 'c3'\n",
    "                    # Prints 'e5'\n",
    "                    # Prints 'g7'\n",
    "n=0\n",
    "for n in range (0,n+10):\n",
    "    if n%2 == 0:\n",
    "        print(py_list[n])\n",
    "        n+=1\n",
    "    else:\n",
    "        n+=1\n",
    "    \n",
    "\n",
    "#print(py_list[8])   # Prints 'i9'"
   ]
  },
  {
   "cell_type": "markdown",
   "id": "1d5d28ab-4eef-4463-b778-edac71b6bb37",
   "metadata": {},
   "source": [
    "# Exercise 3 (Index again)"
   ]
  },
  {
   "cell_type": "code",
   "execution_count": 33,
   "id": "5928098f-758c-4ab3-b259-8bb2636de57b",
   "metadata": {},
   "outputs": [
    {
     "name": "stdout",
     "output_type": "stream",
     "text": [
      "Boron\n"
     ]
    }
   ],
   "source": [
    "elements = ['Hydrogen',\n",
    "            'Helium', 'Lithium',\n",
    "            'Beryllium', 'Boron', 'Carbon',\n",
    "            'Nitrogen', 'Oxygen',\n",
    "            'Fluorine',\n",
    "            'Neon']\n",
    "print(elements[4])"
   ]
  },
  {
   "cell_type": "code",
   "execution_count": 34,
   "id": "78b8cfbc-2380-4e4d-90e8-eae3a41e516e",
   "metadata": {},
   "outputs": [
    {
     "name": "stdout",
     "output_type": "stream",
     "text": [
      "Nitrogen\n"
     ]
    }
   ],
   "source": [
    "print(elements[-4])"
   ]
  },
  {
   "cell_type": "markdown",
   "id": "13a617c3-1620-48ae-b41a-fda0585dff6d",
   "metadata": {},
   "source": [
    "# Exercise 4 (How many ones)"
   ]
  },
  {
   "cell_type": "code",
   "execution_count": 43,
   "id": "4306874e-d6f0-4bc3-8bce-114a34887106",
   "metadata": {},
   "outputs": [
    {
     "name": "stdout",
     "output_type": "stream",
     "text": [
      "9\n"
     ]
    }
   ],
   "source": [
    "import numpy as np\n",
    "\n",
    "numbers=[45, 60, 1, 30, 96, 1, 96, 57, 16, 1,\n",
    "        99, 62, 86, 43, 42, 60, 59, 1, 1, 35,\n",
    "        83, 47, 34, 28, 68, 23, 22, 92, 1, 79,\n",
    "        1, 29, 94, 72, 46, 47, 1, 74, 32, 20,\n",
    "        8, 37, 35, 1, 89, 29, 86, 19, 43, 61]\n",
    "\n",
    "array1=np.array(numbers)\n",
    "\n",
    "\n",
    "print(sum(array1==1))"
   ]
  },
  {
   "cell_type": "markdown",
   "id": "fc02b7d6-1035-46cd-8554-4d1d628275fc",
   "metadata": {},
   "source": [
    "# Exercise 5 (A Matter of Statistics)"
   ]
  },
  {
   "cell_type": "code",
   "execution_count": 78,
   "id": "e2bd3b3e-bd72-4abe-a11e-70564561f9d6",
   "metadata": {},
   "outputs": [
    {
     "name": "stdout",
     "output_type": "stream",
     "text": [
      "38.5\n",
      "302.5\n",
      "32.41990129534635\n",
      "326.0893282522444\n",
      "0.9871796626270701\n",
      "1.0\n",
      "1.0\n"
     ]
    }
   ],
   "source": [
    "x_1 = [1, 4, 9, 16, 25, 36, 49, 64, 81, 100]\n",
    "x_2 = [1, 8, 27, 64, 125, 216, 343, 512, 729, 1000]\n",
    "\n",
    "array1=np.array(x_1)\n",
    "array2=np.array(x_2)\n",
    "\n",
    "mean1 = np.mean(array1)\n",
    "print(mean1)\n",
    "\n",
    "mean2 = np.mean(array2)\n",
    "print(mean2)\n",
    "\n",
    "\n",
    "std1 = np.std(array1)\n",
    "print(std1)\n",
    "\n",
    "std2= np.std(array2)\n",
    "print(std2)\n",
    "\n",
    "\n",
    "pc_diy= (sum((array1-mean1)*(array2-mean2)))/(np.sqrt((sum((array1-mean1)**2))*(sum((array2-mean2)**2))))\n",
    "print(pc_diy)\n",
    "\n",
    "pc1=np.corrcoef(array1) #what is the syntax / input values of this functions\n",
    "pc2=np.corrcoef(array2) #this only has input from one array while pc_diy has inputs from both arrays? confused.\n",
    "\n",
    "print(pc1)\n",
    "print(pc2)"
   ]
  },
  {
   "cell_type": "markdown",
   "id": "131c0243-2f18-4d0a-98ae-4ae0045fe48a",
   "metadata": {},
   "source": [
    "[![pearsons coeff](https://datatab.net/assets/tutorial/Equation_Pearson_Correlation.png)]"
   ]
  },
  {
   "cell_type": "code",
   "execution_count": null,
   "id": "16e5d3d7-1c76-4c08-a8f8-ac3b77b30f98",
   "metadata": {},
   "outputs": [],
   "source": []
  }
 ],
 "metadata": {
  "kernelspec": {
   "display_name": "Python 3 (ipykernel)",
   "language": "python",
   "name": "python3"
  },
  "language_info": {
   "codemirror_mode": {
    "name": "ipython",
    "version": 3
   },
   "file_extension": ".py",
   "mimetype": "text/x-python",
   "name": "python",
   "nbconvert_exporter": "python",
   "pygments_lexer": "ipython3",
   "version": "3.12.3"
  },
  "toc": {
   "base_numbering": 1,
   "nav_menu": {},
   "number_sections": true,
   "sideBar": true,
   "skip_h1_title": false,
   "title_cell": "Table of Contents",
   "title_sidebar": "Contents",
   "toc_cell": false,
   "toc_position": {},
   "toc_section_display": true,
   "toc_window_display": false
  },
  "vscode": {
   "interpreter": {
    "hash": "31f2aee4e71d21fbe5cf8b01ff0e069b9275f58929596ceb00d14d90e3e16cd6"
   }
  }
 },
 "nbformat": 4,
 "nbformat_minor": 5
}
