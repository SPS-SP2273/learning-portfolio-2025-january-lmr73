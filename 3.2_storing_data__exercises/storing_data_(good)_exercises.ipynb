{
 "cells": [
  {
   "attachments": {},
   "cell_type": "markdown",
   "id": "123456",
   "metadata": {},
   "source": [
    "<div style=\"text-align:left;font-size:2em\"><span style=\"font-weight:bolder;font-size:1.25em\">SP2273 | Learning Portfolio</span><br><br><span style=\"font-weight:bold;color:darkred\">Storing Data (Good) Exercises</span></div>"
   ]
  },
  {
   "cell_type": "markdown",
   "id": "055a825e-f95e-40d3-8b21-add0747b71ef",
   "metadata": {},
   "source": [
    "# Exercise 1 (Total recall)"
   ]
  },
  {
   "cell_type": "markdown",
   "id": "6d31344a-cb3a-43c6-adaf-981dbe1e00d7",
   "metadata": {},
   "source": [
    "| Term       | Brief description |\n",
    "|------------|-------------------|\n",
    "| Subsetting | Select a sub-group.                  |\n",
    "| Indexing   | Selecting elements.                  |\n",
    "| Slicing    | Splitting up a list _(selecting a range of elements)_.                  |\n",
    "| Masking    | Subsetting based on True/False condition.                  |"
   ]
  },
  {
   "cell_type": "markdown",
   "id": "fb305640-96fd-46fa-8698-8a46a17bbde1",
   "metadata": {},
   "source": [
    "# Exercise 2 (Show me the ‘odd’ letters) "
   ]
  },
  {
   "cell_type": "code",
   "execution_count": 38,
   "id": "b9bdcdca-8a23-4a78-ac00-8b31562eac40",
   "metadata": {},
   "outputs": [
    {
     "name": "stdout",
     "output_type": "stream",
     "text": [
      "['A' 'C' 'B']\n"
     ]
    }
   ],
   "source": [
    "#EXPERIMENT\n",
    "print(np_array_2d[:3,1]) # '0' returns keys, '1' returns values"
   ]
  },
  {
   "cell_type": "code",
   "execution_count": 37,
   "id": "a551aaf9-a65f-41f3-94b3-80e330f985bc",
   "metadata": {},
   "outputs": [
    {
     "name": "stdout",
     "output_type": "stream",
     "text": [
      "['A' 'C' 'E' 'G' 'I']\n"
     ]
    }
   ],
   "source": [
    "import numpy as np\n",
    "\n",
    "np_array_2d = np.array([[1, \"A\"], [3, \"C\"], [2, \"B\"], [4, \"D\"],\n",
    "                        [5, \"E\"], [7, \"G\"], [6, \"F\"], [8, \"H\"],\n",
    "                        [10, \"J\"], [9, \"I\"]])\n",
    "\n",
    "numbers = np_array_2d[:,0] #select only numbers\n",
    "numbers = numbers.astype(int) #convert to int\n",
    "odd = numbers%2 #even numbers will have no remainder\n",
    "odd = odd != 0 #'odd' is now an array of TRUE for odd, FALSE for even\n",
    "\n",
    "print(np_array_2d[odd,1]) #printing the mask, only values."
   ]
  },
  {
   "cell_type": "markdown",
   "id": "a99cc2d6-cb3a-4a45-8c29-4d6b5d9d4e7b",
   "metadata": {},
   "source": [
    "# Exercise 3"
   ]
  },
  {
   "cell_type": "code",
   "execution_count": 43,
   "id": "ff6749a2-5082-4978-be9c-42076c828e89",
   "metadata": {},
   "outputs": [
    {
     "name": "stdout",
     "output_type": "stream",
     "text": [
      "[[ True False  True False False]\n",
      " [ True False  True False False]\n",
      " [ True False False  True False]\n",
      " [False  True  True False False]\n",
      " [ True False  True False  True]]\n",
      "[66 57 92 88 75 76 51 87 71 67 69]\n"
     ]
    }
   ],
   "source": [
    "funny_list = [[66, 50, 57, -1, -1],\n",
    " [92, -1, 88, -1, -1],\n",
    " [75, -1, -1, 76, -1],\n",
    " [-1, 51, 87, -1, -1],\n",
    " [71, -1, 67, -1, 69]]\n",
    "\n",
    "funny_array = np.array(funny_list)\n",
    "\n",
    "big_number = funny_array > 50\n",
    "\n",
    "print(big_number) #just checking\n",
    "\n",
    "print(funny_array[big_number])\n"
   ]
  }
 ],
 "metadata": {
  "kernelspec": {
   "display_name": "Python 3 (ipykernel)",
   "language": "python",
   "name": "python3"
  },
  "language_info": {
   "codemirror_mode": {
    "name": "ipython",
    "version": 3
   },
   "file_extension": ".py",
   "mimetype": "text/x-python",
   "name": "python",
   "nbconvert_exporter": "python",
   "pygments_lexer": "ipython3",
   "version": "3.12.3"
  },
  "toc": {
   "base_numbering": 1,
   "nav_menu": {},
   "number_sections": true,
   "sideBar": true,
   "skip_h1_title": false,
   "title_cell": "Table of Contents",
   "title_sidebar": "Contents",
   "toc_cell": false,
   "toc_position": {},
   "toc_section_display": true,
   "toc_window_display": false
  },
  "vscode": {
   "interpreter": {
    "hash": "31f2aee4e71d21fbe5cf8b01ff0e069b9275f58929596ceb00d14d90e3e16cd6"
   }
  }
 },
 "nbformat": 4,
 "nbformat_minor": 5
}
