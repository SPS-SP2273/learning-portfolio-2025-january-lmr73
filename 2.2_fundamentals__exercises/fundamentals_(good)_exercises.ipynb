{
 "cells": [
  {
   "attachments": {},
   "cell_type": "markdown",
   "id": "123456",
   "metadata": {},
   "source": [
    "<div style=\"text-align:left;font-size:2em\"><span style=\"font-weight:bolder;font-size:1.25em\">SP2273 | Learning Portfolio</span><br><br><span style=\"font-weight:bold;color:darkred\">Fundamentals (Good) Exercises</span></div>"
   ]
  },
  {
   "cell_type": "markdown",
   "id": "42b317e4-14de-4079-a5e1-1721ddd15cbb",
   "metadata": {},
   "source": [
    "# Exercise 1 (f-strings to the rescue) "
   ]
  },
  {
   "cell_type": "code",
   "execution_count": 11,
   "id": "fe19b16a-7bcb-4674-a3eb-0379aff4a5e2",
   "metadata": {},
   "outputs": [
    {
     "name": "stdin",
     "output_type": "stream",
     "text": [
      "What is your name? MING RONG\n"
     ]
    },
    {
     "name": "stdout",
     "output_type": "stream",
     "text": [
      "How you doin MING RONG!\n"
     ]
    }
   ],
   "source": [
    "user_input = input('What is your name?')\n",
    "print('How you doin ', user_input,\"!\", sep='')"
   ]
  },
  {
   "cell_type": "code",
   "execution_count": 16,
   "id": "a3192339-97b2-40b7-af86-4168d756b5ee",
   "metadata": {},
   "outputs": [
    {
     "name": "stdin",
     "output_type": "stream",
     "text": [
      "What is your name? MING RONG\n",
      "What is your age? 22\n"
     ]
    },
    {
     "name": "stdout",
     "output_type": "stream",
     "text": [
      "My name is MING RONG and I am 22 years old.\n"
     ]
    }
   ],
   "source": [
    "user_name = input('What is your name?')\n",
    "user_age = input ('What is your age?')\n",
    "print('My name is ', user_name, ' and I am ', user_age, ' years old.', sep='')"
   ]
  },
  {
   "cell_type": "code",
   "execution_count": 33,
   "id": "f2ce3cad-f0aa-47c5-98e4-9cc30efbdbf4",
   "metadata": {},
   "outputs": [],
   "source": [
    "pi = 3.141592\n",
    "def hehe(x):\n",
    "    print(f'{'The value of pi to'} {x} {'decimal places is: '}{pi:.{x}f}')"
   ]
  },
  {
   "cell_type": "code",
   "execution_count": 36,
   "id": "c8314ee7-b368-49dd-a869-5e91d0258b85",
   "metadata": {},
   "outputs": [
    {
     "name": "stdout",
     "output_type": "stream",
     "text": [
      "The value of pi to 2 decimal places is: 3.14\n"
     ]
    }
   ],
   "source": [
    "hehe(2)"
   ]
  },
  {
   "cell_type": "code",
   "execution_count": 37,
   "id": "8d4f42b5-6a97-4d8b-afe9-cd8f262d6213",
   "metadata": {},
   "outputs": [
    {
     "name": "stdout",
     "output_type": "stream",
     "text": [
      "The value of pi to 3 decimal places is: 3.142\n"
     ]
    }
   ],
   "source": [
    "hehe(3)"
   ]
  },
  {
   "cell_type": "code",
   "execution_count": 38,
   "id": "27064da8-2969-4f22-9b76-a65852baa93d",
   "metadata": {},
   "outputs": [
    {
     "name": "stdout",
     "output_type": "stream",
     "text": [
      "The value of pi to 4 decimal places is: 3.1416\n"
     ]
    }
   ],
   "source": [
    "hehe(4)"
   ]
  },
  {
   "cell_type": "markdown",
   "id": "c201d28b-7f2c-4d12-9e29-c829328295af",
   "metadata": {},
   "source": [
    "The value of pi to 2 decimal places is: 3.14 \\\n",
    "The value of pi to 3 decimal places is: 3.142 \\\n",
    "The value of pi to 4 decimal places is: 3.1416 "
   ]
  },
  {
   "cell_type": "code",
   "execution_count": 71,
   "id": "b97d9b30-532f-4f2a-94ee-d6581c2b0994",
   "metadata": {},
   "outputs": [
    {
     "name": "stdout",
     "output_type": "stream",
     "text": [
      "Apple     $0.99\n",
      "Banana    $0.59\n",
      "Orange    $1.29\n",
      "\n"
     ]
    }
   ],
   "source": [
    "print(f'{'Apple ':<10}{'$0.99':>5}{'\\n'}{'Banana ':<10}{'$0.59':>5}{'\\n'}{'Orange ':<10}{'$1.29':>5}{'\\n'}')\n"
   ]
  },
  {
   "cell_type": "markdown",
   "id": "eaf7f93f-1754-4bc0-b0d4-5bebf1d56852",
   "metadata": {},
   "source": [
    "# Exercise 2 (What is your grade?)"
   ]
  },
  {
   "cell_type": "markdown",
   "id": "a151e7b3-7ce6-4a5a-a58b-b4fac704c8c8",
   "metadata": {},
   "source": [
    "## WRONG"
   ]
  },
  {
   "cell_type": "code",
   "execution_count": 28,
   "id": "23a5256f-a530-496e-a58c-c394f2339523",
   "metadata": {},
   "outputs": [
    {
     "name": "stdin",
     "output_type": "stream",
     "text": [
      "Enter the student's score:  99\n"
     ]
    },
    {
     "name": "stdout",
     "output_type": "stream",
     "text": [
      "A\n",
      "The student's letter grade is: None\n"
     ]
    }
   ],
   "source": [
    "score_input = int(input(\"Enter the student's score: \"))\n",
    "si = score_input \n",
    "\n",
    "def grade(si):\n",
    "    if si >= 70:\n",
    "        print('A')\n",
    "    elif si >= 50:\n",
    "        print('B')\n",
    "    elif si >= 35:\n",
    "        print('C')\n",
    "    elif si >= 0:\n",
    "        print('Fail')  #'grade(si)' function will print the grade before the next print function\n",
    "\n",
    "print(f\"{\"The student's letter grade is: \"}{grade(si)}\")"
   ]
  },
  {
   "cell_type": "markdown",
   "id": "efc04b7c-f487-4721-b403-4caa1055e36a",
   "metadata": {},
   "source": [
    "## FINAL ANS"
   ]
  },
  {
   "cell_type": "code",
   "execution_count": 2,
   "id": "70a514cc-9711-4f2e-ba1e-db3432a1e7ee",
   "metadata": {},
   "outputs": [
    {
     "name": "stdin",
     "output_type": "stream",
     "text": [
      "Enter the student's score:  87\n"
     ]
    },
    {
     "name": "stdout",
     "output_type": "stream",
     "text": [
      "The student's letter grade is: A\n"
     ]
    }
   ],
   "source": [
    "score_input = int(input(\"Enter the student's score: \"))\n",
    "si = score_input \n",
    "\n",
    "def grade(si):\n",
    "    if si >= 70:\n",
    "        x='A'\n",
    "    elif si >= 50:\n",
    "        x='B'\n",
    "    elif si >= 35:\n",
    "        x='C'\n",
    "    elif si >= 0:\n",
    "        x='Fail'  #'grade(si)' function will print the grade before the next print function\n",
    "    return x\n",
    "\n",
    "print(f\"{\"The student's letter grade is: \"}{grade(si)}\")"
   ]
  },
  {
   "cell_type": "markdown",
   "id": "0496a819-2f3f-44b2-be7e-c0b3d6618835",
   "metadata": {},
   "source": [
    "# Exercise 3 (Debugging Code)"
   ]
  },
  {
   "cell_type": "code",
   "execution_count": 15,
   "id": "312cace8-ba08-4dd4-b931-49f89189ecc6",
   "metadata": {},
   "outputs": [
    {
     "name": "stdout",
     "output_type": "stream",
     "text": [
      "120\n",
      "Invalid input\n"
     ]
    }
   ],
   "source": [
    "def factorial(n):\n",
    "    if n < 0:\n",
    "        return \"Invalid input\"\n",
    "    elif n == 0:\n",
    "        return 1\n",
    "    else:\n",
    "        result = 1\n",
    "        for number in range(1, n+1):\n",
    "            result *= number\n",
    "    return result\n",
    "\n",
    "\n",
    "print(factorial(5))   # Testing, expected output: 120\n",
    "print(factorial(-1))  # Testing, expected output: Invalid input"
   ]
  }
 ],
 "metadata": {
  "kernelspec": {
   "display_name": "Python 3 (ipykernel)",
   "language": "python",
   "name": "python3"
  },
  "language_info": {
   "codemirror_mode": {
    "name": "ipython",
    "version": 3
   },
   "file_extension": ".py",
   "mimetype": "text/x-python",
   "name": "python",
   "nbconvert_exporter": "python",
   "pygments_lexer": "ipython3",
   "version": "3.12.3"
  },
  "toc": {
   "base_numbering": 1,
   "nav_menu": {},
   "number_sections": true,
   "sideBar": true,
   "skip_h1_title": false,
   "title_cell": "Table of Contents",
   "title_sidebar": "Contents",
   "toc_cell": false,
   "toc_position": {},
   "toc_section_display": true,
   "toc_window_display": false
  },
  "vscode": {
   "interpreter": {
    "hash": "31f2aee4e71d21fbe5cf8b01ff0e069b9275f58929596ceb00d14d90e3e16cd6"
   }
  }
 },
 "nbformat": 4,
 "nbformat_minor": 5
}
