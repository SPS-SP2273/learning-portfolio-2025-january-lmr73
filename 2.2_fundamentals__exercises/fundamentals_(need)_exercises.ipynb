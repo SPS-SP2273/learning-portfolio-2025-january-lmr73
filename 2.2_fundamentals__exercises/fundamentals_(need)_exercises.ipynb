{
 "cells": [
  {
   "attachments": {},
   "cell_type": "markdown",
   "id": "123456",
   "metadata": {},
   "source": [
    "<div style=\"text-align:left;font-size:2em\"><span style=\"font-weight:bolder;font-size:1.25em\">SP2273 | Learning Portfolio</span><br><br><span style=\"font-weight:bold;color:darkred\">Fundamentals (Need) Exercises</span></div>"
   ]
  },
  {
   "cell_type": "markdown",
   "id": "890867e9-3b17-42d2-a93c-1ea8ec0e988e",
   "metadata": {},
   "source": [
    "# Exercise 1\n",
    "Functions: \\\n",
    "+= \\\n",
    "-= \\\n",
    "*= \\\n",
    "/= \\\n",
    "**= \\\n",
    "? help \\\n",
    "list=[1, 2, 3] \\\n",
    "dict={1:a, 2:b, 3:c} \\\n",
    "print(\"hello world\") \\\n",
    "list.append() \\\n",
    "list.upper() \\\n",
    "list.lower \\\n",
    "\\\n",
    "\\\n",
    "\\\n",
    "_#commenting \\\n",
    "assigment = \\\n",
    "check == \\\n",
    "\\\n",
    "if x==0: \\\n",
    "    print(\"hello\") \\\n",
    "else: \\\n",
    "    print(\"hi\") \\\n",
    "\\\n",
    "import math \\\n",
    "import numpy as np \\\n",
    "\\\n",
    "math.sqrt(4) \\\n",
    "np.sqrt(4) \\\n",
    "\\\n",
    "\"i am batman\".split()_"
   ]
  },
  {
   "cell_type": "markdown",
   "id": "918b0ed6-c6ae-4cfe-97c3-76008604ccfa",
   "metadata": {},
   "source": [
    "# Exercise 2 (Debug me)"
   ]
  },
  {
   "cell_type": "code",
   "execution_count": 7,
   "id": "58fb437e-be53-41eb-84d9-c096531b4b5d",
   "metadata": {},
   "outputs": [
    {
     "name": "stdout",
     "output_type": "stream",
     "text": [
      "3 4 5.0\n"
     ]
    }
   ],
   "source": [
    "import numpy as np\n",
    "x, y = 3, 4\n",
    "z = np.sqrt(x**2 + y**2)\n",
    "print(x, y, z)"
   ]
  },
  {
   "cell_type": "markdown",
   "id": "055d5ade-17ec-426a-a6bc-75aa2ecc3146",
   "metadata": {},
   "source": [
    "# Exercise 3 (In your own words)"
   ]
  },
  {
   "cell_type": "markdown",
   "id": "28e24a5c-4ec0-4ab9-9540-a91fa8ad4387",
   "metadata": {},
   "source": [
    "|  # | Term         | Description |\n",
    "|:--:|--------------|-------------|\n",
    "|  1 | Function     | Algorithm applied on an argument.            |\n",
    "|  2 | Arguments    | Input values in a function.            |\n",
    "|  3 | Comments     | Text notes on what the code does.            |\n",
    "|  4 | Indentations | Indicates which lines of code a function is being applied to.             |\n",
    "|  5 | Packages     | Premade set of specialised functions that can be imported and used.            |\n",
    "|  6 | .            | Indicates the package's ownership of functions.             |\n",
    "|  7 | :            | Used after a function to denote the lines of code it is being applied to.             |\n",
    "|  8 | []           | To denote lists.            |\n",
    "|  9 | [[],[]]      | List within a list.            |\n",
    "| 10 | {}           | To denote dictionaries.            |"
   ]
  },
  {
   "cell_type": "markdown",
   "id": "02442885-221a-4189-ae0f-3c4a1cef503f",
   "metadata": {},
   "source": [
    "# Exercise 4 (More than one way to divide)"
   ]
  },
  {
   "cell_type": "code",
   "execution_count": 20,
   "id": "243023c1-1c27-4384-a3fe-e4aeb656524f",
   "metadata": {},
   "outputs": [
    {
     "data": {
      "text/plain": [
       "2.5"
      ]
     },
     "execution_count": 20,
     "metadata": {},
     "output_type": "execute_result"
    }
   ],
   "source": [
    "5/2           # division to obtain floating point value"
   ]
  },
  {
   "cell_type": "code",
   "execution_count": 19,
   "id": "b13b08f1-46da-4e50-b2ca-a975b08c7e02",
   "metadata": {},
   "outputs": [
    {
     "data": {
      "text/plain": [
       "2"
      ]
     },
     "execution_count": 19,
     "metadata": {},
     "output_type": "execute_result"
    }
   ],
   "source": [
    "5//2          # division to obtain quotient"
   ]
  },
  {
   "cell_type": "code",
   "execution_count": 15,
   "id": "442e5464-d9a7-4548-ae6a-fa529fd83eae",
   "metadata": {},
   "outputs": [
    {
     "data": {
      "text/plain": [
       "1"
      ]
     },
     "execution_count": 15,
     "metadata": {},
     "output_type": "execute_result"
    }
   ],
   "source": [
    "5%2           # division to obtain the remainder"
   ]
  }
 ],
 "metadata": {
  "kernelspec": {
   "display_name": "Python 3 (ipykernel)",
   "language": "python",
   "name": "python3"
  },
  "language_info": {
   "codemirror_mode": {
    "name": "ipython",
    "version": 3
   },
   "file_extension": ".py",
   "mimetype": "text/x-python",
   "name": "python",
   "nbconvert_exporter": "python",
   "pygments_lexer": "ipython3",
   "version": "3.12.3"
  },
  "toc": {
   "base_numbering": 1,
   "nav_menu": {},
   "number_sections": true,
   "sideBar": true,
   "skip_h1_title": false,
   "title_cell": "Table of Contents",
   "title_sidebar": "Contents",
   "toc_cell": false,
   "toc_position": {},
   "toc_section_display": true,
   "toc_window_display": false
  },
  "vscode": {
   "interpreter": {
    "hash": "31f2aee4e71d21fbe5cf8b01ff0e069b9275f58929596ceb00d14d90e3e16cd6"
   }
  }
 },
 "nbformat": 4,
 "nbformat_minor": 5
}
