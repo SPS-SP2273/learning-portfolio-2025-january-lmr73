{
 "cells": [
  {
   "attachments": {},
   "cell_type": "markdown",
   "id": "123456",
   "metadata": {},
   "source": [
    "<div style=\"text-align:left;font-size:2em\"><span style=\"font-weight:bolder;font-size:1.25em\">SP2273 | Learning Portfolio</span><br><br><span style=\"font-weight:bold;color:darkred\">Fundamentals (Good)</span></div>"
   ]
  },
  {
   "attachments": {},
   "cell_type": "markdown",
   "id": "c953a47e",
   "metadata": {},
   "source": [
    "# What to expect in this chapter"
   ]
  },
  {
   "cell_type": "code",
   "execution_count": 1,
   "id": "7f1ab789-0a60-42bd-ac5b-4e2c51ca8a7c",
   "metadata": {},
   "outputs": [],
   "source": [
    "import numpy as np"
   ]
  },
  {
   "cell_type": "code",
   "execution_count": 2,
   "id": "cd1a3457-b573-4c96-9db4-7a4dfbee347c",
   "metadata": {},
   "outputs": [
    {
     "data": {
      "text/plain": [
       "np.float64(8.306623862918075)"
      ]
     },
     "execution_count": 2,
     "metadata": {},
     "output_type": "execute_result"
    }
   ],
   "source": [
    "np.sqrt(69)"
   ]
  },
  {
   "cell_type": "markdown",
   "id": "61441960-b2ef-44eb-83fc-c1432c10424b",
   "metadata": {},
   "source": [
    "#### Press \"TAB\" for list of possible functions "
   ]
  },
  {
   "cell_type": "code",
   "execution_count": 3,
   "id": "add61a67-69e4-4d25-868a-4a3f66e8086e",
   "metadata": {},
   "outputs": [],
   "source": [
    "x32=np.sqrt(100,dtype=np.float32)\n",
    "x64=np.sqrt(100,dtype=np.float64)"
   ]
  },
  {
   "cell_type": "code",
   "execution_count": 8,
   "id": "8ba407a3-f43d-42bb-bcaf-4cb02783e7ee",
   "metadata": {},
   "outputs": [
    {
     "data": {
      "text/plain": [
       "np.float32(10.0)"
      ]
     },
     "execution_count": 8,
     "metadata": {},
     "output_type": "execute_result"
    }
   ],
   "source": [
    "x32"
   ]
  },
  {
   "cell_type": "code",
   "execution_count": 9,
   "id": "23d81d3f-6185-4922-aeef-619d08de94cc",
   "metadata": {},
   "outputs": [
    {
     "data": {
      "text/plain": [
       "np.float64(10.0)"
      ]
     },
     "execution_count": 9,
     "metadata": {},
     "output_type": "execute_result"
    }
   ],
   "source": [
    "x64 #store 64 bits of information ie. more digits, higher accuracy"
   ]
  },
  {
   "cell_type": "code",
   "execution_count": 10,
   "id": "02cecaa1-9701-4b74-a13e-0afc2a1cdd23",
   "metadata": {},
   "outputs": [
    {
     "data": {
      "text/plain": [
       "10"
      ]
     },
     "execution_count": 10,
     "metadata": {},
     "output_type": "execute_result"
    }
   ],
   "source": [
    "int(x64)"
   ]
  },
  {
   "cell_type": "code",
   "execution_count": 12,
   "id": "dbad786b-c83a-42a3-8ffe-589629bc1478",
   "metadata": {},
   "outputs": [
    {
     "data": {
      "text/plain": [
       "numpy.float64"
      ]
     },
     "execution_count": 12,
     "metadata": {},
     "output_type": "execute_result"
    }
   ],
   "source": [
    "type(x64)"
   ]
  },
  {
   "cell_type": "code",
   "execution_count": 15,
   "id": "d4407209-a614-4736-b50d-ced586386d39",
   "metadata": {},
   "outputs": [
    {
     "name": "stdout",
     "output_type": "stream",
     "text": [
      "<class 'str'> <class 'int'> <class 'float'>\n"
     ]
    }
   ],
   "source": [
    "a=type('meow')\n",
    "b=type(1)\n",
    "c=type(1.5)\n",
    "print(a,b,c)"
   ]
  },
  {
   "attachments": {},
   "cell_type": "markdown",
   "id": "c436db7d",
   "metadata": {},
   "source": [
    "# 1 There is more to if"
   ]
  },
  {
   "attachments": {},
   "cell_type": "markdown",
   "id": "7e54ac70",
   "metadata": {},
   "source": [
    "# 2 Asking questions"
   ]
  },
  {
   "attachments": {},
   "cell_type": "markdown",
   "id": "c8e63a51",
   "metadata": {},
   "source": [
    "## 2.1 Asking Math questions"
   ]
  },
  {
   "attachments": {},
   "cell_type": "markdown",
   "id": "1682068f",
   "metadata": {},
   "source": [
    "# 3 Python stores information in different formats or types"
   ]
  },
  {
   "cell_type": "code",
   "execution_count": 17,
   "id": "ddb6d829-47cf-4906-8776-f378142d8f0c",
   "metadata": {},
   "outputs": [
    {
     "name": "stdout",
     "output_type": "stream",
     "text": [
      "30\n"
     ]
    }
   ],
   "source": [
    "x=9\n",
    "if x<10:\n",
    "    #TRUE BLOCK\n",
    "    print (10*3)\n",
    "else:\n",
    "    #FALSE BLOCK\n",
    "    print('not 10')\n",
    "    "
   ]
  },
  {
   "cell_type": "code",
   "execution_count": 18,
   "id": "a58c5c46-fbd5-4450-bac6-26e41bb563c5",
   "metadata": {},
   "outputs": [
    {
     "data": {
      "text/plain": [
       "True"
      ]
     },
     "execution_count": 18,
     "metadata": {},
     "output_type": "execute_result"
    }
   ],
   "source": [
    "(x<5) or (x>8)"
   ]
  },
  {
   "cell_type": "code",
   "execution_count": 21,
   "id": "83e6afa4-7033-4478-8862-48e0bf4c69ee",
   "metadata": {},
   "outputs": [
    {
     "name": "stdout",
     "output_type": "stream",
     "text": [
      "False\n",
      "True\n"
     ]
    }
   ],
   "source": [
    "a=\"a\" in ['apple','dog','cat']\n",
    "b=\"apple\" in ['apple','dog','cat']\n",
    "print(a)\n",
    "print(b)"
   ]
  },
  {
   "cell_type": "code",
   "execution_count": 24,
   "id": "af530fc0-9b34-4d87-bd62-d3bad0f02988",
   "metadata": {},
   "outputs": [
    {
     "name": "stdout",
     "output_type": "stream",
     "text": [
      "O\n",
      "P\n",
      "Q\n"
     ]
    }
   ],
   "source": [
    "print(chr(79))\n",
    "print(chr(80))\n",
    "print(chr(81))"
   ]
  },
  {
   "cell_type": "code",
   "execution_count": 25,
   "id": "bd0ad909-7684-4057-885c-65d2190cac9a",
   "metadata": {},
   "outputs": [
    {
     "data": {
      "text/plain": [
       "140733316389968"
      ]
     },
     "execution_count": 25,
     "metadata": {},
     "output_type": "execute_result"
    }
   ],
   "source": [
    "id(a)"
   ]
  },
  {
   "cell_type": "code",
   "execution_count": 27,
   "id": "f2ce4d16-23c5-417c-86a1-a6a8ba5faed5",
   "metadata": {},
   "outputs": [
    {
     "data": {
      "text/plain": [
       "140733317569760"
      ]
     },
     "execution_count": 27,
     "metadata": {},
     "output_type": "execute_result"
    }
   ],
   "source": [
    "id('a')"
   ]
  },
  {
   "cell_type": "code",
   "execution_count": 28,
   "id": "3b9be9e3-e34d-4142-80d0-77d573d20b81",
   "metadata": {},
   "outputs": [
    {
     "data": {
      "text/plain": [
       "97"
      ]
     },
     "execution_count": 28,
     "metadata": {},
     "output_type": "execute_result"
    }
   ],
   "source": [
    "ord('a')"
   ]
  },
  {
   "attachments": {},
   "cell_type": "markdown",
   "id": "46de0e03",
   "metadata": {},
   "source": [
    "# 4 Never compare floats directly"
   ]
  },
  {
   "attachments": {},
   "cell_type": "markdown",
   "id": "6e4d5cd5",
   "metadata": {},
   "source": [
    "## 4.1 The Problem"
   ]
  },
  {
   "cell_type": "code",
   "execution_count": 29,
   "id": "18bb4eeb-e92f-4d2d-b417-12be5173aa56",
   "metadata": {},
   "outputs": [
    {
     "name": "stdout",
     "output_type": "stream",
     "text": [
      "0.29999999999999999\n"
     ]
    }
   ],
   "source": [
    "a=.1\n",
    "a3=.3\n",
    "print(f'{a3:0.17f}') #print 17 d.p."
   ]
  },
  {
   "cell_type": "code",
   "execution_count": 31,
   "id": "d41a983c-f2d9-4b75-83ff-027d9e06222b",
   "metadata": {},
   "outputs": [
    {
     "data": {
      "text/plain": [
       "False"
      ]
     },
     "execution_count": 31,
     "metadata": {},
     "output_type": "execute_result"
    }
   ],
   "source": [
    "a3==3*a #cannot compare floats"
   ]
  },
  {
   "cell_type": "code",
   "execution_count": 35,
   "id": "30bd321d-276e-4d39-9f30-d8ca0d38466c",
   "metadata": {},
   "outputs": [
    {
     "data": {
      "text/plain": [
       "True"
      ]
     },
     "execution_count": 35,
     "metadata": {},
     "output_type": "execute_result"
    }
   ],
   "source": [
    "abs(a3-3*a)<1e-15 #difference between numbers are neglible, hence, a3=3*a"
   ]
  },
  {
   "cell_type": "code",
   "execution_count": 34,
   "id": "1cd6af39-1b8e-4af3-920f-c415ff7a92ed",
   "metadata": {},
   "outputs": [
    {
     "data": {
      "text/plain": [
       "np.True_"
      ]
     },
     "execution_count": 34,
     "metadata": {},
     "output_type": "execute_result"
    }
   ],
   "source": [
    "np.isclose(a3,3*a) #numpy comparison"
   ]
  },
  {
   "attachments": {},
   "cell_type": "markdown",
   "id": "19169c35",
   "metadata": {},
   "source": [
    "## 4.2 A solution"
   ]
  },
  {
   "cell_type": "code",
   "execution_count": 47,
   "id": "a048919e-aabb-4a2e-8793-4d5ebd717f78",
   "metadata": {},
   "outputs": [
    {
     "name": "stdout",
     "output_type": "stream",
     "text": [
      "My cat's age is         10\n"
     ]
    }
   ],
   "source": [
    "meow=10\n",
    "print(f\"My cat's age is {meow:10d}\")"
   ]
  },
  {
   "cell_type": "code",
   "execution_count": 42,
   "id": "8458b5f4-902b-4e35-a053-1db83f778e59",
   "metadata": {},
   "outputs": [
    {
     "data": {
      "text/plain": [
       "'meow cat'"
      ]
     },
     "execution_count": 42,
     "metadata": {},
     "output_type": "execute_result"
    }
   ],
   "source": [
    "f'meow cat'"
   ]
  },
  {
   "cell_type": "code",
   "execution_count": 46,
   "id": "5ba33f12-ed8d-419f-afe9-92a267ca7f14",
   "metadata": {},
   "outputs": [
    {
     "data": {
      "text/plain": [
       "'meow                 cat'"
      ]
     },
     "execution_count": 46,
     "metadata": {},
     "output_type": "execute_result"
    }
   ],
   "source": [
    "f'meow{'cat':>20}' #<>^ left right centre justify"
   ]
  },
  {
   "attachments": {},
   "cell_type": "markdown",
   "id": "f6167644",
   "metadata": {},
   "source": [
    "# 5 Combining English and variables"
   ]
  },
  {
   "cell_type": "code",
   "execution_count": 11,
   "id": "efbb6979-7952-484b-848b-0ba84d6dcfd9",
   "metadata": {},
   "outputs": [
    {
     "data": {
      "text/plain": [
       "'This is an English sentencem100m. Just for fun{100}'"
      ]
     },
     "execution_count": 11,
     "metadata": {},
     "output_type": "execute_result"
    }
   ],
   "source": [
    "x=100\n",
    "f'This is an English sentence{x:m^5d}. Just for fun{{{x}}}'"
   ]
  },
  {
   "cell_type": "markdown",
   "id": "b3544b8e-7970-490d-ab05-9f3509e00ffb",
   "metadata": {
    "jp-MarkdownHeadingCollapsed": true
   },
   "source": [
    "### power of f strings\n",
    "I can combine English sentences with variables. "
   ]
  },
  {
   "attachments": {},
   "cell_type": "markdown",
   "id": "99d7e0db",
   "metadata": {},
   "source": [
    "## 5.1 Structure of f-strings"
   ]
  },
  {
   "attachments": {},
   "cell_type": "markdown",
   "id": "3e40ec50",
   "metadata": {},
   "source": [
    "# 6 Escape sequences"
   ]
  },
  {
   "attachments": {},
   "cell_type": "markdown",
   "id": "3786974e",
   "metadata": {},
   "source": [
    "## 6.1 Self-documenting f-strings"
   ]
  },
  {
   "attachments": {},
   "cell_type": "markdown",
   "id": "8aecfd71",
   "metadata": {},
   "source": [
    "# 7 Computers read = from Right to Left!"
   ]
  },
  {
   "cell_type": "code",
   "execution_count": 15,
   "id": "a37cfa5f-ebd8-46ed-9f23-ade39767042a",
   "metadata": {},
   "outputs": [
    {
     "data": {
      "text/plain": [
       "42"
      ]
     },
     "execution_count": 15,
     "metadata": {},
     "output_type": "execute_result"
    }
   ],
   "source": [
    "x=40\n",
    "x=x+2\n",
    "x"
   ]
  },
  {
   "attachments": {},
   "cell_type": "markdown",
   "id": "6c679a94",
   "metadata": {},
   "source": [
    "# 8 Shorter and Cleaner Code"
   ]
  },
  {
   "cell_type": "code",
   "execution_count": 16,
   "id": "3718f1b4-fbe5-4996-87c8-bd17e4c4fcb9",
   "metadata": {},
   "outputs": [
    {
     "data": {
      "text/plain": [
       "42"
      ]
     },
     "execution_count": 16,
     "metadata": {},
     "output_type": "execute_result"
    }
   ],
   "source": [
    "x=40\n",
    "x+=2\n",
    "x"
   ]
  },
  {
   "attachments": {},
   "cell_type": "markdown",
   "id": "f698b4fd",
   "metadata": {},
   "source": [
    "# 9 Python can be a prima-donna."
   ]
  },
  {
   "cell_type": "code",
   "execution_count": 20,
   "id": "9349b36b-6cff-4bdf-b328-8dfd9f776b40",
   "metadata": {},
   "outputs": [
    {
     "ename": "NameError",
     "evalue": "name 'Print' is not defined",
     "output_type": "error",
     "traceback": [
      "\u001b[1;31m---------------------------------------------------------------------------\u001b[0m",
      "\u001b[1;31mNameError\u001b[0m                                 Traceback (most recent call last)",
      "Cell \u001b[1;32mIn[20], line 1\u001b[0m\n\u001b[1;32m----> 1\u001b[0m \u001b[43mPrint\u001b[49m() \u001b[38;5;66;03m#error message in the last line of error message\u001b[39;00m\n",
      "\u001b[1;31mNameError\u001b[0m: name 'Print' is not defined"
     ]
    }
   ],
   "source": [
    "Print() #error message in the last line of error message"
   ]
  },
  {
   "attachments": {},
   "cell_type": "markdown",
   "id": "79ea812f",
   "metadata": {},
   "source": [
    "# 10 Best Practices for Scientific Computing"
   ]
  },
  {
   "cell_type": "code",
   "execution_count": 25,
   "id": "79e27b7e-e795-40d3-91f9-537344ccdf1e",
   "metadata": {},
   "outputs": [
    {
     "data": {
      "text/plain": [
       "np.float64(3.0)"
      ]
     },
     "execution_count": 25,
     "metadata": {},
     "output_type": "execute_result"
    }
   ],
   "source": [
    "import numpy as np\n",
    "np.sqrt(9)"
   ]
  },
  {
   "cell_type": "code",
   "execution_count": 30,
   "id": "8fcc5f2a-adbe-491a-85ce-f472db8a1299",
   "metadata": {},
   "outputs": [
    {
     "data": {
      "text/plain": [
       "15"
      ]
     },
     "execution_count": 30,
     "metadata": {},
     "output_type": "execute_result"
    }
   ],
   "source": [
    "years=1\n",
    "age_of_student=15*years #varaible name indicative of the information it contains #include units as required in scientific purpose\n",
    "\n",
    "age_of_student"
   ]
  },
  {
   "cell_type": "markdown",
   "id": "8e5ae7cd-d5ba-47c3-9f24-ace69c9e40b5",
   "metadata": {},
   "source": [
    "Bouncing ideas off chatgpt / friends to find optimal solutions, different solutions to the same problem."
   ]
  },
  {
   "cell_type": "markdown",
   "id": "3574dcea-158c-4824-9d54-acc1e9cddc7a",
   "metadata": {},
   "source": [
    "Python Sorting Algorithm -- stack overflow."
   ]
  },
  {
   "attachments": {},
   "cell_type": "markdown",
   "id": "55cd7913",
   "metadata": {},
   "source": [
    "# 11 Looking for help"
   ]
  },
  {
   "attachments": {},
   "cell_type": "markdown",
   "id": "9f3f1d0b",
   "metadata": {},
   "source": [
    "## References"
   ]
  },
  {
   "attachments": {},
   "cell_type": "markdown",
   "id": "999db868",
   "metadata": {},
   "source": [
    "## Footnotes"
   ]
  }
 ],
 "metadata": {
  "kernelspec": {
   "display_name": "Python 3 (ipykernel)",
   "language": "python",
   "name": "python3"
  },
  "language_info": {
   "codemirror_mode": {
    "name": "ipython",
    "version": 3
   },
   "file_extension": ".py",
   "mimetype": "text/x-python",
   "name": "python",
   "nbconvert_exporter": "python",
   "pygments_lexer": "ipython3",
   "version": "3.12.3"
  },
  "toc": {
   "base_numbering": 1,
   "nav_menu": {},
   "number_sections": true,
   "sideBar": true,
   "skip_h1_title": false,
   "title_cell": "Table of Contents",
   "title_sidebar": "Contents",
   "toc_cell": false,
   "toc_position": {},
   "toc_section_display": true,
   "toc_window_display": false
  },
  "vscode": {
   "interpreter": {
    "hash": "31f2aee4e71d21fbe5cf8b01ff0e069b9275f58929596ceb00d14d90e3e16cd6"
   }
  }
 },
 "nbformat": 4,
 "nbformat_minor": 5
}
