{
 "cells": [
  {
   "attachments": {},
   "cell_type": "markdown",
   "id": "123456",
   "metadata": {},
   "source": [
    "<div style=\"text-align:left;font-size:2em\"><span style=\"font-weight:bolder;font-size:1.25em\">SP2273 | Learning Portfolio</span><br><br><span style=\"font-weight:bold;color:darkred\">Files, Folders & OS (Need) Exercises</span></div>"
   ]
  },
  {
   "cell_type": "markdown",
   "id": "b82339e3-4402-4084-adf6-ed2a4cb5813a",
   "metadata": {},
   "source": [
    "# Exercise 1 (Tidying a collaboration)"
   ]
  },
  {
   "cell_type": "code",
   "execution_count": 2,
   "id": "356399c7-6a38-4972-bc9a-c84232567143",
   "metadata": {},
   "outputs": [],
   "source": [
    "import glob"
   ]
  },
  {
   "cell_type": "code",
   "execution_count": 2,
   "id": "81b35215-829d-417f-a543-9ad2bc972b89",
   "metadata": {},
   "outputs": [
    {
     "data": {
      "text/plain": [
       "['files,_folders_&_os_(need)_exercises.ipynb',\n",
       " 'os-collaboration-exercise-data']"
      ]
     },
     "execution_count": 2,
     "metadata": {},
     "output_type": "execute_result"
    }
   ],
   "source": [
    "glob.glob('*')"
   ]
  },
  {
   "cell_type": "code",
   "execution_count": 47,
   "id": "9ef34624-7b63-45c5-8857-4de1cfeb046b",
   "metadata": {},
   "outputs": [
    {
     "data": {
      "text/plain": [
       "['..\\\\0.1_hello,_github!',\n",
       " '..\\\\0.2_hello,_jupyter!',\n",
       " '..\\\\0.3_Virtual_Environments_(Nice!)',\n",
       " '..\\\\1.1_using_jupyter',\n",
       " '..\\\\1.2_using_jupyter_,_exercises',\n",
       " '..\\\\2.1_fundamentals',\n",
       " '..\\\\2.2_fundamentals__exercises',\n",
       " '..\\\\2271 plotting',\n",
       " '..\\\\3.1_storing_data',\n",
       " '..\\\\3.2_storing_data__exercises',\n",
       " '..\\\\4.1_loops',\n",
       " '..\\\\4.2_loops__exercises',\n",
       " '..\\\\5.1_functions',\n",
       " '..\\\\5.2_functions__exercises',\n",
       " '..\\\\6.1_files,_folders_&_os',\n",
       " '..\\\\6.2_files,_folders_&_os__exercises',\n",
       " '..\\\\7.1_plotting',\n",
       " '..\\\\7.2_plotting__exercises',\n",
       " '..\\\\hello12345.txt',\n",
       " '..\\\\README.md']"
      ]
     },
     "execution_count": 47,
     "metadata": {},
     "output_type": "execute_result"
    }
   ],
   "source": [
    "glob.glob('../*')"
   ]
  },
  {
   "cell_type": "markdown",
   "id": "18c3d451-7161-4dc1-aad3-261f3deb4cb5",
   "metadata": {},
   "source": [
    "# Task 1"
   ]
  },
  {
   "cell_type": "code",
   "execution_count": 73,
   "id": "694ea0c7-e274-4fff-ac08-462921dde3ac",
   "metadata": {},
   "outputs": [
    {
     "name": "stdout",
     "output_type": "stream",
     "text": [
      "oct-08\n",
      "oct\n",
      "10\n",
      "10-08-singapore.txt\n"
     ]
    }
   ],
   "source": [
    "index_match={\n",
    "'jan': '01', 'feb': '02', 'mar': '03',\n",
    "'apr': '04', 'may': '05', 'jun': '06',\n",
    "'jul': '07', 'aug': '08', 'sep': '09',\n",
    "'oct': '10', 'nov': '11', 'dec': '12'\n",
    "}\n",
    "\n",
    "oldname='oct-08_singapore.txt'\n",
    "month_date, city=oldname.split('_')\n",
    "print(month_date)\n",
    "month, date=month_date.split('-')\n",
    "print(month)\n",
    "\n",
    "newmonth=index_match[month]\n",
    "print(newmonth)\n",
    "\n",
    "print(f'{newmonth}-{date}-{city}')"
   ]
  },
  {
   "cell_type": "markdown",
   "id": "3374088a-61c0-4a85-832b-10f1059f8922",
   "metadata": {},
   "source": [
    "### all my wrong stuff :<"
   ]
  },
  {
   "cell_type": "code",
   "execution_count": 63,
   "id": "bce6dd6d-0ea9-452b-8755-7718bd63701e",
   "metadata": {},
   "outputs": [],
   "source": [
    "\n",
    "import os\n",
    "files=glob.glob(os.path.join('os/*..'))\n",
    "\n",
    "for oldnames in files:\n",
    "    oldnames = os.path.basename(oldnames)\n",
    "    month,day,city=oldnames.split('-')\n",
    "    print(month)\n",
    "\n",
    "#index_match.keys()\n",
    "#index_match.values()"
   ]
  },
  {
   "cell_type": "markdown",
   "id": "40e68b26-cd83-48c4-8754-352fffba17c9",
   "metadata": {},
   "source": [
    "# Task 2"
   ]
  },
  {
   "cell_type": "code",
   "execution_count": 74,
   "id": "6214d391-650e-49c9-a7b0-72da046f628e",
   "metadata": {},
   "outputs": [
    {
     "data": {
      "text/plain": [
       "'01-16-singapore'"
      ]
     },
     "execution_count": 74,
     "metadata": {},
     "output_type": "execute_result"
    }
   ],
   "source": [
    "\n",
    "index_match={\n",
    "'jan': '01', 'feb': '02', 'mar': '03',\n",
    "'apr': '04', 'may': '05', 'jun': '06',\n",
    "'jul': '07', 'aug': '08', 'sep': '09',\n",
    "'oct': '10', 'nov': '11', 'dec': '12'\n",
    "}\n",
    "\n",
    "def rename_my_file(old_file_name):\n",
    "    month_date, city=old_file_name.split('_')\n",
    "    month, date=month_date.split('-')\n",
    "    newmonth=index_match[month]\n",
    "    return f'{newmonth}-{date}-{city}'\n",
    "\n",
    "rename_my_file('jan-16_singapore')"
   ]
  },
  {
   "cell_type": "markdown",
   "id": "4120a620-8f6d-4aa1-86d0-5d386f3a9f80",
   "metadata": {},
   "source": [
    "# Task 3"
   ]
  },
  {
   "cell_type": "code",
   "execution_count": 75,
   "id": "4260d995-bdbf-4f56-8b85-1652d75710b5",
   "metadata": {},
   "outputs": [
    {
     "name": "stdout",
     "output_type": "stream",
     "text": [
      "oct-08_singapore.txt---->10-08-singapore.txt\n",
      "jul-10_cairo.txt---->07-10-cairo.txt\n",
      "may-15_dhaka.txt---->05-15-dhaka.txt\n",
      "may-13_cairo.txt---->05-13-cairo.txt\n",
      "oct-21_cairo.txt---->10-21-cairo.txt\n",
      "jan-10_singapore.txt---->01-10-singapore.txt\n",
      "jun-20_tokyo.txt---->06-20-tokyo.txt\n",
      "aug-06_jakarta.txt---->08-06-jakarta.txt\n",
      "dec-21_karachi.txt---->12-21-karachi.txt\n",
      "jan-01_tokyo.txt---->01-01-tokyo.txt\n"
     ]
    }
   ],
   "source": [
    "file_list= ['oct-08_singapore.txt', 'jul-10_cairo.txt', 'may-15_dhaka.txt',\n",
    " 'may-13_cairo.txt', 'oct-21_cairo.txt', 'jan-10_singapore.txt',\n",
    " 'jun-20_tokyo.txt', 'aug-06_jakarta.txt', 'dec-21_karachi.txt',\n",
    " 'jan-01_tokyo.txt']\n",
    "\n",
    "for files in file_list:\n",
    "    new=rename_my_file(files)\n",
    "    print(f'{files}{\"---->\"}{new}')\n"
   ]
  },
  {
   "cell_type": "markdown",
   "id": "d4c81315-be51-4110-aeac-09cfa4b56789",
   "metadata": {},
   "source": [
    "# Task 4"
   ]
  },
  {
   "cell_type": "code",
   "execution_count": 6,
   "id": "520bc575-a4ae-4134-b7b3-eac52285aebf",
   "metadata": {},
   "outputs": [
    {
     "name": "stdout",
     "output_type": "stream",
     "text": [
      "C:\\Users\\lmr20\\OneDrive\\Desktop\\learning-portfolio-2025-january-lmr73\\6.2_files,_folders_&_os__exercises\n"
     ]
    }
   ],
   "source": [
    "print(os.getcwd())"
   ]
  },
  {
   "cell_type": "code",
   "execution_count": 7,
   "id": "bd311528-8bce-49db-b44d-544f29b420ba",
   "metadata": {},
   "outputs": [
    {
     "name": "stdout",
     "output_type": "stream",
     "text": [
      "['.ipynb_checkpoints', 'files,_folders_&_os_(need)_exercises.ipynb', 'os-collaboration-exercise-data']\n"
     ]
    }
   ],
   "source": [
    "print(os.listdir())"
   ]
  },
  {
   "cell_type": "code",
   "execution_count": 12,
   "id": "c3a823bf-9f91-4853-a996-e247f8660233",
   "metadata": {},
   "outputs": [],
   "source": [
    "os.chdir('os-collaboration-exercise-data')"
   ]
  },
  {
   "cell_type": "code",
   "execution_count": 13,
   "id": "97858120-5b62-481c-b2c8-03f58e3eafca",
   "metadata": {},
   "outputs": [
    {
     "name": "stdout",
     "output_type": "stream",
     "text": [
      "['.ipynb_checkpoints', 'apr-01_melbourne.pdf', 'apr-01_melbourne.png', 'apr-01_melbourne.txt', 'apr-01_shanghai.png', 'apr-01_shanghai.txt', 'apr-01_singapore.jpg', 'apr-01_singapore.txt', 'apr-02_cairo.jpg', 'apr-02_cairo.txt', 'apr-02_jakarta.png', 'apr-02_jakarta.txt', 'apr-02_karachi.pdf', 'apr-02_karachi.png', 'apr-02_karachi.txt', 'apr-02_shanghai.jpg', 'apr-02_shanghai.pdf', 'apr-02_shanghai.png', 'apr-02_shanghai.txt', 'apr-03_manila.jpg', 'apr-03_manila.txt', 'apr-03_osaka.png', 'apr-03_osaka.txt', 'apr-03_singapore.jpg', 'apr-03_singapore.txt', 'apr-03_tokyo.jpg', 'apr-03_tokyo.txt', 'apr-04_manila.jpg', 'apr-04_manila.txt', 'apr-04_melbourne.pdf', 'apr-04_melbourne.png', 'apr-04_melbourne.txt', 'apr-04_shanghai.pdf', 'apr-04_shanghai.txt', 'apr-04_singapore.jpg', 'apr-04_singapore.txt', 'apr-05_karachi.jpg', 'apr-05_karachi.txt', 'apr-05_melbourne.pdf', 'apr-05_melbourne.txt', 'apr-05_shanghai.jpg', 'apr-05_shanghai.txt', 'apr-05_singapore.png', 'apr-05_singapore.txt', 'apr-06_cairo.png', 'apr-06_cairo.txt', 'apr-06_jakarta.pdf', 'apr-06_jakarta.txt', 'apr-06_karachi.pdf', 'apr-06_karachi.txt', 'apr-06_manila.jpg', 'apr-06_manila.txt', 'apr-07_cairo.png', 'apr-07_cairo.txt', 'apr-07_manila.pdf', 'apr-07_manila.txt', 'apr-07_melbourne.pdf', 'apr-07_melbourne.txt', 'apr-07_osaka.pdf', 'apr-07_osaka.txt', 'apr-07_singapore.pdf', 'apr-07_singapore.txt', 'apr-07_tokyo.pdf', 'apr-07_tokyo.txt', 'apr-08_shanghai.jpg', 'apr-08_shanghai.txt', 'apr-10_cairo.png', 'apr-10_cairo.txt', 'apr-10_manila.jpg', 'apr-10_manila.png', 'apr-10_manila.txt', 'apr-10_melbourne.jpg', 'apr-10_melbourne.txt', 'apr-10_shanghai.png', 'apr-10_shanghai.txt', 'apr-10_singapore.png', 'apr-10_singapore.txt', 'apr-10_tokyo.jpg', 'apr-10_tokyo.pdf', 'apr-10_tokyo.txt', 'apr-11_melbourne.pdf', 'apr-11_melbourne.txt', 'apr-11_shanghai.png', 'apr-11_shanghai.txt', 'apr-11_tokyo.jpg', 'apr-11_tokyo.txt', 'apr-12_cairo.pdf', 'apr-12_cairo.png', 'apr-12_cairo.txt', 'apr-12_karachi.pdf', 'apr-12_karachi.txt', 'apr-12_melbourne.pdf', 'apr-12_melbourne.txt', 'apr-12_osaka.pdf', 'apr-12_osaka.txt', 'apr-12_shanghai.pdf', 'apr-12_shanghai.png', 'apr-12_shanghai.txt', 'apr-12_singapore.png', 'apr-12_singapore.txt', 'apr-12_tokyo.png', 'apr-12_tokyo.txt', 'apr-13_cairo.png', 'apr-13_cairo.txt', 'apr-13_jakarta.pdf', 'apr-13_jakarta.png', 'apr-13_jakarta.txt', 'apr-13_manila.jpg', 'apr-13_manila.txt', 'apr-13_melbourne.png', 'apr-13_melbourne.txt', 'apr-13_shanghai.pdf', 'apr-13_shanghai.txt', 'apr-13_singapore.pdf', 'apr-13_singapore.png', 'apr-13_singapore.txt', 'apr-14_cairo.jpg', 'apr-14_cairo.png', 'apr-14_cairo.txt', 'apr-14_manila.jpg', 'apr-14_manila.pdf', 'apr-14_manila.txt', 'apr-14_melbourne.pdf', 'apr-14_melbourne.txt', 'apr-14_osaka.jpg', 'apr-14_osaka.txt', 'apr-14_singapore.png', 'apr-14_singapore.txt', 'apr-15_cairo.jpg', 'apr-15_cairo.txt', 'apr-15_jakarta.pdf', 'apr-15_jakarta.png', 'apr-15_jakarta.txt', 'apr-15_melbourne.jpg', 'apr-15_melbourne.txt', 'apr-15_singapore.jpg', 'apr-15_singapore.txt', 'apr-15_tokyo.pdf', 'apr-15_tokyo.txt', 'apr-16_jakarta.png', 'apr-16_jakarta.txt', 'apr-16_karachi.pdf', 'apr-16_karachi.png', 'apr-16_karachi.txt', 'apr-16_melbourne.pdf', 'apr-16_melbourne.txt', 'apr-16_osaka.pdf', 'apr-16_osaka.txt', 'apr-16_shanghai.png', 'apr-16_shanghai.txt', 'apr-17_cairo.jpg', 'apr-17_cairo.pdf', 'apr-17_cairo.png', 'apr-17_cairo.txt', 'apr-17_manila.jpg', 'apr-17_manila.pdf', 'apr-17_manila.txt', 'apr-17_shanghai.png', 'apr-17_shanghai.txt', 'apr-17_tokyo.pdf', 'apr-17_tokyo.txt', 'apr-18_osaka.jpg', 'apr-18_osaka.txt', 'apr-18_shanghai.jpg', 'apr-18_shanghai.png', 'apr-18_shanghai.txt', 'apr-18_tokyo.png', 'apr-18_tokyo.txt', 'apr-19_dhaka.png', 'apr-19_dhaka.txt', 'apr-19_melbourne.pdf', 'apr-19_melbourne.txt', 'apr-19_shanghai.jpg', 'apr-19_shanghai.pdf', 'apr-19_shanghai.png', 'apr-19_shanghai.txt', 'apr-19_singapore.png', 'apr-19_singapore.txt', 'apr-20_cairo.jpg', 'apr-20_cairo.txt', 'apr-20_dhaka.png', 'apr-20_dhaka.txt', 'apr-20_jakarta.pdf', 'apr-20_jakarta.txt', 'apr-20_karachi.jpg', 'apr-20_karachi.txt', 'apr-20_tokyo.pdf', 'apr-20_tokyo.png', 'apr-20_tokyo.txt', 'apr-21_cairo.pdf', 'apr-21_cairo.txt', 'apr-21_jakarta.png', 'apr-21_jakarta.txt', 'apr-21_manila.jpg', 'apr-21_manila.pdf', 'apr-21_manila.png', 'apr-21_manila.txt', 'apr-21_melbourne.png', 'apr-21_melbourne.txt', 'apr-21_osaka.jpg', 'apr-21_osaka.txt', 'apr-21_shanghai.pdf', 'apr-21_shanghai.png', 'apr-21_shanghai.txt', 'apr-21_singapore.png', 'apr-21_singapore.txt', 'apr-21_tokyo.png', 'apr-21_tokyo.txt', 'apr-22_cairo.pdf', 'apr-22_cairo.txt', 'apr-22_manila.png', 'apr-22_manila.txt', 'apr-22_singapore.jpg', 'apr-22_singapore.txt', 'apr-23_cairo.jpg', 'apr-23_cairo.txt', 'apr-23_dhaka.pdf', 'apr-23_dhaka.txt', 'apr-23_jakarta.pdf', 'apr-23_jakarta.png', 'apr-23_jakarta.txt', 'apr-23_osaka.png', 'apr-23_osaka.txt', 'apr-23_shanghai.pdf', 'apr-23_shanghai.png', 'apr-23_shanghai.txt', 'apr-23_singapore.jpg', 'apr-23_singapore.txt', 'apr-23_tokyo.jpg', 'apr-23_tokyo.pdf', 'apr-23_tokyo.txt', 'apr-24_cairo.jpg', 'apr-24_cairo.txt', 'apr-24_jakarta.png', 'apr-24_jakarta.txt', 'apr-24_manila.jpg', 'apr-24_manila.pdf', 'apr-24_manila.png', 'apr-24_manila.txt', 'apr-24_melbourne.jpg', 'apr-24_melbourne.pdf', 'apr-24_melbourne.txt', 'apr-24_tokyo.pdf', 'apr-24_tokyo.txt', 'apr-25_manila.jpg', 'apr-25_manila.txt', 'apr-25_osaka.jpg', 'apr-25_osaka.txt', 'apr-25_singapore.jpg', 'apr-25_singapore.txt', 'apr-26_jakarta.jpg', 'apr-26_jakarta.pdf', 'apr-26_jakarta.txt', 'apr-26_karachi.png', 'apr-26_karachi.txt', 'apr-26_singapore.png', 'apr-26_singapore.txt', 'apr-27_karachi.pdf', 'apr-27_karachi.png', 'apr-27_karachi.txt', 'apr-27_melbourne.jpg', 'apr-27_melbourne.txt', 'apr-27_shanghai.jpg', 'apr-27_shanghai.txt', 'apr-27_tokyo.png', 'apr-27_tokyo.txt', 'apr-28_jakarta.pdf', 'apr-28_jakarta.txt', 'apr-28_manila.png', 'apr-28_manila.txt', 'apr-28_tokyo.png', 'apr-28_tokyo.txt', 'apr-29_manila.pdf', 'apr-29_manila.txt', 'apr-29_melbourne.jpg', 'apr-29_melbourne.png', 'apr-29_melbourne.txt', 'apr-29_shanghai.jpg', 'apr-29_shanghai.txt', 'apr-29_tokyo.pdf', 'apr-29_tokyo.txt', 'aug-01_cairo.jpg', 'aug-01_cairo.png', 'aug-01_cairo.txt', 'aug-01_shanghai.pdf', 'aug-01_shanghai.txt', 'aug-02_dhaka.jpg', 'aug-02_dhaka.txt', 'aug-02_jakarta.jpg', 'aug-02_jakarta.txt', 'aug-02_karachi.pdf', 'aug-02_karachi.txt', 'aug-02_osaka.jpg', 'aug-02_osaka.pdf', 'aug-02_osaka.txt', 'aug-02_shanghai.jpg', 'aug-02_shanghai.txt', 'aug-03_cairo.png', 'aug-03_cairo.txt', 'aug-03_dhaka.jpg', 'aug-03_dhaka.png', 'aug-03_dhaka.txt', 'aug-03_manila.jpg', 'aug-03_manila.pdf', 'aug-03_manila.txt', 'aug-03_melbourne.png', 'aug-03_melbourne.txt', 'aug-03_osaka.png', 'aug-03_osaka.txt', 'aug-04_cairo.jpg', 'aug-04_cairo.pdf', 'aug-04_cairo.txt', 'aug-04_karachi.png', 'aug-04_karachi.txt', 'aug-04_melbourne.jpg', 'aug-04_melbourne.txt', 'aug-04_shanghai.pdf', 'aug-04_shanghai.txt', 'aug-05_cairo.pdf', 'aug-05_cairo.txt', 'aug-05_dhaka.png', 'aug-05_dhaka.txt', 'aug-05_jakarta.jpg', 'aug-05_jakarta.txt', 'aug-05_manila.pdf', 'aug-05_manila.png', 'aug-05_manila.txt', 'aug-05_shanghai.png', 'aug-05_shanghai.txt', 'aug-05_tokyo.jpg', 'aug-05_tokyo.txt', 'aug-06_dhaka.pdf', 'aug-06_dhaka.txt', 'aug-06_melbourne.jpg', 'aug-06_melbourne.txt', 'aug-06_osaka.jpg', 'aug-06_osaka.txt', 'aug-06_singapore.pdf', 'aug-06_singapore.txt', 'aug-07_cairo.png', 'aug-07_cairo.txt', 'aug-07_jakarta.jpg', 'aug-07_jakarta.png', 'aug-07_jakarta.txt', 'aug-08_cairo.jpg', 'aug-08_cairo.txt', 'aug-08_dhaka.pdf', 'aug-08_dhaka.txt', 'aug-08_melbourne.png', 'aug-08_melbourne.txt', 'aug-08_osaka.pdf', 'aug-08_osaka.txt', 'aug-08_singapore.jpg', 'aug-08_singapore.txt', 'aug-09_dhaka.pdf', 'aug-09_dhaka.txt', 'aug-09_jakarta.jpg', 'aug-09_jakarta.txt', 'aug-09_singapore.png', 'aug-09_singapore.txt', 'aug-10_cairo.png', 'aug-10_cairo.txt', 'aug-10_dhaka.jpg', 'aug-10_dhaka.pdf', 'aug-10_dhaka.txt', 'aug-10_melbourne.jpg', 'aug-10_melbourne.txt', 'aug-10_osaka.jpg', 'aug-10_osaka.pdf', 'aug-10_osaka.txt', 'aug-11_dhaka.pdf', 'aug-11_dhaka.txt', 'aug-11_jakarta.jpg', 'aug-11_jakarta.txt', 'aug-11_karachi.jpg', 'aug-11_karachi.txt', 'aug-11_manila.jpg', 'aug-11_manila.txt', 'aug-11_melbourne.png', 'aug-11_melbourne.txt', 'aug-12_cairo.jpg', 'aug-12_cairo.txt', 'aug-12_jakarta.pdf', 'aug-12_jakarta.txt', 'aug-12_karachi.pdf', 'aug-12_karachi.txt', 'aug-12_manila.png', 'aug-12_manila.txt', 'aug-12_osaka.png', 'aug-12_osaka.txt', 'aug-12_shanghai.jpg', 'aug-12_shanghai.png', 'aug-12_shanghai.txt', 'aug-12_tokyo.jpg', 'aug-12_tokyo.pdf', 'aug-12_tokyo.txt', 'aug-13_jakarta.jpg', 'aug-13_jakarta.txt', 'aug-13_manila.jpg', 'aug-13_manila.txt', 'aug-13_melbourne.jpg', 'aug-13_melbourne.txt', 'aug-13_osaka.jpg', 'aug-13_osaka.txt', 'aug-13_shanghai.pdf', 'aug-13_shanghai.txt', 'aug-14_cairo.jpg', 'aug-14_cairo.png', 'aug-14_cairo.txt', 'aug-14_dhaka.pdf', 'aug-14_dhaka.txt', 'aug-14_karachi.jpg', 'aug-14_karachi.txt', 'aug-14_shanghai.jpg', 'aug-14_shanghai.txt', 'aug-14_tokyo.pdf', 'aug-14_tokyo.txt', 'aug-15_manila.jpg', 'aug-15_manila.pdf', 'aug-15_manila.txt', 'aug-15_melbourne.pdf', 'aug-15_melbourne.txt', 'aug-15_osaka.pdf', 'aug-15_osaka.txt', 'aug-15_shanghai.jpg', 'aug-15_shanghai.txt', 'aug-16_manila.pdf', 'aug-16_manila.txt', 'aug-16_shanghai.jpg', 'aug-16_shanghai.png', 'aug-16_shanghai.txt', 'aug-17_jakarta.png', 'aug-17_jakarta.txt', 'aug-17_karachi.pdf', 'aug-17_karachi.txt', 'aug-17_manila.png', 'aug-17_manila.txt', 'aug-17_osaka.jpg', 'aug-17_osaka.txt', 'aug-17_shanghai.jpg', 'aug-17_shanghai.pdf', 'aug-17_shanghai.txt', 'aug-18_cairo.jpg', 'aug-18_cairo.txt', 'aug-18_dhaka.png', 'aug-18_dhaka.txt', 'aug-18_shanghai.pdf', 'aug-18_shanghai.txt', 'aug-19_cairo.jpg', 'aug-19_cairo.txt', 'aug-19_dhaka.jpg', 'aug-19_dhaka.txt', 'aug-19_karachi.png', 'aug-19_karachi.txt', 'aug-19_manila.pdf', 'aug-19_manila.txt', 'aug-19_melbourne.jpg', 'aug-19_melbourne.txt', 'aug-19_osaka.pdf', 'aug-19_osaka.png', 'aug-19_osaka.txt', 'aug-19_shanghai.png', 'aug-19_shanghai.txt', 'aug-20_cairo.png', 'aug-20_cairo.txt', 'aug-20_dhaka.pdf', 'aug-20_dhaka.txt', 'aug-20_jakarta.jpg', 'aug-20_jakarta.png', 'aug-20_jakarta.txt', 'aug-20_karachi.png', 'aug-20_karachi.txt', 'aug-20_osaka.pdf', 'aug-20_osaka.png', 'aug-20_osaka.txt', 'aug-20_tokyo.jpg', 'aug-20_tokyo.pdf', 'aug-20_tokyo.txt', 'aug-21_jakarta.pdf', 'aug-21_jakarta.txt', 'aug-21_karachi.jpg', 'aug-21_karachi.pdf', 'aug-21_karachi.txt', 'aug-21_manila.jpg', 'aug-21_manila.txt', 'aug-21_osaka.pdf', 'aug-21_osaka.txt', 'aug-22_dhaka.png', 'aug-22_dhaka.txt', 'aug-22_jakarta.pdf', 'aug-22_jakarta.txt', 'aug-22_manila.jpg', 'aug-22_manila.txt', 'aug-22_melbourne.pdf', 'aug-22_melbourne.txt', 'aug-22_osaka.pdf', 'aug-22_osaka.txt', 'aug-23_dhaka.pdf', 'aug-23_dhaka.txt', 'aug-24_cairo.pdf', 'aug-24_cairo.txt', 'aug-24_manila.jpg', 'aug-24_manila.txt', 'aug-24_melbourne.jpg', 'aug-24_melbourne.txt', 'aug-24_osaka.jpg', 'aug-24_osaka.txt', 'aug-24_singapore.png', 'aug-24_singapore.txt', 'aug-25_cairo.png', 'aug-25_cairo.txt', 'aug-25_dhaka.jpg', 'aug-25_dhaka.txt', 'aug-25_manila.png', 'aug-25_manila.txt', 'aug-25_melbourne.jpg', 'aug-25_melbourne.txt', 'aug-25_osaka.png', 'aug-25_osaka.txt', 'aug-25_shanghai.png', 'aug-25_shanghai.txt', 'aug-26_cairo.png', 'aug-26_cairo.txt', 'aug-26_dhaka.jpg', 'aug-26_dhaka.txt', 'aug-26_jakarta.pdf', 'aug-26_jakarta.txt', 'aug-26_karachi.pdf', 'aug-26_karachi.txt', 'aug-26_manila.png', 'aug-26_manila.txt', 'aug-26_shanghai.jpg', 'aug-26_shanghai.txt', 'aug-27_dhaka.png', 'aug-27_dhaka.txt', 'aug-27_melbourne.png', 'aug-27_melbourne.txt', 'aug-28_jakarta.jpg', 'aug-28_jakarta.txt', 'aug-28_manila.pdf', 'aug-28_manila.txt', 'aug-28_melbourne.png', 'aug-28_melbourne.txt', 'aug-28_osaka.pdf', 'aug-28_osaka.png', 'aug-28_osaka.txt', 'aug-28_shanghai.pdf', 'aug-28_shanghai.txt', 'aug-29_karachi.jpg', 'aug-29_karachi.txt', 'aug-29_manila.png', 'aug-29_manila.txt', 'aug-29_shanghai.png', 'aug-29_shanghai.txt', 'aug-30_dhaka.pdf', 'aug-30_dhaka.txt', 'Cairo', 'dec-01_cairo.jpg', 'dec-01_cairo.txt', 'dec-02_dhaka.png', 'dec-02_dhaka.txt', 'dec-02_melbourne.pdf', 'dec-02_melbourne.txt', 'dec-02_osaka.jpg', 'dec-02_osaka.txt', 'dec-02_singapore.pdf', 'dec-02_singapore.png', 'dec-02_singapore.txt', 'dec-03_cairo.jpg', 'dec-03_cairo.png', 'dec-03_cairo.txt', 'dec-03_dhaka.pdf', 'dec-03_dhaka.txt', 'dec-03_jakarta.png', 'dec-03_jakarta.txt', 'dec-04_cairo.jpg', 'dec-04_cairo.pdf', 'dec-04_cairo.png', 'dec-04_cairo.txt', 'dec-04_dhaka.pdf', 'dec-04_dhaka.txt', 'dec-04_jakarta.png', 'dec-04_jakarta.txt', 'dec-04_osaka.pdf', 'dec-04_osaka.png', 'dec-04_osaka.txt', 'dec-05_cairo.png', 'dec-05_cairo.txt', 'dec-05_shanghai.jpg', 'dec-05_shanghai.png', 'dec-05_shanghai.txt', 'dec-05_singapore.jpg', 'dec-05_singapore.txt', 'dec-05_tokyo.pdf', 'dec-05_tokyo.txt', 'dec-06_dhaka.jpg', 'dec-06_dhaka.txt', 'dec-06_osaka.jpg', 'dec-06_osaka.txt', 'dec-06_shanghai.png', 'dec-06_shanghai.txt', 'dec-06_singapore.jpg', 'dec-06_singapore.pdf', 'dec-06_singapore.txt', 'dec-06_tokyo.png', 'dec-06_tokyo.txt', 'dec-07_cairo.jpg', 'dec-07_cairo.txt', 'dec-07_jakarta.jpg', 'dec-07_jakarta.txt', 'dec-07_karachi.jpg', 'dec-07_karachi.pdf', 'dec-07_karachi.txt', 'dec-07_osaka.pdf', 'dec-07_osaka.txt', 'dec-07_shanghai.pdf', 'dec-07_shanghai.txt', 'dec-07_singapore.pdf', 'dec-07_singapore.txt', 'dec-08_shanghai.jpg', 'dec-08_shanghai.txt', 'dec-09_cairo.png', 'dec-09_cairo.txt', 'dec-09_dhaka.jpg', 'dec-09_dhaka.txt', 'dec-09_jakarta.jpg', 'dec-09_jakarta.txt', 'dec-09_osaka.png', 'dec-09_osaka.txt', 'dec-09_tokyo.png', 'dec-09_tokyo.txt', 'dec-10_cairo.jpg', 'dec-10_cairo.pdf', 'dec-10_cairo.txt', 'dec-10_karachi.pdf', 'dec-10_karachi.txt', 'dec-10_osaka.jpg', 'dec-10_osaka.png', 'dec-10_osaka.txt', 'dec-10_tokyo.jpg', 'dec-10_tokyo.txt', 'dec-11_dhaka.png', 'dec-11_dhaka.txt', 'dec-11_jakarta.jpg', 'dec-11_jakarta.txt', 'dec-11_shanghai.png', 'dec-11_shanghai.txt', 'dec-12_jakarta.pdf', 'dec-12_jakarta.txt', 'dec-12_osaka.jpg', 'dec-12_osaka.pdf', 'dec-12_osaka.txt', 'dec-13_cairo.pdf', 'dec-13_cairo.txt', 'dec-13_karachi.pdf', 'dec-13_karachi.txt', 'dec-14_osaka.jpg', 'dec-14_osaka.png', 'dec-14_osaka.txt', 'dec-15_jakarta.jpg', 'dec-15_jakarta.png', 'dec-15_jakarta.txt', 'dec-15_melbourne.pdf', 'dec-15_melbourne.txt', 'dec-15_osaka.pdf', 'dec-15_osaka.txt', 'dec-15_shanghai.pdf', 'dec-15_shanghai.txt', 'dec-16_dhaka.pdf', 'dec-16_dhaka.png', 'dec-16_dhaka.txt', 'dec-16_jakarta.png', 'dec-16_jakarta.txt', 'dec-17_cairo.png', 'dec-17_cairo.txt', 'dec-17_dhaka.pdf', 'dec-17_dhaka.txt', 'dec-17_karachi.jpg', 'dec-17_karachi.pdf', 'dec-17_karachi.txt', 'dec-17_shanghai.jpg', 'dec-17_shanghai.txt', 'dec-17_singapore.jpg', 'dec-17_singapore.txt', 'dec-18_cairo.jpg', 'dec-18_cairo.txt', 'dec-18_dhaka.png', 'dec-18_dhaka.txt', 'dec-18_jakarta.pdf', 'dec-18_jakarta.txt', 'dec-18_manila.pdf', 'dec-18_manila.txt', 'dec-18_shanghai.jpg', 'dec-18_shanghai.pdf', 'dec-18_shanghai.txt', 'dec-19_cairo.pdf', 'dec-19_cairo.txt', 'dec-19_dhaka.png', 'dec-19_dhaka.txt', 'dec-19_shanghai.pdf', 'dec-19_shanghai.png', 'dec-19_shanghai.txt', 'dec-19_tokyo.pdf', 'dec-19_tokyo.txt', 'dec-20_dhaka.jpg', 'dec-20_dhaka.txt', 'dec-20_jakarta.jpg', 'dec-20_jakarta.pdf', 'dec-20_jakarta.txt', 'dec-20_karachi.pdf', 'dec-20_karachi.txt', 'dec-20_shanghai.jpg', 'dec-20_shanghai.png', 'dec-20_shanghai.txt', 'dec-20_tokyo.pdf', 'dec-20_tokyo.txt', 'dec-21_cairo.png', 'dec-21_cairo.txt', 'dec-21_dhaka.pdf', 'dec-21_dhaka.png', 'dec-21_dhaka.txt', 'dec-21_osaka.pdf', 'dec-21_osaka.txt', 'dec-21_shanghai.jpg', 'dec-21_shanghai.txt', 'dec-22_cairo.jpg', 'dec-22_cairo.txt', 'dec-22_osaka.png', 'dec-22_osaka.txt', 'dec-22_shanghai.pdf', 'dec-22_shanghai.png', 'dec-22_shanghai.txt', 'dec-22_singapore.png', 'dec-22_singapore.txt', 'dec-23_cairo.pdf', 'dec-23_cairo.txt', 'dec-23_jakarta.jpg', 'dec-23_jakarta.txt', 'dec-23_manila.jpg', 'dec-23_manila.txt', 'dec-23_osaka.jpg', 'dec-23_osaka.txt', 'dec-23_singapore.pdf', 'dec-23_singapore.txt', 'dec-24_dhaka.pdf', 'dec-24_dhaka.txt', 'dec-24_shanghai.pdf', 'dec-24_shanghai.txt', 'dec-25_osaka.pdf', 'dec-25_osaka.txt', 'dec-25_shanghai.pdf', 'dec-25_shanghai.txt', 'dec-25_singapore.pdf', 'dec-25_singapore.png', 'dec-25_singapore.txt', 'dec-25_tokyo.png', 'dec-25_tokyo.txt', 'dec-26_cairo.pdf', 'dec-26_cairo.txt', 'dec-26_jakarta.pdf', 'dec-26_jakarta.txt', 'dec-26_karachi.png', 'dec-26_karachi.txt', 'dec-26_osaka.jpg', 'dec-26_osaka.txt', 'dec-27_cairo.png', 'dec-27_cairo.txt', 'dec-27_dhaka.jpg', 'dec-27_dhaka.txt', 'dec-27_jakarta.png', 'dec-27_jakarta.txt', 'dec-27_karachi.jpg', 'dec-27_karachi.pdf', 'dec-27_karachi.txt', 'dec-27_shanghai.jpg', 'dec-27_shanghai.txt', 'dec-28_dhaka.jpg', 'dec-28_dhaka.txt', 'dec-28_karachi.jpg', 'dec-28_karachi.txt', 'dec-28_osaka.jpg', 'dec-28_osaka.txt', 'dec-28_shanghai.pdf', 'dec-28_shanghai.png', 'dec-28_shanghai.txt', 'dec-28_singapore.jpg', 'dec-28_singapore.txt', 'dec-29_cairo.jpg', 'dec-29_cairo.png', 'dec-29_cairo.txt', 'dec-29_dhaka.png', 'dec-29_dhaka.txt', 'dec-29_jakarta.png', 'dec-29_jakarta.txt', 'dec-29_karachi.png', 'dec-29_karachi.txt', 'dec-29_singapore.jpg', 'dec-29_singapore.png', 'dec-29_singapore.txt', 'dec-30_dhaka.pdf', 'dec-30_dhaka.txt', 'dec-30_jakarta.png', 'dec-30_jakarta.txt', 'dec-30_manila.jpg', 'dec-30_manila.txt', 'Dhaka', 'feb-01_dhaka.png', 'feb-01_dhaka.txt', 'feb-01_manila.pdf', 'feb-01_manila.txt', 'feb-01_osaka.jpg', 'feb-01_osaka.pdf', 'feb-01_osaka.txt', 'feb-01_shanghai.png', 'feb-01_shanghai.txt', 'feb-01_singapore.png', 'feb-01_singapore.txt', 'feb-02_jakarta.png', 'feb-02_jakarta.txt', 'feb-02_osaka.pdf', 'feb-02_osaka.txt', 'feb-02_singapore.png', 'feb-02_singapore.txt', 'feb-03_manila.jpg', 'feb-03_manila.txt', 'feb-03_osaka.jpg', 'feb-03_osaka.txt', 'feb-03_singapore.jpg', 'feb-03_singapore.png', 'feb-03_singapore.txt', 'feb-03_tokyo.pdf', 'feb-03_tokyo.txt', 'feb-04_dhaka.pdf', 'feb-04_dhaka.txt', 'feb-04_jakarta.png', 'feb-04_jakarta.txt', 'feb-04_manila.jpg', 'feb-04_manila.txt', 'feb-04_osaka.pdf', 'feb-04_osaka.png', 'feb-04_osaka.txt', 'feb-04_singapore.jpg', 'feb-04_singapore.pdf', 'feb-04_singapore.txt', 'feb-04_tokyo.jpg', 'feb-04_tokyo.txt', 'feb-05_manila.png', 'feb-05_manila.txt', 'feb-05_shanghai.png', 'feb-05_shanghai.txt', 'feb-05_singapore.jpg', 'feb-05_singapore.png', 'feb-05_singapore.txt', 'feb-05_tokyo.png', 'feb-05_tokyo.txt', 'feb-06_jakarta.jpg', 'feb-06_jakarta.txt', 'feb-06_karachi.pdf', 'feb-06_karachi.txt', 'feb-06_manila.jpg', 'feb-06_manila.png', 'feb-06_manila.txt', 'feb-06_osaka.jpg', 'feb-06_osaka.png', 'feb-06_osaka.txt', 'feb-06_tokyo.pdf', 'feb-06_tokyo.png', 'feb-06_tokyo.txt', 'feb-07_manila.png', 'feb-07_manila.txt', 'feb-07_osaka.jpg', 'feb-07_osaka.pdf', 'feb-07_osaka.png', 'feb-07_osaka.txt', 'feb-07_tokyo.png', 'feb-07_tokyo.txt', 'feb-08_dhaka.png', 'feb-08_dhaka.txt', 'feb-08_karachi.pdf', 'feb-08_karachi.txt', 'feb-08_manila.pdf', 'feb-08_manila.png', 'feb-08_manila.txt', 'feb-08_singapore.pdf', 'feb-08_singapore.txt', 'feb-09_jakarta.png', 'feb-09_jakarta.txt', 'feb-09_manila.jpg', 'feb-09_manila.txt', 'feb-09_osaka.png', 'feb-09_osaka.txt', 'feb-09_tokyo.pdf', 'feb-09_tokyo.txt', 'feb-10_cairo.jpg', 'feb-10_cairo.pdf', 'feb-10_cairo.txt', 'feb-10_jakarta.png', 'feb-10_jakarta.txt', 'feb-10_manila.jpg', 'feb-10_manila.txt', 'feb-10_osaka.jpg', 'feb-10_osaka.pdf', 'feb-10_osaka.txt', 'feb-11_osaka.png', 'feb-11_osaka.txt', 'feb-11_shanghai.jpg', 'feb-11_shanghai.txt', 'feb-12_dhaka.pdf', 'feb-12_dhaka.txt', 'feb-12_manila.pdf', 'feb-12_manila.txt', 'feb-12_shanghai.png', 'feb-12_shanghai.txt', 'feb-12_singapore.png', 'feb-12_singapore.txt', 'feb-12_tokyo.jpg', 'feb-12_tokyo.txt', 'feb-13_manila.jpg', 'feb-13_manila.txt', 'feb-13_melbourne.pdf', 'feb-13_melbourne.txt', 'feb-13_shanghai.jpg', 'feb-13_shanghai.txt', 'feb-13_singapore.jpg', 'feb-13_singapore.txt', 'feb-13_tokyo.pdf', 'feb-13_tokyo.txt', 'feb-14_dhaka.png', 'feb-14_dhaka.txt', 'feb-14_jakarta.png', 'feb-14_jakarta.txt', 'feb-14_osaka.jpg', 'feb-14_osaka.png', 'feb-14_osaka.txt', 'feb-14_singapore.jpg', 'feb-14_singapore.txt', 'feb-14_tokyo.pdf', 'feb-14_tokyo.txt', 'feb-15_jakarta.jpg', 'feb-15_jakarta.txt', 'feb-15_manila.pdf', 'feb-15_manila.png', 'feb-15_manila.txt', 'feb-15_shanghai.png', 'feb-15_shanghai.txt', 'feb-15_singapore.png', 'feb-15_singapore.txt', 'feb-16_melbourne.png', 'feb-16_melbourne.txt', 'feb-16_osaka.pdf', 'feb-16_osaka.txt', 'feb-16_shanghai.png', 'feb-16_shanghai.txt', 'feb-16_tokyo.jpg', 'feb-16_tokyo.txt', 'feb-17_cairo.jpg', 'feb-17_cairo.txt', 'feb-17_karachi.png', 'feb-17_karachi.txt', 'feb-17_shanghai.jpg', 'feb-17_shanghai.pdf', 'feb-17_shanghai.png', 'feb-17_shanghai.txt', 'feb-17_singapore.png', 'feb-17_singapore.txt', 'feb-18_manila.jpg', 'feb-18_manila.txt', 'feb-18_shanghai.jpg', 'feb-18_shanghai.png', 'feb-18_shanghai.txt', 'feb-19_osaka.jpg', 'feb-19_osaka.txt', 'feb-19_singapore.jpg', 'feb-19_singapore.pdf', 'feb-19_singapore.txt', 'feb-19_tokyo.pdf', 'feb-19_tokyo.txt', 'feb-20_cairo.png', 'feb-20_cairo.txt', 'feb-20_dhaka.jpg', 'feb-20_dhaka.txt', 'feb-20_jakarta.pdf', 'feb-20_jakarta.txt', 'feb-20_osaka.jpg', 'feb-20_osaka.txt', 'feb-20_singapore.pdf', 'feb-20_singapore.txt', 'feb-20_tokyo.pdf', 'feb-20_tokyo.txt', 'feb-21_jakarta.jpg', 'feb-21_jakarta.txt', 'feb-21_manila.jpg', 'feb-21_manila.txt', 'feb-21_osaka.png', 'feb-21_osaka.txt', 'feb-21_tokyo.pdf', 'feb-21_tokyo.png', 'feb-21_tokyo.txt', 'feb-22_cairo.pdf', 'feb-22_cairo.png', 'feb-22_cairo.txt', 'feb-22_dhaka.jpg', 'feb-22_dhaka.txt', 'feb-22_manila.pdf', 'feb-22_manila.png', 'feb-22_manila.txt', 'feb-22_tokyo.pdf', 'feb-22_tokyo.png', 'feb-22_tokyo.txt', 'feb-23_manila.pdf', 'feb-23_manila.txt', 'feb-23_shanghai.pdf', 'feb-23_shanghai.png', 'feb-23_shanghai.txt', 'feb-23_singapore.jpg', 'feb-23_singapore.txt', 'feb-24_manila.pdf', 'feb-24_manila.txt', 'feb-24_osaka.pdf', 'feb-24_osaka.txt', 'feb-24_singapore.pdf', 'feb-24_singapore.txt', 'feb-24_tokyo.jpg', 'feb-24_tokyo.txt', 'feb-25_cairo.jpg', 'feb-25_cairo.pdf', 'feb-25_cairo.txt', 'feb-26_cairo.png', 'feb-26_cairo.txt', 'feb-26_jakarta.png', 'feb-26_jakarta.txt', 'feb-26_manila.png', 'feb-26_manila.txt', 'feb-26_osaka.pdf', 'feb-26_osaka.txt', 'feb-27_jakarta.png', 'feb-27_jakarta.txt', 'feb-27_manila.pdf', 'feb-27_manila.txt', 'feb-27_osaka.jpg', 'feb-27_osaka.txt', 'feb-27_singapore.pdf', 'feb-27_singapore.txt', 'feb-27_tokyo.pdf', 'feb-27_tokyo.txt', 'Jakarta', 'jan-01_manila.jpg', 'jan-01_manila.txt', 'jan-01_osaka.pdf', 'jan-01_osaka.txt', 'jan-02_cairo.pdf', 'jan-02_cairo.txt', 'jan-02_karachi.jpg', 'jan-02_karachi.txt', 'jan-02_manila.png', 'jan-02_manila.txt', 'jan-03_cairo.pdf', 'jan-03_cairo.txt', 'jan-03_jakarta.jpg', 'jan-03_jakarta.txt', 'jan-03_karachi.png', 'jan-03_karachi.txt', 'jan-03_shanghai.jpg', 'jan-03_shanghai.txt', 'jan-04_cairo.jpg', 'jan-04_cairo.txt', 'jan-04_jakarta.jpg', 'jan-04_jakarta.txt', 'jan-04_karachi.png', 'jan-04_karachi.txt', 'jan-04_manila.pdf', 'jan-04_manila.png', 'jan-04_manila.txt', 'jan-05_cairo.jpg', 'jan-05_cairo.txt', 'jan-05_melbourne.jpg', 'jan-05_melbourne.txt', 'jan-05_osaka.jpg', 'jan-05_osaka.txt', 'jan-06_jakarta.jpg', 'jan-06_jakarta.pdf', 'jan-06_jakarta.png', 'jan-06_jakarta.txt', 'jan-06_karachi.pdf', 'jan-06_karachi.png', 'jan-06_karachi.txt', 'jan-06_melbourne.png', 'jan-06_melbourne.txt', 'jan-07_cairo.jpg', 'jan-07_cairo.txt', 'jan-08_cairo.png', 'jan-08_cairo.txt', 'jan-08_manila.png', 'jan-08_manila.txt', 'jan-08_osaka.png', 'jan-08_osaka.txt', 'jan-08_tokyo.jpg', 'jan-08_tokyo.txt', 'jan-09_cairo.jpg', 'jan-09_cairo.txt', 'jan-09_karachi.jpg', 'jan-09_karachi.png', 'jan-09_karachi.txt', 'jan-09_manila.pdf', 'jan-09_manila.txt', 'jan-09_melbourne.pdf', 'jan-09_melbourne.txt', 'jan-10_jakarta.png', 'jan-10_jakarta.txt', 'jan-10_karachi.pdf', 'jan-10_karachi.txt', 'jan-10_shanghai.pdf', 'jan-10_shanghai.txt', 'jan-11_cairo.png', 'jan-11_cairo.txt', 'jan-11_manila.jpg', 'jan-11_manila.png', 'jan-11_manila.txt', 'jan-11_melbourne.jpg', 'jan-11_melbourne.txt', 'jan-12_cairo.pdf', 'jan-12_cairo.txt', 'jan-12_jakarta.jpg', 'jan-12_jakarta.pdf', 'jan-12_jakarta.txt', 'jan-12_karachi.jpg', 'jan-12_karachi.txt', 'jan-12_melbourne.pdf', 'jan-12_melbourne.txt', 'jan-12_osaka.png', 'jan-12_osaka.txt', 'jan-12_tokyo.jpg', 'jan-12_tokyo.txt', 'jan-13_cairo.png', 'jan-13_cairo.txt', 'jan-13_jakarta.jpg', 'jan-13_jakarta.txt', 'jan-13_melbourne.pdf', 'jan-13_melbourne.txt', 'jan-14_karachi.png', 'jan-14_karachi.txt', 'jan-14_manila.png', 'jan-14_manila.txt', 'jan-15_cairo.jpg', 'jan-15_cairo.png', 'jan-15_cairo.txt', 'jan-15_dhaka.jpg', 'jan-15_dhaka.txt', 'jan-15_manila.png', 'jan-15_manila.txt', 'jan-15_osaka.png', 'jan-15_osaka.txt', 'jan-15_singapore.pdf', 'jan-15_singapore.txt', 'jan-16_cairo.png', 'jan-16_cairo.txt', 'jan-16_jakarta.jpg', 'jan-16_jakarta.pdf', 'jan-16_jakarta.png', 'jan-16_jakarta.txt', 'jan-16_melbourne.jpg', 'jan-16_melbourne.png', 'jan-16_melbourne.txt', 'jan-16_tokyo.pdf', 'jan-16_tokyo.txt', 'jan-17_karachi.pdf', 'jan-17_karachi.txt', 'jan-18_karachi.pdf', 'jan-18_karachi.png', 'jan-18_karachi.txt', 'jan-18_manila.pdf', 'jan-18_manila.txt', 'jan-18_melbourne.jpg', 'jan-18_melbourne.png', 'jan-18_melbourne.txt', 'jan-18_osaka.jpg', 'jan-18_osaka.txt', 'jan-19_cairo.pdf', 'jan-19_cairo.txt', 'jan-19_jakarta.jpg', 'jan-19_jakarta.txt', 'jan-19_karachi.pdf', 'jan-19_karachi.txt', 'jan-19_manila.png', 'jan-19_manila.txt', 'jan-19_melbourne.png', 'jan-19_melbourne.txt', 'jan-19_osaka.png', 'jan-19_osaka.txt', 'jan-19_tokyo.jpg', 'jan-19_tokyo.txt', 'jan-20_cairo.pdf', 'jan-20_cairo.txt', 'jan-20_karachi.jpg', 'jan-20_karachi.txt', 'jan-20_osaka.pdf', 'jan-20_osaka.png', 'jan-20_osaka.txt', 'jan-20_tokyo.pdf', 'jan-20_tokyo.txt', 'jan-21_cairo.jpg', 'jan-21_cairo.txt', 'jan-21_karachi.png', 'jan-21_karachi.txt', 'jan-21_melbourne.jpg', 'jan-21_melbourne.pdf', 'jan-21_melbourne.txt', 'jan-22_karachi.png', 'jan-22_karachi.txt', 'jan-22_melbourne.jpg', 'jan-22_melbourne.pdf', 'jan-22_melbourne.txt', 'jan-22_osaka.jpg', 'jan-22_osaka.png', 'jan-22_osaka.txt', 'jan-22_shanghai.pdf', 'jan-22_shanghai.txt', 'jan-22_tokyo.png', 'jan-22_tokyo.txt', 'jan-23_cairo.png', 'jan-23_cairo.txt', 'jan-23_jakarta.jpg', 'jan-23_jakarta.txt', 'jan-23_manila.png', 'jan-23_manila.txt', 'jan-24_jakarta.pdf', 'jan-24_jakarta.txt', 'jan-24_karachi.pdf', 'jan-24_karachi.txt', 'jan-24_manila.jpg', 'jan-24_manila.txt', 'jan-24_melbourne.jpg', 'jan-24_melbourne.txt', 'jan-24_tokyo.pdf', 'jan-24_tokyo.txt', 'jan-25_karachi.pdf', 'jan-25_karachi.png', 'jan-25_karachi.txt', 'jan-25_manila.jpg', 'jan-25_manila.txt', 'jan-25_melbourne.jpg', 'jan-25_melbourne.txt', 'jan-25_osaka.pdf', 'jan-25_osaka.txt', 'jan-26_jakarta.png', 'jan-26_jakarta.txt', 'jan-26_karachi.jpg', 'jan-26_karachi.txt', 'jan-26_manila.pdf', 'jan-26_manila.txt', 'jan-26_shanghai.png', 'jan-26_shanghai.txt', 'jan-27_cairo.jpg', 'jan-27_cairo.txt', 'jan-27_melbourne.jpg', 'jan-27_melbourne.txt', 'jan-27_osaka.pdf', 'jan-27_osaka.txt', 'jan-28_karachi.pdf', 'jan-28_karachi.png', 'jan-28_karachi.txt', 'jan-29_melbourne.jpg', 'jan-29_melbourne.pdf', 'jan-29_melbourne.txt', 'jan-29_shanghai.pdf', 'jan-29_shanghai.txt', 'jan-30_cairo.pdf', 'jan-30_cairo.txt', 'jan-30_jakarta.jpg', 'jan-30_jakarta.png', 'jan-30_jakarta.txt', 'jan-30_karachi.pdf', 'jan-30_karachi.txt', 'jan-30_manila.jpg', 'jan-30_manila.txt', 'jul-01_dhaka.png', 'jul-01_dhaka.txt', 'jul-01_karachi.png', 'jul-01_karachi.txt', 'jul-01_manila.pdf', 'jul-01_manila.txt', 'jul-01_melbourne.jpg', 'jul-01_melbourne.txt', 'jul-02_dhaka.pdf', 'jul-02_dhaka.txt', 'jul-02_melbourne.pdf', 'jul-02_melbourne.txt', 'jul-02_shanghai.jpg', 'jul-02_shanghai.txt', 'jul-02_singapore.jpg', 'jul-02_singapore.pdf', 'jul-02_singapore.txt', 'jul-02_tokyo.pdf', 'jul-02_tokyo.png', 'jul-02_tokyo.txt', 'jul-03_manila.jpg', 'jul-03_manila.txt', 'jul-03_melbourne.pdf', 'jul-03_melbourne.txt', 'jul-03_shanghai.jpg', 'jul-03_shanghai.txt', 'jul-03_singapore.pdf', 'jul-03_singapore.txt', 'jul-04_cairo.jpg', 'jul-04_cairo.txt', 'jul-04_jakarta.png', 'jul-04_jakarta.txt', 'jul-04_karachi.jpg', 'jul-04_karachi.txt', 'jul-04_singapore.png', 'jul-04_singapore.txt', 'jul-04_tokyo.png', 'jul-04_tokyo.txt', 'jul-05_dhaka.pdf', 'jul-05_dhaka.png', 'jul-05_dhaka.txt', 'jul-05_shanghai.pdf', 'jul-05_shanghai.txt', 'jul-05_singapore.png', 'jul-05_singapore.txt', 'jul-05_tokyo.png', 'jul-05_tokyo.txt', 'jul-06_dhaka.pdf', 'jul-06_dhaka.png', 'jul-06_dhaka.txt', 'jul-06_manila.pdf', 'jul-06_manila.txt', 'jul-06_melbourne.pdf', 'jul-06_melbourne.txt', 'jul-06_osaka.pdf', 'jul-06_osaka.txt', 'jul-06_shanghai.pdf', 'jul-06_shanghai.png', 'jul-06_shanghai.txt', 'jul-06_singapore.png', 'jul-06_singapore.txt', 'jul-06_tokyo.png', 'jul-06_tokyo.txt', 'jul-07_manila.png', 'jul-07_manila.txt', 'jul-07_melbourne.jpg', 'jul-07_melbourne.txt', 'jul-07_osaka.pdf', 'jul-07_osaka.png', 'jul-07_osaka.txt', 'jul-07_singapore.png', 'jul-07_singapore.txt', 'jul-08_cairo.png', 'jul-08_cairo.txt', 'jul-08_dhaka.pdf', 'jul-08_dhaka.txt', 'jul-08_karachi.jpg', 'jul-08_karachi.txt', 'jul-08_manila.pdf', 'jul-08_manila.txt', 'jul-08_shanghai.pdf', 'jul-08_shanghai.txt', 'jul-08_singapore.png', 'jul-08_singapore.txt', 'jul-09_dhaka.jpg', 'jul-09_dhaka.txt', 'jul-09_jakarta.pdf', 'jul-09_jakarta.txt', 'jul-09_karachi.jpg', 'jul-09_karachi.txt', 'jul-09_melbourne.pdf', 'jul-09_melbourne.png', 'jul-09_melbourne.txt', 'jul-09_shanghai.pdf', 'jul-09_shanghai.png', 'jul-09_shanghai.txt', 'jul-09_singapore.png', 'jul-09_singapore.txt', 'jul-10_cairo.png', 'jul-10_cairo.txt', 'jul-10_dhaka.jpg', 'jul-10_dhaka.pdf', 'jul-10_dhaka.txt', 'jul-10_shanghai.pdf', 'jul-10_shanghai.png', 'jul-10_shanghai.txt', 'jul-10_tokyo.pdf', 'jul-10_tokyo.txt', 'jul-11_dhaka.pdf', 'jul-11_dhaka.txt', 'jul-11_shanghai.pdf', 'jul-11_shanghai.txt', 'jul-11_tokyo.png', 'jul-11_tokyo.txt', 'jul-12_dhaka.png', 'jul-12_dhaka.txt', 'jul-12_jakarta.jpg', 'jul-12_jakarta.png', 'jul-12_jakarta.txt', 'jul-12_karachi.pdf', 'jul-12_karachi.png', 'jul-12_karachi.txt', 'jul-12_shanghai.pdf', 'jul-12_shanghai.png', 'jul-12_shanghai.txt', 'jul-12_tokyo.jpg', 'jul-12_tokyo.txt', 'jul-13_cairo.png', 'jul-13_cairo.txt', 'jul-13_dhaka.pdf', 'jul-13_dhaka.txt', 'jul-13_osaka.png', 'jul-13_osaka.txt', 'jul-13_tokyo.jpg', 'jul-13_tokyo.png', 'jul-13_tokyo.txt', 'jul-14_cairo.jpg', 'jul-14_cairo.txt', 'jul-14_jakarta.png', 'jul-14_jakarta.txt', 'jul-14_karachi.pdf', 'jul-14_karachi.png', 'jul-14_karachi.txt', 'jul-14_singapore.jpg', 'jul-14_singapore.pdf', 'jul-14_singapore.txt', 'jul-15_cairo.pdf', 'jul-15_cairo.txt', 'jul-15_dhaka.png', 'jul-15_dhaka.txt', 'jul-15_manila.png', 'jul-15_manila.txt', 'jul-15_osaka.pdf', 'jul-15_osaka.txt', 'jul-15_shanghai.jpg', 'jul-15_shanghai.txt', 'jul-15_tokyo.pdf', 'jul-15_tokyo.txt', 'jul-16_cairo.png', 'jul-16_cairo.txt', 'jul-16_dhaka.jpg', 'jul-16_dhaka.pdf', 'jul-16_dhaka.txt', 'jul-16_jakarta.png', 'jul-16_jakarta.txt', 'jul-16_karachi.pdf', 'jul-16_karachi.txt', 'jul-16_manila.png', 'jul-16_manila.txt', 'jul-16_melbourne.pdf', 'jul-16_melbourne.txt', 'jul-16_osaka.jpg', 'jul-16_osaka.txt', 'jul-16_singapore.jpg', 'jul-16_singapore.txt', 'jul-17_cairo.pdf', 'jul-17_cairo.txt', 'jul-17_melbourne.pdf', 'jul-17_melbourne.txt', 'jul-17_shanghai.png', 'jul-17_shanghai.txt', 'jul-17_singapore.pdf', 'jul-17_singapore.txt', 'jul-18_dhaka.png', 'jul-18_dhaka.txt', 'jul-18_jakarta.pdf', 'jul-18_jakarta.txt', 'jul-18_singapore.jpg', 'jul-18_singapore.txt', 'jul-19_cairo.jpg', 'jul-19_cairo.txt', 'jul-19_manila.png', 'jul-19_manila.txt', 'jul-19_osaka.png', 'jul-19_osaka.txt', 'jul-19_shanghai.pdf', 'jul-19_shanghai.txt', 'jul-19_tokyo.jpg', 'jul-19_tokyo.pdf', 'jul-19_tokyo.png', 'jul-19_tokyo.txt', 'jul-20_manila.png', 'jul-20_manila.txt', 'jul-20_melbourne.pdf', 'jul-20_melbourne.txt', 'jul-20_tokyo.png', 'jul-20_tokyo.txt', 'jul-21_jakarta.jpg', 'jul-21_jakarta.txt', 'jul-21_karachi.jpg', 'jul-21_karachi.txt', 'jul-21_manila.png', 'jul-21_manila.txt', 'jul-21_melbourne.png', 'jul-21_melbourne.txt', 'jul-21_osaka.jpg', 'jul-21_osaka.txt', 'jul-22_manila.jpg', 'jul-22_manila.txt', 'jul-22_melbourne.jpg', 'jul-22_melbourne.txt', 'jul-22_shanghai.pdf', 'jul-22_shanghai.png', 'jul-22_shanghai.txt', 'jul-22_singapore.pdf', 'jul-22_singapore.txt', 'jul-23_dhaka.png', 'jul-23_dhaka.txt', 'jul-23_jakarta.jpg', 'jul-23_jakarta.txt', 'jul-23_karachi.png', 'jul-23_karachi.txt', 'jul-23_melbourne.jpg', 'jul-23_melbourne.pdf', 'jul-23_melbourne.txt', 'jul-23_shanghai.pdf', 'jul-23_shanghai.png', 'jul-23_shanghai.txt', 'jul-23_singapore.jpg', 'jul-23_singapore.pdf', 'jul-23_singapore.txt', 'jul-24_cairo.pdf', 'jul-24_cairo.txt', 'jul-24_dhaka.jpg', 'jul-24_dhaka.txt', 'jul-24_jakarta.pdf', 'jul-24_jakarta.png', 'jul-24_jakarta.txt', 'jul-24_karachi.jpg', 'jul-24_karachi.txt', 'jul-24_shanghai.jpg', 'jul-24_shanghai.pdf', 'jul-24_shanghai.png', 'jul-24_shanghai.txt', 'jul-25_karachi.jpg', 'jul-25_karachi.png', 'jul-25_karachi.txt', 'jul-25_manila.jpg', 'jul-25_manila.txt', 'jul-25_melbourne.pdf', 'jul-25_melbourne.txt', 'jul-25_singapore.pdf', 'jul-25_singapore.txt', 'jul-26_cairo.png', 'jul-26_cairo.txt', 'jul-26_melbourne.pdf', 'jul-26_melbourne.txt', 'jul-26_shanghai.pdf', 'jul-26_shanghai.txt', 'jul-26_singapore.pdf', 'jul-26_singapore.txt', 'jul-26_tokyo.jpg', 'jul-26_tokyo.txt', 'jul-27_cairo.png', 'jul-27_cairo.txt', 'jul-27_jakarta.pdf', 'jul-27_jakarta.txt', 'jul-27_manila.png', 'jul-27_manila.txt', 'jul-27_melbourne.pdf', 'jul-27_melbourne.txt', 'jul-27_osaka.png', 'jul-27_osaka.txt', 'jul-27_singapore.jpg', 'jul-27_singapore.png', 'jul-27_singapore.txt', 'jul-27_tokyo.jpg', 'jul-27_tokyo.png', 'jul-27_tokyo.txt', 'jul-28_dhaka.png', 'jul-28_dhaka.txt', 'jul-28_jakarta.pdf', 'jul-28_jakarta.txt', 'jul-28_manila.pdf', 'jul-28_manila.txt', 'jul-28_singapore.png', 'jul-28_singapore.txt', 'jul-28_tokyo.pdf', 'jul-28_tokyo.txt', 'jul-29_cairo.jpg', 'jul-29_cairo.txt', 'jul-29_singapore.pdf', 'jul-29_singapore.txt', 'jul-29_tokyo.pdf', 'jul-29_tokyo.txt', 'jul-30_cairo.png', 'jul-30_cairo.txt', 'jul-30_dhaka.pdf', 'jul-30_dhaka.txt', 'jul-30_jakarta.pdf', 'jul-30_jakarta.txt', 'jul-30_melbourne.jpg', 'jul-30_melbourne.txt', 'jun-01_singapore.jpg', 'jun-01_singapore.pdf', 'jun-01_singapore.txt', 'jun-02_dhaka.jpg', 'jun-02_dhaka.txt', 'jun-02_singapore.jpg', 'jun-02_singapore.txt', 'jun-03_jakarta.pdf', 'jun-03_jakarta.txt', 'jun-03_manila.pdf', 'jun-03_manila.png', 'jun-03_manila.txt', 'jun-03_osaka.pdf', 'jun-03_osaka.png', 'jun-03_osaka.txt', 'jun-03_shanghai.jpg', 'jun-03_shanghai.png', 'jun-03_shanghai.txt', 'jun-04_dhaka.pdf', 'jun-04_dhaka.txt', 'jun-04_jakarta.jpg', 'jun-04_jakarta.txt', 'jun-04_osaka.pdf', 'jun-04_osaka.txt', 'jun-05_dhaka.pdf', 'jun-05_dhaka.txt', 'jun-05_manila.jpg', 'jun-05_manila.png', 'jun-05_manila.txt', 'jun-05_osaka.jpg', 'jun-05_osaka.png', 'jun-05_osaka.txt', 'jun-05_singapore.pdf', 'jun-05_singapore.txt', 'jun-05_tokyo.pdf', 'jun-05_tokyo.txt', 'jun-06_melbourne.png', 'jun-06_melbourne.txt', 'jun-06_osaka.jpg', 'jun-06_osaka.png', 'jun-06_osaka.txt', 'jun-06_shanghai.jpg', 'jun-06_shanghai.png', 'jun-06_shanghai.txt', 'jun-06_singapore.png', 'jun-06_singapore.txt', 'jun-07_dhaka.jpg', 'jun-07_dhaka.txt', 'jun-07_shanghai.pdf', 'jun-07_shanghai.txt', 'jun-07_singapore.pdf', 'jun-07_singapore.txt', 'jun-07_tokyo.png', 'jun-07_tokyo.txt', 'jun-08_jakarta.png', 'jun-08_jakarta.txt', 'jun-08_melbourne.jpg', 'jun-08_melbourne.txt', 'jun-08_shanghai.pdf', 'jun-08_shanghai.txt', 'jun-08_singapore.jpg', 'jun-08_singapore.txt', 'jun-08_tokyo.pdf', 'jun-08_tokyo.txt', 'jun-09_dhaka.png', 'jun-09_dhaka.txt', 'jun-09_karachi.png', 'jun-09_karachi.txt', 'jun-09_singapore.pdf', 'jun-09_singapore.txt', 'jun-10_jakarta.pdf', 'jun-10_jakarta.txt', 'jun-10_manila.pdf', 'jun-10_manila.txt', 'jun-10_shanghai.jpg', 'jun-10_shanghai.pdf', 'jun-10_shanghai.txt', 'jun-11_dhaka.pdf', 'jun-11_dhaka.txt', 'jun-11_karachi.jpg', 'jun-11_karachi.txt', 'jun-11_osaka.jpg', 'jun-11_osaka.txt', 'jun-11_shanghai.pdf', 'jun-11_shanghai.png', 'jun-11_shanghai.txt', 'jun-11_singapore.jpg', 'jun-11_singapore.pdf', 'jun-11_singapore.txt', 'jun-11_tokyo.jpg', 'jun-11_tokyo.txt', 'jun-12_dhaka.pdf', 'jun-12_dhaka.txt', 'jun-12_karachi.png', 'jun-12_karachi.txt', 'jun-12_manila.jpg', 'jun-12_manila.png', 'jun-12_manila.txt', 'jun-12_osaka.pdf', 'jun-12_osaka.png', 'jun-12_osaka.txt', 'jun-12_shanghai.jpg', 'jun-12_shanghai.txt', 'jun-12_tokyo.pdf', 'jun-12_tokyo.txt', 'jun-13_manila.jpg', 'jun-13_manila.txt', 'jun-13_shanghai.png', 'jun-13_shanghai.txt', 'jun-14_tokyo.jpg', 'jun-14_tokyo.pdf', 'jun-14_tokyo.txt', 'jun-15_jakarta.pdf', 'jun-15_jakarta.png', 'jun-15_jakarta.txt', 'jun-15_manila.pdf', 'jun-15_manila.txt', 'jun-15_melbourne.jpg', 'jun-15_melbourne.txt', 'jun-15_osaka.png', 'jun-15_osaka.txt', 'jun-15_singapore.png', 'jun-15_singapore.txt', 'jun-16_karachi.pdf', 'jun-16_karachi.txt', 'jun-16_manila.jpg', 'jun-16_manila.png', 'jun-16_manila.txt', 'jun-16_melbourne.jpg', 'jun-16_melbourne.pdf', 'jun-16_melbourne.txt', 'jun-16_osaka.jpg', 'jun-16_osaka.txt', 'jun-16_singapore.jpg', 'jun-16_singapore.pdf', 'jun-16_singapore.png', 'jun-16_singapore.txt', 'jun-17_dhaka.pdf', 'jun-17_dhaka.png', 'jun-17_dhaka.txt', 'jun-17_manila.jpg', 'jun-17_manila.pdf', 'jun-17_manila.png', 'jun-17_manila.txt', 'jun-17_tokyo.pdf', 'jun-17_tokyo.txt', 'jun-18_dhaka.pdf', 'jun-18_dhaka.png', 'jun-18_dhaka.txt', 'jun-18_karachi.pdf', 'jun-18_karachi.txt', 'jun-18_manila.pdf', 'jun-18_manila.txt', 'jun-18_tokyo.pdf', 'jun-18_tokyo.txt', 'jun-19_dhaka.pdf', 'jun-19_dhaka.png', 'jun-19_dhaka.txt', 'jun-19_osaka.jpg', 'jun-19_osaka.txt', 'jun-20_dhaka.png', 'jun-20_dhaka.txt', 'jun-20_manila.pdf', 'jun-20_manila.png', 'jun-20_manila.txt', 'jun-20_tokyo.pdf', 'jun-20_tokyo.txt', 'jun-21_dhaka.pdf', 'jun-21_dhaka.txt', 'jun-21_jakarta.pdf', 'jun-21_jakarta.txt', 'jun-22_dhaka.pdf', 'jun-22_dhaka.txt', 'jun-22_jakarta.jpg', 'jun-22_jakarta.txt', 'jun-22_karachi.pdf', 'jun-22_karachi.txt', 'jun-22_manila.png', 'jun-22_manila.txt', 'jun-22_tokyo.pdf', 'jun-22_tokyo.txt', 'jun-23_dhaka.pdf', 'jun-23_dhaka.txt', 'jun-23_osaka.pdf', 'jun-23_osaka.txt', 'jun-23_singapore.pdf', 'jun-23_singapore.png', 'jun-23_singapore.txt', 'jun-23_tokyo.pdf', 'jun-23_tokyo.png', 'jun-23_tokyo.txt', 'jun-24_dhaka.jpg', 'jun-24_dhaka.txt', 'jun-24_manila.pdf', 'jun-24_manila.txt', 'jun-24_osaka.pdf', 'jun-24_osaka.txt', 'jun-25_dhaka.pdf', 'jun-25_dhaka.txt', 'jun-25_jakarta.png', 'jun-25_jakarta.txt', 'jun-25_manila.png', 'jun-25_manila.txt', 'jun-25_tokyo.jpg', 'jun-25_tokyo.txt', 'jun-26_dhaka.jpg', 'jun-26_dhaka.txt', 'jun-26_manila.pdf', 'jun-26_manila.txt', 'jun-27_dhaka.jpg', 'jun-27_dhaka.txt', 'jun-27_manila.jpg', 'jun-27_manila.png', 'jun-27_manila.txt', 'jun-28_cairo.pdf', 'jun-28_cairo.txt', 'jun-28_dhaka.png', 'jun-28_dhaka.txt', 'jun-28_jakarta.jpg', 'jun-28_jakarta.png', 'jun-28_jakarta.txt', 'jun-28_melbourne.png', 'jun-28_melbourne.txt', 'jun-28_osaka.pdf', 'jun-28_osaka.txt', 'jun-28_tokyo.pdf', 'jun-28_tokyo.txt', 'jun-29_karachi.png', 'jun-29_karachi.txt', 'jun-29_osaka.png', 'jun-29_osaka.txt', 'jun-29_tokyo.pdf', 'jun-29_tokyo.txt', 'Karachi', 'Manila', 'mar-02_manila.png', 'mar-02_manila.txt', 'mar-04_jakarta.pdf', 'mar-04_jakarta.txt', 'mar-04_osaka.png', 'mar-04_osaka.txt', 'mar-04_tokyo.jpg', 'mar-04_tokyo.txt', 'mar-05_cairo.pdf', 'mar-05_cairo.png', 'mar-05_cairo.txt', 'mar-05_singapore.jpg', 'mar-05_singapore.txt', 'mar-05_tokyo.jpg', 'mar-05_tokyo.png', 'mar-05_tokyo.txt', 'mar-06_cairo.pdf', 'mar-06_cairo.txt', 'mar-06_karachi.pdf', 'mar-06_karachi.txt', 'mar-07_melbourne.jpg', 'mar-07_melbourne.txt', 'mar-08_manila.jpg', 'mar-08_manila.txt', 'mar-08_osaka.png', 'mar-08_osaka.txt', 'mar-09_jakarta.pdf', 'mar-09_jakarta.txt', 'mar-09_manila.jpg', 'mar-09_manila.png', 'mar-09_manila.txt', 'mar-09_tokyo.pdf', 'mar-09_tokyo.png', 'mar-09_tokyo.txt', 'mar-10_manila.png', 'mar-10_manila.txt', 'mar-10_osaka.pdf', 'mar-10_osaka.txt', 'mar-11_jakarta.jpg', 'mar-11_jakarta.txt', 'mar-11_osaka.png', 'mar-11_osaka.txt', 'mar-12_cairo.jpg', 'mar-12_cairo.txt', 'mar-12_manila.jpg', 'mar-12_manila.png', 'mar-12_manila.txt', 'mar-12_osaka.pdf', 'mar-12_osaka.txt', 'mar-13_manila.jpg', 'mar-13_manila.png', 'mar-13_manila.txt', 'mar-14_cairo.pdf', 'mar-14_cairo.txt', 'mar-14_shanghai.jpg', 'mar-14_shanghai.txt', 'mar-14_tokyo.pdf', 'mar-14_tokyo.txt', 'mar-15_jakarta.jpg', 'mar-15_jakarta.txt', 'mar-15_tokyo.pdf', 'mar-15_tokyo.txt', 'mar-16_dhaka.pdf', 'mar-16_dhaka.txt', 'mar-16_manila.jpg', 'mar-16_manila.txt', 'mar-16_shanghai.png', 'mar-16_shanghai.txt', 'mar-16_tokyo.pdf', 'mar-16_tokyo.png', 'mar-16_tokyo.txt', 'mar-17_jakarta.jpg', 'mar-17_jakarta.txt', 'mar-17_manila.jpg', 'mar-17_manila.pdf', 'mar-17_manila.txt', 'mar-18_jakarta.png', 'mar-18_jakarta.txt', 'mar-18_manila.jpg', 'mar-18_manila.pdf', 'mar-18_manila.png', 'mar-18_manila.txt', 'mar-18_tokyo.pdf', 'mar-18_tokyo.txt', 'mar-19_cairo.jpg', 'mar-19_cairo.txt', 'mar-19_osaka.png', 'mar-19_osaka.txt', 'mar-20_jakarta.pdf', 'mar-20_jakarta.txt', 'mar-20_manila.jpg', 'mar-20_manila.txt', 'mar-22_manila.pdf', 'mar-22_manila.txt', 'mar-22_osaka.jpg', 'mar-22_osaka.txt', 'mar-23_jakarta.jpg', 'mar-23_jakarta.pdf', 'mar-23_jakarta.txt', 'mar-24_cairo.pdf', 'mar-24_cairo.txt', 'mar-24_manila.pdf', 'mar-24_manila.txt', 'mar-25_jakarta.png', 'mar-25_jakarta.txt', 'mar-25_manila.jpg', 'mar-25_manila.txt', 'mar-26_manila.png', 'mar-26_manila.txt', 'mar-26_tokyo.png', 'mar-26_tokyo.txt', 'mar-27_osaka.jpg', 'mar-27_osaka.txt', 'mar-27_tokyo.jpg', 'mar-27_tokyo.pdf', 'mar-27_tokyo.txt', 'mar-29_manila.pdf', 'mar-29_manila.png', 'mar-29_manila.txt', 'mar-30_jakarta.jpg', 'mar-30_jakarta.txt', 'mar-30_osaka.pdf', 'mar-30_osaka.txt', 'may-01_cairo.png', 'may-01_cairo.txt', 'may-01_dhaka.pdf', 'may-01_dhaka.png', 'may-01_dhaka.txt', 'may-01_jakarta.jpg', 'may-01_jakarta.txt', 'may-01_shanghai.pdf', 'may-01_shanghai.txt', 'may-01_singapore.pdf', 'may-01_singapore.txt', 'may-01_tokyo.jpg', 'may-01_tokyo.txt', 'may-02_cairo.png', 'may-02_cairo.txt', 'may-02_dhaka.jpg', 'may-02_dhaka.png', 'may-02_dhaka.txt', 'may-02_jakarta.jpg', 'may-02_jakarta.txt', 'may-02_melbourne.png', 'may-02_melbourne.txt', 'may-02_osaka.png', 'may-02_osaka.txt', 'may-02_tokyo.jpg', 'may-02_tokyo.txt', 'may-03_jakarta.jpg', 'may-03_jakarta.txt', 'may-03_karachi.jpg', 'may-03_karachi.txt', 'may-03_melbourne.pdf', 'may-03_melbourne.txt', 'may-03_shanghai.pdf', 'may-03_shanghai.txt', 'may-03_tokyo.jpg', 'may-03_tokyo.txt', 'may-04_dhaka.pdf', 'may-04_dhaka.txt', 'may-04_manila.jpg', 'may-04_manila.txt', 'may-04_melbourne.jpg', 'may-04_melbourne.txt', 'may-04_singapore.png', 'may-04_singapore.txt', 'may-05_dhaka.pdf', 'may-05_dhaka.txt', 'may-05_jakarta.jpg', 'may-05_jakarta.txt', 'may-05_karachi.pdf', 'may-05_karachi.txt', 'may-05_manila.jpg', 'may-05_manila.png', 'may-05_manila.txt', 'may-05_melbourne.jpg', 'may-05_melbourne.txt', 'may-05_tokyo.jpg', 'may-05_tokyo.pdf', 'may-05_tokyo.txt', 'may-06_karachi.pdf', 'may-06_karachi.txt', 'may-06_shanghai.jpg', 'may-06_shanghai.txt', 'may-06_singapore.png', 'may-06_singapore.txt', 'may-07_jakarta.jpg', 'may-07_jakarta.txt', 'may-08_jakarta.jpg', 'may-08_jakarta.png', 'may-08_jakarta.txt', 'may-08_melbourne.png', 'may-08_melbourne.txt', 'may-08_singapore.pdf', 'may-08_singapore.txt', 'may-08_tokyo.png', 'may-08_tokyo.txt', 'may-09_manila.png', 'may-09_manila.txt', 'may-09_melbourne.pdf', 'may-09_melbourne.txt', 'may-09_singapore.png', 'may-09_singapore.txt', 'may-10_dhaka.png', 'may-10_dhaka.txt', 'may-10_karachi.pdf', 'may-10_karachi.txt', 'may-10_manila.pdf', 'may-10_manila.txt', 'may-11_dhaka.png', 'may-11_dhaka.txt', 'may-11_manila.png', 'may-11_manila.txt', 'may-11_melbourne.jpg', 'may-11_melbourne.txt', 'may-12_cairo.png', 'may-12_cairo.txt', 'may-12_singapore.png', 'may-12_singapore.txt', 'may-13_jakarta.jpg', 'may-13_jakarta.pdf', 'may-13_jakarta.png', 'may-13_jakarta.txt', 'may-13_melbourne.png', 'may-13_melbourne.txt', 'may-13_singapore.jpg', 'may-13_singapore.txt', 'may-14_dhaka.pdf', 'may-14_dhaka.txt', 'may-14_shanghai.png', 'may-14_shanghai.txt', 'may-15_dhaka.png', 'may-15_dhaka.txt', 'may-15_jakarta.jpg', 'may-15_jakarta.txt', 'may-15_tokyo.pdf', 'may-15_tokyo.txt', 'may-16_jakarta.png', 'may-16_jakarta.txt', 'may-16_melbourne.pdf', 'may-16_melbourne.txt', 'may-16_singapore.pdf', 'may-16_singapore.txt', 'may-16_tokyo.png', 'may-16_tokyo.txt', 'may-17_cairo.png', 'may-17_cairo.txt', 'may-17_dhaka.jpg', 'may-17_dhaka.pdf', 'may-17_dhaka.txt', 'may-17_jakarta.pdf', 'may-17_jakarta.png', 'may-17_jakarta.txt', 'may-17_karachi.pdf', 'may-17_karachi.txt', 'may-17_tokyo.jpg', 'may-17_tokyo.txt', 'may-18_karachi.png', 'may-18_karachi.txt', 'may-18_shanghai.jpg', 'may-18_shanghai.txt', 'may-19_melbourne.png', 'may-19_melbourne.txt', 'may-20_karachi.jpg', 'may-20_karachi.txt', 'may-21_dhaka.jpg', 'may-21_dhaka.txt', 'may-21_melbourne.jpg', 'may-21_melbourne.txt', 'may-22_jakarta.pdf', 'may-22_jakarta.txt', 'may-22_melbourne.jpg', 'may-22_melbourne.txt', 'may-23_karachi.jpg', 'may-23_karachi.png', 'may-23_karachi.txt', 'may-23_melbourne.pdf', 'may-23_melbourne.txt', 'may-23_singapore.png', 'may-23_singapore.txt', 'may-23_tokyo.jpg', 'may-23_tokyo.txt', 'may-24_dhaka.jpg', 'may-24_dhaka.txt', 'may-24_manila.png', 'may-24_manila.txt', 'may-24_melbourne.png', 'may-24_melbourne.txt', 'may-25_cairo.png', 'may-25_cairo.txt', 'may-25_jakarta.pdf', 'may-25_jakarta.txt', 'may-26_dhaka.jpg', 'may-26_dhaka.png', 'may-26_dhaka.txt', 'may-26_karachi.pdf', 'may-26_karachi.txt', 'may-26_manila.pdf', 'may-26_manila.txt', 'may-26_melbourne.jpg', 'may-26_melbourne.txt', 'may-26_shanghai.jpg', 'may-26_shanghai.txt', 'may-27_cairo.pdf', 'may-27_cairo.txt', 'may-27_dhaka.jpg', 'may-27_dhaka.txt', 'may-27_karachi.jpg', 'may-27_karachi.txt', 'may-27_manila.png', 'may-27_manila.txt', 'may-27_melbourne.png', 'may-27_melbourne.txt', 'may-28_dhaka.png', 'may-28_dhaka.txt', 'may-28_jakarta.pdf', 'may-28_jakarta.txt', 'may-28_karachi.jpg', 'may-28_karachi.txt', 'may-28_shanghai.jpg', 'may-28_shanghai.txt', 'may-28_singapore.png', 'may-28_singapore.txt', 'may-28_tokyo.png', 'may-28_tokyo.txt', 'may-29_cairo.pdf', 'may-29_cairo.txt', 'may-29_dhaka.jpg', 'may-29_dhaka.txt', 'may-29_jakarta.png', 'may-29_jakarta.txt', 'may-29_karachi.pdf', 'may-29_karachi.txt', 'may-30_cairo.jpg', 'may-30_cairo.png', 'may-30_cairo.txt', 'may-30_dhaka.png', 'may-30_dhaka.txt', 'may-30_karachi.png', 'may-30_karachi.txt', 'may-30_manila.jpg', 'may-30_manila.txt', 'may-30_melbourne.pdf', 'may-30_melbourne.png', 'may-30_melbourne.txt', 'may-30_singapore.png', 'may-30_singapore.txt', 'may-30_tokyo.pdf', 'may-30_tokyo.txt', 'Melbourne', 'nov-01_dhaka.pdf', 'nov-01_dhaka.txt', 'nov-01_karachi.jpg', 'nov-01_karachi.txt', 'nov-01_shanghai.pdf', 'nov-01_shanghai.txt', 'nov-01_tokyo.pdf', 'nov-01_tokyo.png', 'nov-01_tokyo.txt', 'nov-02_dhaka.jpg', 'nov-02_dhaka.pdf', 'nov-02_dhaka.txt', 'nov-02_manila.png', 'nov-02_manila.txt', 'nov-02_melbourne.pdf', 'nov-02_melbourne.txt', 'nov-02_singapore.jpg', 'nov-02_singapore.txt', 'nov-02_tokyo.pdf', 'nov-02_tokyo.txt', 'nov-03_cairo.png', 'nov-03_cairo.txt', 'nov-03_dhaka.jpg', 'nov-03_dhaka.txt', 'nov-03_melbourne.png', 'nov-03_melbourne.txt', 'nov-03_singapore.jpg', 'nov-03_singapore.txt', 'nov-03_tokyo.pdf', 'nov-03_tokyo.png', 'nov-03_tokyo.txt', 'nov-04_cairo.pdf', 'nov-04_cairo.txt', 'nov-04_dhaka.jpg', 'nov-04_dhaka.txt', 'nov-04_melbourne.png', 'nov-04_melbourne.txt', 'nov-04_osaka.pdf', 'nov-04_osaka.txt', 'nov-04_singapore.jpg', 'nov-04_singapore.txt', 'nov-04_tokyo.pdf', 'nov-04_tokyo.txt', 'nov-05_cairo.jpg', 'nov-05_cairo.png', 'nov-05_cairo.txt', 'nov-05_manila.pdf', 'nov-05_manila.txt', 'nov-05_melbourne.jpg', 'nov-05_melbourne.txt', 'nov-05_tokyo.pdf', 'nov-05_tokyo.txt', 'nov-06_dhaka.jpg', 'nov-06_dhaka.txt', 'nov-07_dhaka.pdf', 'nov-07_dhaka.txt', 'nov-07_singapore.png', 'nov-07_singapore.txt', 'nov-08_dhaka.pdf', 'nov-08_dhaka.txt', 'nov-08_manila.png', 'nov-08_manila.txt', 'nov-08_melbourne.pdf', 'nov-08_melbourne.txt', 'nov-08_singapore.jpg', 'nov-08_singapore.txt', 'nov-08_tokyo.png', 'nov-08_tokyo.txt', 'nov-09_karachi.jpg', 'nov-09_karachi.txt', 'nov-09_manila.pdf', 'nov-09_manila.txt', 'nov-09_tokyo.png', 'nov-09_tokyo.txt', 'nov-10_cairo.pdf', 'nov-10_cairo.txt', 'nov-10_manila.jpg', 'nov-10_manila.txt', 'nov-10_melbourne.jpg', 'nov-10_melbourne.txt', 'nov-11_dhaka.jpg', 'nov-11_dhaka.pdf', 'nov-11_dhaka.txt', 'nov-11_singapore.pdf', 'nov-11_singapore.txt', 'nov-12_shanghai.jpg', 'nov-12_shanghai.txt', 'nov-12_singapore.png', 'nov-12_singapore.txt', 'nov-12_tokyo.pdf', 'nov-12_tokyo.txt', 'nov-13_singapore.pdf', 'nov-13_singapore.txt', 'nov-13_tokyo.pdf', 'nov-13_tokyo.txt', 'nov-14_cairo.pdf', 'nov-14_cairo.txt', 'nov-14_dhaka.jpg', 'nov-14_dhaka.txt', 'nov-14_karachi.pdf', 'nov-14_karachi.txt', 'nov-14_manila.png', 'nov-14_manila.txt', 'nov-15_dhaka.jpg', 'nov-15_dhaka.png', 'nov-15_dhaka.txt', 'nov-15_manila.pdf', 'nov-15_manila.txt', 'nov-15_tokyo.jpg', 'nov-15_tokyo.pdf', 'nov-15_tokyo.txt', 'nov-16_dhaka.pdf', 'nov-16_dhaka.txt', 'nov-16_melbourne.jpg', 'nov-16_melbourne.txt', 'nov-16_osaka.pdf', 'nov-16_osaka.txt', 'nov-16_singapore.jpg', 'nov-16_singapore.txt', 'nov-17_cairo.pdf', 'nov-17_cairo.txt', 'nov-17_manila.pdf', 'nov-17_manila.txt', 'nov-17_melbourne.jpg', 'nov-17_melbourne.pdf', 'nov-17_melbourne.txt', 'nov-17_osaka.pdf', 'nov-17_osaka.png', 'nov-17_osaka.txt', 'nov-17_singapore.jpg', 'nov-17_singapore.txt', 'nov-17_tokyo.png', 'nov-17_tokyo.txt', 'nov-18_dhaka.jpg', 'nov-18_dhaka.pdf', 'nov-18_dhaka.txt', 'nov-18_melbourne.pdf', 'nov-18_melbourne.txt', 'nov-18_tokyo.jpg', 'nov-18_tokyo.txt', 'nov-19_cairo.jpg', 'nov-19_cairo.txt', 'nov-19_jakarta.jpg', 'nov-19_jakarta.txt', 'nov-19_melbourne.jpg', 'nov-19_melbourne.pdf', 'nov-19_melbourne.txt', 'nov-20_dhaka.png', 'nov-20_dhaka.txt', 'nov-20_jakarta.pdf', 'nov-20_jakarta.txt', 'nov-20_manila.jpg', 'nov-20_manila.txt', 'nov-20_melbourne.pdf', 'nov-20_melbourne.txt', 'nov-20_singapore.png', 'nov-20_singapore.txt', 'nov-21_cairo.pdf', 'nov-21_cairo.txt', 'nov-21_manila.jpg', 'nov-21_manila.txt', 'nov-21_melbourne.pdf', 'nov-21_melbourne.txt', 'nov-22_dhaka.jpg', 'nov-22_dhaka.txt', 'nov-22_karachi.jpg', 'nov-22_karachi.txt', 'nov-22_melbourne.png', 'nov-22_melbourne.txt', 'nov-22_tokyo.jpg', 'nov-22_tokyo.txt', 'nov-23_osaka.jpg', 'nov-23_osaka.txt', 'nov-23_tokyo.pdf', 'nov-23_tokyo.txt', 'nov-24_dhaka.png', 'nov-24_dhaka.txt', 'nov-24_melbourne.jpg', 'nov-24_melbourne.txt', 'nov-24_osaka.jpg', 'nov-24_osaka.txt', 'nov-24_singapore.pdf', 'nov-24_singapore.txt', 'nov-24_tokyo.jpg', 'nov-24_tokyo.pdf', 'nov-24_tokyo.txt', 'nov-25_karachi.jpg', 'nov-25_karachi.pdf', 'nov-25_karachi.txt', 'nov-25_melbourne.pdf', 'nov-25_melbourne.txt', 'nov-25_osaka.png', 'nov-25_osaka.txt', 'nov-25_singapore.jpg', 'nov-25_singapore.txt', 'nov-25_tokyo.jpg', 'nov-25_tokyo.txt', 'nov-26_melbourne.png', 'nov-26_melbourne.txt', 'nov-26_singapore.jpg', 'nov-26_singapore.pdf', 'nov-26_singapore.txt', 'nov-27_dhaka.jpg', 'nov-27_dhaka.txt', 'nov-27_melbourne.jpg', 'nov-27_melbourne.txt', 'nov-27_singapore.png', 'nov-27_singapore.txt', 'nov-28_dhaka.jpg', 'nov-28_dhaka.txt', 'nov-28_karachi.jpg', 'nov-28_karachi.pdf', 'nov-28_karachi.txt', 'nov-28_melbourne.pdf', 'nov-28_melbourne.txt', 'nov-28_singapore.png', 'nov-28_singapore.txt', 'nov-28_tokyo.pdf', 'nov-28_tokyo.txt', 'nov-29_cairo.pdf', 'nov-29_cairo.txt', 'nov-29_dhaka.png', 'nov-29_dhaka.txt', 'nov-29_karachi.png', 'nov-29_karachi.txt', 'nov-29_melbourne.jpg', 'nov-29_melbourne.pdf', 'nov-29_melbourne.txt', 'oct-01_dhaka.jpg', 'oct-01_dhaka.txt', 'oct-01_singapore.jpg', 'oct-01_singapore.pdf', 'oct-01_singapore.txt', 'oct-01_tokyo.jpg', 'oct-01_tokyo.txt', 'oct-02_dhaka.pdf', 'oct-02_dhaka.txt', 'oct-02_manila.pdf', 'oct-02_manila.txt', 'oct-02_osaka.png', 'oct-02_osaka.txt', 'oct-02_shanghai.png', 'oct-02_shanghai.txt', 'oct-03_jakarta.pdf', 'oct-03_jakarta.txt', 'oct-03_karachi.png', 'oct-03_karachi.txt', 'oct-03_shanghai.pdf', 'oct-03_shanghai.txt', 'oct-04_dhaka.pdf', 'oct-04_dhaka.png', 'oct-04_dhaka.txt', 'oct-04_jakarta.pdf', 'oct-04_jakarta.txt', 'oct-04_manila.jpg', 'oct-04_manila.pdf', 'oct-04_manila.txt', 'oct-04_shanghai.pdf', 'oct-04_shanghai.png', 'oct-04_shanghai.txt', 'oct-04_singapore.jpg', 'oct-04_singapore.txt', 'oct-05_dhaka.jpg', 'oct-05_dhaka.txt', 'oct-05_jakarta.jpg', 'oct-05_jakarta.txt', 'oct-05_karachi.png', 'oct-05_karachi.txt', 'oct-05_manila.pdf', 'oct-05_manila.txt', 'oct-05_shanghai.png', 'oct-05_shanghai.txt', 'oct-05_singapore.jpg', 'oct-05_singapore.txt', 'oct-05_tokyo.jpg', 'oct-05_tokyo.txt', 'oct-06_jakarta.jpg', 'oct-06_jakarta.txt', 'oct-06_manila.png', 'oct-06_manila.txt', 'oct-06_melbourne.jpg', 'oct-06_melbourne.txt', 'oct-06_singapore.jpg', 'oct-06_singapore.txt', 'oct-06_tokyo.jpg', 'oct-06_tokyo.txt', 'oct-07_dhaka.pdf', 'oct-07_dhaka.txt', 'oct-07_jakarta.png', 'oct-07_jakarta.txt', 'oct-07_shanghai.pdf', 'oct-07_shanghai.txt', 'oct-07_singapore.jpg', 'oct-07_singapore.txt', 'oct-08_jakarta.jpg', 'oct-08_jakarta.pdf', 'oct-08_jakarta.txt', 'oct-08_manila.png', 'oct-08_manila.txt', 'oct-08_shanghai.png', 'oct-08_shanghai.txt', 'oct-08_tokyo.png', 'oct-08_tokyo.txt', 'oct-09_dhaka.pdf', 'oct-09_dhaka.txt', 'oct-09_jakarta.png', 'oct-09_jakarta.txt', 'oct-09_manila.pdf', 'oct-09_manila.txt', 'oct-09_shanghai.png', 'oct-09_shanghai.txt', 'oct-10_dhaka.pdf', 'oct-10_dhaka.png', 'oct-10_dhaka.txt', 'oct-10_jakarta.jpg', 'oct-10_jakarta.pdf', 'oct-10_jakarta.txt', 'oct-10_manila.pdf', 'oct-10_manila.png', 'oct-10_manila.txt', 'oct-10_singapore.jpg', 'oct-10_singapore.pdf', 'oct-10_singapore.png', 'oct-10_singapore.txt', 'oct-11_dhaka.png', 'oct-11_dhaka.txt', 'oct-11_manila.pdf', 'oct-11_manila.png', 'oct-11_manila.txt', 'oct-11_shanghai.jpg', 'oct-11_shanghai.txt', 'oct-11_singapore.png', 'oct-11_singapore.txt', 'oct-12_dhaka.png', 'oct-12_dhaka.txt', 'oct-12_jakarta.jpg', 'oct-12_jakarta.png', 'oct-12_jakarta.txt', 'oct-12_singapore.jpg', 'oct-12_singapore.png', 'oct-12_singapore.txt', 'oct-13_jakarta.jpg', 'oct-13_jakarta.txt', 'oct-13_manila.pdf', 'oct-13_manila.txt', 'oct-13_singapore.png', 'oct-13_singapore.txt', 'oct-13_tokyo.jpg', 'oct-13_tokyo.txt', 'oct-14_dhaka.png', 'oct-14_dhaka.txt', 'oct-14_jakarta.pdf', 'oct-14_jakarta.png', 'oct-14_jakarta.txt', 'oct-14_manila.png', 'oct-14_manila.txt', 'oct-14_shanghai.png', 'oct-14_shanghai.txt', 'oct-14_tokyo.png', 'oct-14_tokyo.txt', 'oct-15_jakarta.jpg', 'oct-15_jakarta.txt', 'oct-15_shanghai.jpg', 'oct-15_shanghai.txt', 'oct-16_jakarta.jpg', 'oct-16_jakarta.pdf', 'oct-16_jakarta.txt', 'oct-16_osaka.pdf', 'oct-16_osaka.txt', 'oct-16_shanghai.pdf', 'oct-16_shanghai.txt', 'oct-16_singapore.pdf', 'oct-16_singapore.txt', 'oct-17_jakarta.png', 'oct-17_jakarta.txt', 'oct-17_tokyo.pdf', 'oct-17_tokyo.txt', 'oct-18_dhaka.jpg', 'oct-18_dhaka.pdf', 'oct-18_dhaka.txt', 'oct-18_shanghai.jpg', 'oct-18_shanghai.txt', 'oct-18_singapore.jpg', 'oct-18_singapore.txt', 'oct-19_karachi.jpg', 'oct-19_karachi.txt', 'oct-19_manila.png', 'oct-19_manila.txt', 'oct-19_melbourne.jpg', 'oct-19_melbourne.txt', 'oct-19_shanghai.pdf', 'oct-19_shanghai.txt', 'oct-19_singapore.png', 'oct-19_singapore.txt', 'oct-19_tokyo.png', 'oct-19_tokyo.txt', 'oct-20_manila.pdf', 'oct-20_manila.txt', 'oct-20_singapore.png', 'oct-20_singapore.txt', 'oct-20_tokyo.pdf', 'oct-20_tokyo.txt', 'oct-21_dhaka.pdf', 'oct-21_dhaka.txt', 'oct-21_manila.jpg', 'oct-21_manila.txt', 'oct-21_shanghai.pdf', 'oct-21_shanghai.txt', 'oct-21_singapore.pdf', 'oct-21_singapore.txt', 'oct-22_shanghai.pdf', 'oct-22_shanghai.txt', 'oct-22_singapore.jpg', 'oct-22_singapore.png', 'oct-22_singapore.txt', 'oct-23_cairo.jpg', 'oct-23_cairo.txt', 'oct-23_jakarta.jpg', 'oct-23_jakarta.txt', 'oct-24_dhaka.png', 'oct-24_dhaka.txt', 'oct-24_jakarta.png', 'oct-24_jakarta.txt', 'oct-24_shanghai.pdf', 'oct-24_shanghai.png', 'oct-24_shanghai.txt', 'oct-24_singapore.jpg', 'oct-24_singapore.pdf', 'oct-24_singapore.txt', 'oct-24_tokyo.jpg', 'oct-24_tokyo.txt', 'oct-25_manila.png', 'oct-25_manila.txt', 'oct-25_tokyo.pdf', 'oct-25_tokyo.txt', 'oct-26_jakarta.png', 'oct-26_jakarta.txt', 'oct-26_shanghai.jpg', 'oct-26_shanghai.pdf', 'oct-26_shanghai.txt', 'oct-26_tokyo.jpg', 'oct-26_tokyo.txt', 'oct-27_dhaka.jpg', 'oct-27_dhaka.txt', 'oct-27_jakarta.jpg', 'oct-27_jakarta.txt', 'oct-27_shanghai.png', 'oct-27_shanghai.txt', 'oct-28_karachi.png', 'oct-28_karachi.txt', 'oct-28_manila.jpg', 'oct-28_manila.txt', 'oct-29_dhaka.pdf', 'oct-29_dhaka.png', 'oct-29_dhaka.txt', 'oct-29_jakarta.jpg', 'oct-29_jakarta.pdf', 'oct-29_jakarta.txt', 'oct-29_singapore.jpg', 'oct-29_singapore.pdf', 'oct-29_singapore.txt', 'oct-30_dhaka.jpg', 'oct-30_dhaka.pdf', 'oct-30_dhaka.txt', 'oct-30_manila.jpg', 'oct-30_manila.png', 'oct-30_manila.txt', 'oct-30_melbourne.jpg', 'oct-30_melbourne.txt', 'Osaka', 'sep-01_manila.png', 'sep-01_manila.txt', 'sep-01_melbourne.jpg', 'sep-01_melbourne.txt', 'sep-01_osaka.pdf', 'sep-01_osaka.txt', 'sep-01_tokyo.png', 'sep-01_tokyo.txt', 'sep-02_cairo.png', 'sep-02_cairo.txt', 'sep-02_melbourne.jpg', 'sep-02_melbourne.txt', 'sep-02_osaka.png', 'sep-02_osaka.txt', 'sep-02_tokyo.png', 'sep-02_tokyo.txt', 'sep-03_jakarta.png', 'sep-03_jakarta.txt', 'sep-03_osaka.pdf', 'sep-03_osaka.txt', 'sep-03_shanghai.png', 'sep-03_shanghai.txt', 'sep-03_singapore.pdf', 'sep-03_singapore.txt', 'sep-04_cairo.pdf', 'sep-04_cairo.txt', 'sep-04_karachi.png', 'sep-04_karachi.txt', 'sep-04_shanghai.jpg', 'sep-04_shanghai.pdf', 'sep-04_shanghai.txt', 'sep-04_tokyo.jpg', 'sep-04_tokyo.txt', 'sep-05_cairo.pdf', 'sep-05_cairo.txt', 'sep-05_jakarta.pdf', 'sep-05_jakarta.txt', 'sep-05_manila.png', 'sep-05_manila.txt', 'sep-05_shanghai.png', 'sep-05_shanghai.txt', 'sep-05_tokyo.png', 'sep-05_tokyo.txt', 'sep-06_karachi.pdf', 'sep-06_karachi.png', 'sep-06_karachi.txt', 'sep-06_melbourne.png', 'sep-06_melbourne.txt', 'sep-06_osaka.pdf', 'sep-06_osaka.txt', 'sep-06_tokyo.pdf', 'sep-06_tokyo.txt', 'sep-07_cairo.jpg', 'sep-07_cairo.txt', 'sep-07_karachi.jpg', 'sep-07_karachi.png', 'sep-07_karachi.txt', 'sep-07_osaka.jpg', 'sep-07_osaka.txt', 'sep-07_shanghai.pdf', 'sep-07_shanghai.txt', 'sep-07_singapore.jpg', 'sep-07_singapore.txt', 'sep-07_tokyo.jpg', 'sep-07_tokyo.png', 'sep-07_tokyo.txt', 'sep-08_cairo.pdf', 'sep-08_cairo.txt', 'sep-08_osaka.pdf', 'sep-08_osaka.txt', 'sep-08_shanghai.pdf', 'sep-08_shanghai.txt', 'sep-09_manila.png', 'sep-09_manila.txt', 'sep-09_melbourne.jpg', 'sep-09_melbourne.txt', 'sep-09_osaka.pdf', 'sep-09_osaka.png', 'sep-09_osaka.txt', 'sep-09_shanghai.png', 'sep-09_shanghai.txt', 'sep-10_karachi.jpg', 'sep-10_karachi.txt', 'sep-10_tokyo.pdf', 'sep-10_tokyo.txt', 'sep-11_cairo.png', 'sep-11_cairo.txt', 'sep-11_jakarta.pdf', 'sep-11_jakarta.txt', 'sep-11_manila.pdf', 'sep-11_manila.txt', 'sep-11_melbourne.png', 'sep-11_melbourne.txt', 'sep-11_osaka.pdf', 'sep-11_osaka.txt', 'sep-11_shanghai.png', 'sep-11_shanghai.txt', 'sep-11_singapore.jpg', 'sep-11_singapore.png', 'sep-11_singapore.txt', 'sep-11_tokyo.jpg', 'sep-11_tokyo.png', 'sep-11_tokyo.txt', 'sep-12_cairo.png', 'sep-12_cairo.txt', 'sep-12_jakarta.pdf', 'sep-12_jakarta.txt', 'sep-12_melbourne.jpg', 'sep-12_melbourne.txt', 'sep-12_singapore.jpg', 'sep-12_singapore.txt', 'sep-13_cairo.jpg', 'sep-13_cairo.png', 'sep-13_cairo.txt', 'sep-13_jakarta.jpg', 'sep-13_jakarta.txt', 'sep-13_melbourne.jpg', 'sep-13_melbourne.txt', 'sep-13_osaka.jpg', 'sep-13_osaka.png', 'sep-13_osaka.txt', 'sep-13_singapore.pdf', 'sep-13_singapore.txt', 'sep-13_tokyo.png', 'sep-13_tokyo.txt', 'sep-14_melbourne.png', 'sep-14_melbourne.txt', 'sep-14_osaka.png', 'sep-14_osaka.txt', 'sep-14_tokyo.jpg', 'sep-14_tokyo.txt', 'sep-15_jakarta.jpg', 'sep-15_jakarta.txt', 'sep-15_melbourne.jpg', 'sep-15_melbourne.pdf', 'sep-15_melbourne.txt', 'sep-15_osaka.pdf', 'sep-15_osaka.txt', 'sep-15_shanghai.png', 'sep-15_shanghai.txt', 'sep-16_cairo.png', 'sep-16_cairo.txt', 'sep-16_jakarta.jpg', 'sep-16_jakarta.pdf', 'sep-16_jakarta.png', 'sep-16_jakarta.txt', 'sep-16_osaka.pdf', 'sep-16_osaka.png', 'sep-16_osaka.txt', 'sep-16_tokyo.jpg', 'sep-16_tokyo.txt', 'sep-17_manila.jpg', 'sep-17_manila.txt', 'sep-17_tokyo.pdf', 'sep-17_tokyo.txt', 'sep-18_cairo.pdf', 'sep-18_cairo.txt', 'sep-18_jakarta.jpg', 'sep-18_jakarta.txt', 'sep-19_dhaka.jpg', 'sep-19_dhaka.txt', 'sep-19_jakarta.pdf', 'sep-19_jakarta.txt', 'sep-19_melbourne.png', 'sep-19_melbourne.txt', 'sep-19_osaka.png', 'sep-19_osaka.txt', 'sep-19_shanghai.jpg', 'sep-19_shanghai.txt', 'sep-19_singapore.png', 'sep-19_singapore.txt', 'sep-19_tokyo.jpg', 'sep-19_tokyo.txt', 'sep-20_cairo.jpg', 'sep-20_cairo.txt', 'sep-20_jakarta.pdf', 'sep-20_jakarta.txt', 'sep-20_karachi.png', 'sep-20_karachi.txt', 'sep-20_osaka.png', 'sep-20_osaka.txt', 'sep-20_shanghai.pdf', 'sep-20_shanghai.txt', 'sep-20_singapore.png', 'sep-20_singapore.txt', 'sep-20_tokyo.png', 'sep-20_tokyo.txt', 'sep-21_jakarta.jpg', 'sep-21_jakarta.txt', 'sep-21_karachi.pdf', 'sep-21_karachi.txt', 'sep-21_melbourne.jpg', 'sep-21_melbourne.txt', 'sep-21_osaka.jpg', 'sep-21_osaka.png', 'sep-21_osaka.txt', 'sep-21_shanghai.pdf', 'sep-21_shanghai.txt', 'sep-21_singapore.pdf', 'sep-21_singapore.txt', 'sep-21_tokyo.jpg', 'sep-21_tokyo.pdf', 'sep-21_tokyo.txt', 'sep-22_cairo.pdf', 'sep-22_cairo.txt', 'sep-22_karachi.jpg', 'sep-22_karachi.png', 'sep-22_karachi.txt', 'sep-22_osaka.pdf', 'sep-22_osaka.txt', 'sep-22_tokyo.jpg', 'sep-22_tokyo.pdf', 'sep-22_tokyo.png', 'sep-22_tokyo.txt', 'sep-23_cairo.pdf', 'sep-23_cairo.txt', 'sep-23_osaka.png', 'sep-23_osaka.txt', 'sep-23_shanghai.png', 'sep-23_shanghai.txt', 'sep-23_singapore.jpg', 'sep-23_singapore.txt', 'sep-24_cairo.pdf', 'sep-24_cairo.txt', 'sep-24_jakarta.jpg', 'sep-24_jakarta.txt', 'sep-24_melbourne.jpg', 'sep-24_melbourne.txt', 'sep-24_osaka.jpg', 'sep-24_osaka.png', 'sep-24_osaka.txt', 'sep-24_singapore.jpg', 'sep-24_singapore.pdf', 'sep-24_singapore.txt', 'sep-25_cairo.jpg', 'sep-25_cairo.pdf', 'sep-25_cairo.txt', 'sep-25_dhaka.png', 'sep-25_dhaka.txt', 'sep-25_jakarta.pdf', 'sep-25_jakarta.txt', 'sep-25_karachi.jpg', 'sep-25_karachi.txt', 'sep-25_osaka.png', 'sep-25_osaka.txt', 'sep-25_shanghai.jpg', 'sep-25_shanghai.png', 'sep-25_shanghai.txt', 'sep-25_singapore.jpg', 'sep-25_singapore.pdf', 'sep-25_singapore.txt', 'sep-26_cairo.pdf', 'sep-26_cairo.txt', 'sep-26_karachi.pdf', 'sep-26_karachi.png', 'sep-26_karachi.txt', 'sep-26_melbourne.png', 'sep-26_melbourne.txt', 'sep-26_osaka.jpg', 'sep-26_osaka.txt', 'sep-26_shanghai.png', 'sep-26_shanghai.txt', 'sep-26_tokyo.jpg', 'sep-26_tokyo.txt', 'sep-27_jakarta.png', 'sep-27_jakarta.txt', 'sep-27_shanghai.png', 'sep-27_shanghai.txt', 'sep-28_cairo.jpg', 'sep-28_cairo.pdf', 'sep-28_cairo.png', 'sep-28_cairo.txt', 'sep-28_karachi.png', 'sep-28_karachi.txt', 'sep-28_melbourne.png', 'sep-28_melbourne.txt', 'sep-29_dhaka.jpg', 'sep-29_dhaka.txt', 'sep-29_jakarta.png', 'sep-29_jakarta.txt', 'sep-29_karachi.jpg', 'sep-29_karachi.txt', 'sep-29_osaka.png', 'sep-29_osaka.txt', 'sep-29_singapore.jpg', 'sep-29_singapore.txt', 'Shanghai', 'Singapore', 'Tokyo']\n"
     ]
    }
   ],
   "source": [
    "print(os.listdir())"
   ]
  },
  {
   "cell_type": "markdown",
   "id": "6f4b9aed-e261-4de4-a603-d4f39419f97b",
   "metadata": {},
   "source": [
    "## this is my real answer"
   ]
  },
  {
   "cell_type": "code",
   "execution_count": 76,
   "id": "c7cc5fe5-9ee7-43f4-859b-2e92f2e0bd18",
   "metadata": {},
   "outputs": [],
   "source": [
    "for filenames in glob.glob(f'os-collaboration-exercise-data\\\\os-collaboration-exercise-data\\\\*'):\n",
    "    funnyname,extension=filenames.split('.')\n",
    "    realnames=funnyname.split('\\\\')[-1]\n",
    "    if extension==\"txt\":\n",
    "        try:\n",
    "            new=rename_my_file(realnames)\n",
    "            path3=os.path.join('os-collaboration-exercise-data','os-collaboration-exercise-data',new+'.txt')\n",
    "            shutil.move(filenames,path3)\n",
    "        except ValueError:\n",
    "            continue"
   ]
  },
  {
   "cell_type": "markdown",
   "id": "1c1b366d-0c78-4a0e-ad5c-e294f4499961",
   "metadata": {},
   "source": [
    "# Task 5"
   ]
  },
  {
   "cell_type": "code",
   "execution_count": 79,
   "id": "1876136f-c07b-43f8-8ed4-04a4007cfdc2",
   "metadata": {},
   "outputs": [],
   "source": [
    "city_list=['Cairo', 'Dhaka', 'Jakarta', 'Karachi', 'Manila',\n",
    " 'Melbourne', 'Osaka', 'Shanghai', 'Singapore', 'Tokyo']\n",
    "\n",
    "for cities in city_list:\n",
    "    path=os.path.join('os-collaboration-exercise-data','os-collaboration-exercise-data',cities)\n",
    "    os.mkdir(path)\n",
    "\n",
    "#OMG IT WORKED "
   ]
  },
  {
   "cell_type": "markdown",
   "id": "9ade2d58-7abb-40f0-8471-2b286a8c4e94",
   "metadata": {},
   "source": [
    "# Task 6"
   ]
  },
  {
   "cell_type": "code",
   "execution_count": 17,
   "id": "03a8f8d8-f26a-4999-92b1-111014fc65ee",
   "metadata": {},
   "outputs": [
    {
     "data": {
      "text/plain": [
       "['apr-02_cairo.jpg',\n",
       " 'apr-02_cairo.txt',\n",
       " 'apr-06_cairo.png',\n",
       " 'apr-06_cairo.txt',\n",
       " 'apr-07_cairo.png',\n",
       " 'apr-07_cairo.txt',\n",
       " 'apr-10_cairo.png',\n",
       " 'apr-10_cairo.txt',\n",
       " 'apr-12_cairo.pdf',\n",
       " 'apr-12_cairo.png',\n",
       " 'apr-12_cairo.txt',\n",
       " 'apr-13_cairo.png',\n",
       " 'apr-13_cairo.txt',\n",
       " 'apr-14_cairo.jpg',\n",
       " 'apr-14_cairo.png',\n",
       " 'apr-14_cairo.txt',\n",
       " 'apr-15_cairo.jpg',\n",
       " 'apr-15_cairo.txt',\n",
       " 'apr-17_cairo.jpg',\n",
       " 'apr-17_cairo.pdf',\n",
       " 'apr-17_cairo.png',\n",
       " 'apr-17_cairo.txt',\n",
       " 'apr-20_cairo.jpg',\n",
       " 'apr-20_cairo.txt',\n",
       " 'apr-21_cairo.pdf',\n",
       " 'apr-21_cairo.txt',\n",
       " 'apr-22_cairo.pdf',\n",
       " 'apr-22_cairo.txt',\n",
       " 'apr-23_cairo.jpg',\n",
       " 'apr-23_cairo.txt',\n",
       " 'apr-24_cairo.jpg',\n",
       " 'apr-24_cairo.txt',\n",
       " 'aug-01_cairo.jpg',\n",
       " 'aug-01_cairo.png',\n",
       " 'aug-01_cairo.txt',\n",
       " 'aug-03_cairo.png',\n",
       " 'aug-03_cairo.txt',\n",
       " 'aug-04_cairo.jpg',\n",
       " 'aug-04_cairo.pdf',\n",
       " 'aug-04_cairo.txt',\n",
       " 'aug-05_cairo.pdf',\n",
       " 'aug-05_cairo.txt',\n",
       " 'aug-07_cairo.png',\n",
       " 'aug-07_cairo.txt',\n",
       " 'aug-08_cairo.jpg',\n",
       " 'aug-08_cairo.txt',\n",
       " 'aug-10_cairo.png',\n",
       " 'aug-10_cairo.txt',\n",
       " 'aug-12_cairo.jpg',\n",
       " 'aug-12_cairo.txt',\n",
       " 'aug-14_cairo.jpg',\n",
       " 'aug-14_cairo.png',\n",
       " 'aug-14_cairo.txt',\n",
       " 'aug-18_cairo.jpg',\n",
       " 'aug-18_cairo.txt',\n",
       " 'aug-19_cairo.jpg',\n",
       " 'aug-19_cairo.txt',\n",
       " 'aug-20_cairo.png',\n",
       " 'aug-20_cairo.txt',\n",
       " 'aug-24_cairo.pdf',\n",
       " 'aug-24_cairo.txt',\n",
       " 'aug-25_cairo.png',\n",
       " 'aug-25_cairo.txt',\n",
       " 'aug-26_cairo.png',\n",
       " 'aug-26_cairo.txt',\n",
       " 'Cairo',\n",
       " 'dec-01_cairo.jpg',\n",
       " 'dec-01_cairo.txt',\n",
       " 'dec-03_cairo.jpg',\n",
       " 'dec-03_cairo.png',\n",
       " 'dec-03_cairo.txt',\n",
       " 'dec-04_cairo.jpg',\n",
       " 'dec-04_cairo.pdf',\n",
       " 'dec-04_cairo.png',\n",
       " 'dec-04_cairo.txt',\n",
       " 'dec-05_cairo.png',\n",
       " 'dec-05_cairo.txt',\n",
       " 'dec-07_cairo.jpg',\n",
       " 'dec-07_cairo.txt',\n",
       " 'dec-09_cairo.png',\n",
       " 'dec-09_cairo.txt',\n",
       " 'dec-10_cairo.jpg',\n",
       " 'dec-10_cairo.pdf',\n",
       " 'dec-10_cairo.txt',\n",
       " 'dec-13_cairo.pdf',\n",
       " 'dec-13_cairo.txt',\n",
       " 'dec-17_cairo.png',\n",
       " 'dec-17_cairo.txt',\n",
       " 'dec-18_cairo.jpg',\n",
       " 'dec-18_cairo.txt',\n",
       " 'dec-19_cairo.pdf',\n",
       " 'dec-19_cairo.txt',\n",
       " 'dec-21_cairo.png',\n",
       " 'dec-21_cairo.txt',\n",
       " 'dec-22_cairo.jpg',\n",
       " 'dec-22_cairo.txt',\n",
       " 'dec-23_cairo.pdf',\n",
       " 'dec-23_cairo.txt',\n",
       " 'dec-26_cairo.pdf',\n",
       " 'dec-26_cairo.txt',\n",
       " 'dec-27_cairo.png',\n",
       " 'dec-27_cairo.txt',\n",
       " 'dec-29_cairo.jpg',\n",
       " 'dec-29_cairo.png',\n",
       " 'dec-29_cairo.txt',\n",
       " 'feb-10_cairo.jpg',\n",
       " 'feb-10_cairo.pdf',\n",
       " 'feb-10_cairo.txt',\n",
       " 'feb-17_cairo.jpg',\n",
       " 'feb-17_cairo.txt',\n",
       " 'feb-20_cairo.png',\n",
       " 'feb-20_cairo.txt',\n",
       " 'feb-22_cairo.pdf',\n",
       " 'feb-22_cairo.png',\n",
       " 'feb-22_cairo.txt',\n",
       " 'feb-25_cairo.jpg',\n",
       " 'feb-25_cairo.pdf',\n",
       " 'feb-25_cairo.txt',\n",
       " 'feb-26_cairo.png',\n",
       " 'feb-26_cairo.txt',\n",
       " 'jan-02_cairo.pdf',\n",
       " 'jan-02_cairo.txt',\n",
       " 'jan-03_cairo.pdf',\n",
       " 'jan-03_cairo.txt',\n",
       " 'jan-04_cairo.jpg',\n",
       " 'jan-04_cairo.txt',\n",
       " 'jan-05_cairo.jpg',\n",
       " 'jan-05_cairo.txt',\n",
       " 'jan-07_cairo.jpg',\n",
       " 'jan-07_cairo.txt',\n",
       " 'jan-08_cairo.png',\n",
       " 'jan-08_cairo.txt',\n",
       " 'jan-09_cairo.jpg',\n",
       " 'jan-09_cairo.txt',\n",
       " 'jan-11_cairo.png',\n",
       " 'jan-11_cairo.txt',\n",
       " 'jan-12_cairo.pdf',\n",
       " 'jan-12_cairo.txt',\n",
       " 'jan-13_cairo.png',\n",
       " 'jan-13_cairo.txt',\n",
       " 'jan-15_cairo.jpg',\n",
       " 'jan-15_cairo.png',\n",
       " 'jan-15_cairo.txt',\n",
       " 'jan-16_cairo.png',\n",
       " 'jan-16_cairo.txt',\n",
       " 'jan-19_cairo.pdf',\n",
       " 'jan-19_cairo.txt',\n",
       " 'jan-20_cairo.pdf',\n",
       " 'jan-20_cairo.txt',\n",
       " 'jan-21_cairo.jpg',\n",
       " 'jan-21_cairo.txt',\n",
       " 'jan-23_cairo.png',\n",
       " 'jan-23_cairo.txt',\n",
       " 'jan-27_cairo.jpg',\n",
       " 'jan-27_cairo.txt',\n",
       " 'jan-30_cairo.pdf',\n",
       " 'jan-30_cairo.txt',\n",
       " 'jul-04_cairo.jpg',\n",
       " 'jul-04_cairo.txt',\n",
       " 'jul-08_cairo.png',\n",
       " 'jul-08_cairo.txt',\n",
       " 'jul-10_cairo.png',\n",
       " 'jul-10_cairo.txt',\n",
       " 'jul-13_cairo.png',\n",
       " 'jul-13_cairo.txt',\n",
       " 'jul-14_cairo.jpg',\n",
       " 'jul-14_cairo.txt',\n",
       " 'jul-15_cairo.pdf',\n",
       " 'jul-15_cairo.txt',\n",
       " 'jul-16_cairo.png',\n",
       " 'jul-16_cairo.txt',\n",
       " 'jul-17_cairo.pdf',\n",
       " 'jul-17_cairo.txt',\n",
       " 'jul-19_cairo.jpg',\n",
       " 'jul-19_cairo.txt',\n",
       " 'jul-24_cairo.pdf',\n",
       " 'jul-24_cairo.txt',\n",
       " 'jul-26_cairo.png',\n",
       " 'jul-26_cairo.txt',\n",
       " 'jul-27_cairo.png',\n",
       " 'jul-27_cairo.txt',\n",
       " 'jul-29_cairo.jpg',\n",
       " 'jul-29_cairo.txt',\n",
       " 'jul-30_cairo.png',\n",
       " 'jul-30_cairo.txt',\n",
       " 'jun-28_cairo.pdf',\n",
       " 'jun-28_cairo.txt',\n",
       " 'mar-05_cairo.pdf',\n",
       " 'mar-05_cairo.png',\n",
       " 'mar-05_cairo.txt',\n",
       " 'mar-06_cairo.pdf',\n",
       " 'mar-06_cairo.txt',\n",
       " 'mar-12_cairo.jpg',\n",
       " 'mar-12_cairo.txt',\n",
       " 'mar-14_cairo.pdf',\n",
       " 'mar-14_cairo.txt',\n",
       " 'mar-19_cairo.jpg',\n",
       " 'mar-19_cairo.txt',\n",
       " 'mar-24_cairo.pdf',\n",
       " 'mar-24_cairo.txt',\n",
       " 'may-01_cairo.png',\n",
       " 'may-01_cairo.txt',\n",
       " 'may-02_cairo.png',\n",
       " 'may-02_cairo.txt',\n",
       " 'may-12_cairo.png',\n",
       " 'may-12_cairo.txt',\n",
       " 'may-17_cairo.png',\n",
       " 'may-17_cairo.txt',\n",
       " 'may-25_cairo.png',\n",
       " 'may-25_cairo.txt',\n",
       " 'may-27_cairo.pdf',\n",
       " 'may-27_cairo.txt',\n",
       " 'may-29_cairo.pdf',\n",
       " 'may-29_cairo.txt',\n",
       " 'may-30_cairo.jpg',\n",
       " 'may-30_cairo.png',\n",
       " 'may-30_cairo.txt',\n",
       " 'nov-03_cairo.png',\n",
       " 'nov-03_cairo.txt',\n",
       " 'nov-04_cairo.pdf',\n",
       " 'nov-04_cairo.txt',\n",
       " 'nov-05_cairo.jpg',\n",
       " 'nov-05_cairo.png',\n",
       " 'nov-05_cairo.txt',\n",
       " 'nov-10_cairo.pdf',\n",
       " 'nov-10_cairo.txt',\n",
       " 'nov-14_cairo.pdf',\n",
       " 'nov-14_cairo.txt',\n",
       " 'nov-17_cairo.pdf',\n",
       " 'nov-17_cairo.txt',\n",
       " 'nov-19_cairo.jpg',\n",
       " 'nov-19_cairo.txt',\n",
       " 'nov-21_cairo.pdf',\n",
       " 'nov-21_cairo.txt',\n",
       " 'nov-29_cairo.pdf',\n",
       " 'nov-29_cairo.txt',\n",
       " 'oct-23_cairo.jpg',\n",
       " 'oct-23_cairo.txt',\n",
       " 'sep-02_cairo.png',\n",
       " 'sep-02_cairo.txt',\n",
       " 'sep-04_cairo.pdf',\n",
       " 'sep-04_cairo.txt',\n",
       " 'sep-05_cairo.pdf',\n",
       " 'sep-05_cairo.txt',\n",
       " 'sep-07_cairo.jpg',\n",
       " 'sep-07_cairo.txt',\n",
       " 'sep-08_cairo.pdf',\n",
       " 'sep-08_cairo.txt',\n",
       " 'sep-11_cairo.png',\n",
       " 'sep-11_cairo.txt',\n",
       " 'sep-12_cairo.png',\n",
       " 'sep-12_cairo.txt',\n",
       " 'sep-13_cairo.jpg',\n",
       " 'sep-13_cairo.png',\n",
       " 'sep-13_cairo.txt',\n",
       " 'sep-16_cairo.png',\n",
       " 'sep-16_cairo.txt',\n",
       " 'sep-18_cairo.pdf',\n",
       " 'sep-18_cairo.txt',\n",
       " 'sep-20_cairo.jpg',\n",
       " 'sep-20_cairo.txt',\n",
       " 'sep-22_cairo.pdf',\n",
       " 'sep-22_cairo.txt',\n",
       " 'sep-23_cairo.pdf',\n",
       " 'sep-23_cairo.txt',\n",
       " 'sep-24_cairo.pdf',\n",
       " 'sep-24_cairo.txt',\n",
       " 'sep-25_cairo.jpg',\n",
       " 'sep-25_cairo.pdf',\n",
       " 'sep-25_cairo.txt',\n",
       " 'sep-26_cairo.pdf',\n",
       " 'sep-26_cairo.txt',\n",
       " 'sep-28_cairo.jpg',\n",
       " 'sep-28_cairo.pdf',\n",
       " 'sep-28_cairo.png',\n",
       " 'sep-28_cairo.txt']"
      ]
     },
     "execution_count": 17,
     "metadata": {},
     "output_type": "execute_result"
    }
   ],
   "source": [
    "glob.glob('*cairo*')"
   ]
  },
  {
   "cell_type": "markdown",
   "id": "85a54573-40f0-4ebe-bbf7-4e2c66d4c409",
   "metadata": {},
   "source": [
    "## this is my real answer"
   ]
  },
  {
   "cell_type": "code",
   "execution_count": 80,
   "id": "6daf9b32-85b7-4592-89ec-d382e456d331",
   "metadata": {},
   "outputs": [],
   "source": [
    "import shutil\n",
    "\n",
    "for cairofiles in glob.glob(f'os-collaboration-exercise-data\\\\os-collaboration-exercise-data\\\\*cairo.*'):\n",
    "    filename=cairofiles.split('\\\\')[-1]\n",
    "    path2=os.path.join('os-collaboration-exercise-data','os-collaboration-exercise-data','Cairo', filename)\n",
    "    shutil.copy(cairofiles,path2)"
   ]
  },
  {
   "cell_type": "markdown",
   "id": "43404086-3ee0-4760-869c-9c673e4da2af",
   "metadata": {},
   "source": [
    "# Task 7"
   ]
  },
  {
   "cell_type": "markdown",
   "id": "60840503-51b9-4c0b-90e4-d878df0ba906",
   "metadata": {},
   "source": [
    "### all this all not working"
   ]
  },
  {
   "cell_type": "markdown",
   "id": "19825bb9-68d4-45bf-958d-28755ae55235",
   "metadata": {},
   "source": [
    "### (THIS DID NOT WORK, IGNORE) "
   ]
  },
  {
   "cell_type": "markdown",
   "id": "c2e8933b-eb68-41ee-8203-f9104a221278",
   "metadata": {},
   "source": [
    "## THIS IS MY REAL ANSWER"
   ]
  },
  {
   "cell_type": "code",
   "execution_count": 81,
   "id": "278c9f03-7a0e-4655-95b3-3293758a5e65",
   "metadata": {},
   "outputs": [],
   "source": [
    "city_list2=['Cairo', 'Dhaka', 'Jakarta', 'Karachi', 'Manila',\n",
    " 'Melbourne', 'Osaka', 'Shanghai', 'Singapore', 'Tokyo']\n",
    "\n",
    "for city in city_list2:\n",
    "    for cityfiles in glob.glob(f'os-collaboration-exercise-data\\\\os-collaboration-exercise-data\\\\*{city}.txt'):\n",
    "        path1=os.path.join('os-collaboration-exercise-data','os-collaboration-exercise-data',city)\n",
    "        try:\n",
    "            shutil.move(cityfiles, path1)\n",
    "        except:\n",
    "            continue"
   ]
  },
  {
   "cell_type": "markdown",
   "id": "5634edf7-7fc3-452b-a4e1-e190223c869c",
   "metadata": {},
   "source": [
    "## ALL THIS ARE not real answers"
   ]
  },
  {
   "cell_type": "code",
   "execution_count": 32,
   "id": "92fd0d89-9248-46dd-a8cd-f11f1601f579",
   "metadata": {},
   "outputs": [
    {
     "data": {
      "text/plain": [
       "[]"
      ]
     },
     "execution_count": 32,
     "metadata": {},
     "output_type": "execute_result"
    }
   ],
   "source": [
    "glob.glob('*singapore*')"
   ]
  },
  {
   "cell_type": "code",
   "execution_count": 4,
   "id": "e25694d7-042b-4db9-b62f-c329f92876cb",
   "metadata": {},
   "outputs": [
    {
     "data": {
      "text/plain": [
       "'C:\\\\Users\\\\lmr20\\\\OneDrive\\\\Desktop\\\\learning-portfolio-2025-january-lmr73\\\\6.2_files,_folders_&_os__exercises'"
      ]
     },
     "execution_count": 4,
     "metadata": {},
     "output_type": "execute_result"
    }
   ],
   "source": [
    "import os, glob, shutil\n",
    "\n",
    "os.getcwd()"
   ]
  },
  {
   "cell_type": "code",
   "execution_count": 13,
   "id": "072b5800-00be-4943-ab43-3a7611167df7",
   "metadata": {},
   "outputs": [
    {
     "data": {
      "text/plain": [
       "['os-collaboration-exercise-data\\\\os-collaboration-exercise-data\\\\apr-01_singapore.txt',\n",
       " 'os-collaboration-exercise-data\\\\os-collaboration-exercise-data\\\\apr-03_singapore.txt',\n",
       " 'os-collaboration-exercise-data\\\\os-collaboration-exercise-data\\\\apr-04_singapore.txt',\n",
       " 'os-collaboration-exercise-data\\\\os-collaboration-exercise-data\\\\apr-05_singapore.txt',\n",
       " 'os-collaboration-exercise-data\\\\os-collaboration-exercise-data\\\\apr-07_singapore.txt',\n",
       " 'os-collaboration-exercise-data\\\\os-collaboration-exercise-data\\\\apr-10_singapore.txt',\n",
       " 'os-collaboration-exercise-data\\\\os-collaboration-exercise-data\\\\apr-12_singapore.txt',\n",
       " 'os-collaboration-exercise-data\\\\os-collaboration-exercise-data\\\\apr-13_singapore.txt',\n",
       " 'os-collaboration-exercise-data\\\\os-collaboration-exercise-data\\\\apr-14_singapore.txt',\n",
       " 'os-collaboration-exercise-data\\\\os-collaboration-exercise-data\\\\apr-15_singapore.txt',\n",
       " 'os-collaboration-exercise-data\\\\os-collaboration-exercise-data\\\\apr-19_singapore.txt',\n",
       " 'os-collaboration-exercise-data\\\\os-collaboration-exercise-data\\\\apr-21_singapore.txt',\n",
       " 'os-collaboration-exercise-data\\\\os-collaboration-exercise-data\\\\apr-22_singapore.txt',\n",
       " 'os-collaboration-exercise-data\\\\os-collaboration-exercise-data\\\\apr-23_singapore.txt',\n",
       " 'os-collaboration-exercise-data\\\\os-collaboration-exercise-data\\\\apr-25_singapore.txt',\n",
       " 'os-collaboration-exercise-data\\\\os-collaboration-exercise-data\\\\apr-26_singapore.txt',\n",
       " 'os-collaboration-exercise-data\\\\os-collaboration-exercise-data\\\\aug-06_singapore.txt',\n",
       " 'os-collaboration-exercise-data\\\\os-collaboration-exercise-data\\\\aug-08_singapore.txt',\n",
       " 'os-collaboration-exercise-data\\\\os-collaboration-exercise-data\\\\aug-09_singapore.txt',\n",
       " 'os-collaboration-exercise-data\\\\os-collaboration-exercise-data\\\\aug-24_singapore.txt',\n",
       " 'os-collaboration-exercise-data\\\\os-collaboration-exercise-data\\\\dec-02_singapore.txt',\n",
       " 'os-collaboration-exercise-data\\\\os-collaboration-exercise-data\\\\dec-05_singapore.txt',\n",
       " 'os-collaboration-exercise-data\\\\os-collaboration-exercise-data\\\\dec-06_singapore.txt',\n",
       " 'os-collaboration-exercise-data\\\\os-collaboration-exercise-data\\\\dec-07_singapore.txt',\n",
       " 'os-collaboration-exercise-data\\\\os-collaboration-exercise-data\\\\dec-17_singapore.txt',\n",
       " 'os-collaboration-exercise-data\\\\os-collaboration-exercise-data\\\\dec-22_singapore.txt',\n",
       " 'os-collaboration-exercise-data\\\\os-collaboration-exercise-data\\\\dec-23_singapore.txt',\n",
       " 'os-collaboration-exercise-data\\\\os-collaboration-exercise-data\\\\dec-25_singapore.txt',\n",
       " 'os-collaboration-exercise-data\\\\os-collaboration-exercise-data\\\\dec-28_singapore.txt',\n",
       " 'os-collaboration-exercise-data\\\\os-collaboration-exercise-data\\\\dec-29_singapore.txt',\n",
       " 'os-collaboration-exercise-data\\\\os-collaboration-exercise-data\\\\feb-01_singapore.txt',\n",
       " 'os-collaboration-exercise-data\\\\os-collaboration-exercise-data\\\\feb-02_singapore.txt',\n",
       " 'os-collaboration-exercise-data\\\\os-collaboration-exercise-data\\\\feb-03_singapore.txt',\n",
       " 'os-collaboration-exercise-data\\\\os-collaboration-exercise-data\\\\feb-04_singapore.txt',\n",
       " 'os-collaboration-exercise-data\\\\os-collaboration-exercise-data\\\\feb-05_singapore.txt',\n",
       " 'os-collaboration-exercise-data\\\\os-collaboration-exercise-data\\\\feb-08_singapore.txt',\n",
       " 'os-collaboration-exercise-data\\\\os-collaboration-exercise-data\\\\feb-12_singapore.txt',\n",
       " 'os-collaboration-exercise-data\\\\os-collaboration-exercise-data\\\\feb-13_singapore.txt',\n",
       " 'os-collaboration-exercise-data\\\\os-collaboration-exercise-data\\\\feb-14_singapore.txt',\n",
       " 'os-collaboration-exercise-data\\\\os-collaboration-exercise-data\\\\feb-15_singapore.txt',\n",
       " 'os-collaboration-exercise-data\\\\os-collaboration-exercise-data\\\\feb-17_singapore.txt',\n",
       " 'os-collaboration-exercise-data\\\\os-collaboration-exercise-data\\\\feb-19_singapore.txt',\n",
       " 'os-collaboration-exercise-data\\\\os-collaboration-exercise-data\\\\feb-20_singapore.txt',\n",
       " 'os-collaboration-exercise-data\\\\os-collaboration-exercise-data\\\\feb-23_singapore.txt',\n",
       " 'os-collaboration-exercise-data\\\\os-collaboration-exercise-data\\\\feb-24_singapore.txt',\n",
       " 'os-collaboration-exercise-data\\\\os-collaboration-exercise-data\\\\feb-27_singapore.txt',\n",
       " 'os-collaboration-exercise-data\\\\os-collaboration-exercise-data\\\\jan-15_singapore.txt',\n",
       " 'os-collaboration-exercise-data\\\\os-collaboration-exercise-data\\\\jul-02_singapore.txt',\n",
       " 'os-collaboration-exercise-data\\\\os-collaboration-exercise-data\\\\jul-03_singapore.txt',\n",
       " 'os-collaboration-exercise-data\\\\os-collaboration-exercise-data\\\\jul-04_singapore.txt',\n",
       " 'os-collaboration-exercise-data\\\\os-collaboration-exercise-data\\\\jul-05_singapore.txt',\n",
       " 'os-collaboration-exercise-data\\\\os-collaboration-exercise-data\\\\jul-06_singapore.txt',\n",
       " 'os-collaboration-exercise-data\\\\os-collaboration-exercise-data\\\\jul-07_singapore.txt',\n",
       " 'os-collaboration-exercise-data\\\\os-collaboration-exercise-data\\\\jul-08_singapore.txt',\n",
       " 'os-collaboration-exercise-data\\\\os-collaboration-exercise-data\\\\jul-09_singapore.txt',\n",
       " 'os-collaboration-exercise-data\\\\os-collaboration-exercise-data\\\\jul-14_singapore.txt',\n",
       " 'os-collaboration-exercise-data\\\\os-collaboration-exercise-data\\\\jul-16_singapore.txt',\n",
       " 'os-collaboration-exercise-data\\\\os-collaboration-exercise-data\\\\jul-17_singapore.txt',\n",
       " 'os-collaboration-exercise-data\\\\os-collaboration-exercise-data\\\\jul-18_singapore.txt',\n",
       " 'os-collaboration-exercise-data\\\\os-collaboration-exercise-data\\\\jul-22_singapore.txt',\n",
       " 'os-collaboration-exercise-data\\\\os-collaboration-exercise-data\\\\jul-23_singapore.txt',\n",
       " 'os-collaboration-exercise-data\\\\os-collaboration-exercise-data\\\\jul-25_singapore.txt',\n",
       " 'os-collaboration-exercise-data\\\\os-collaboration-exercise-data\\\\jul-26_singapore.txt',\n",
       " 'os-collaboration-exercise-data\\\\os-collaboration-exercise-data\\\\jul-27_singapore.txt',\n",
       " 'os-collaboration-exercise-data\\\\os-collaboration-exercise-data\\\\jul-28_singapore.txt',\n",
       " 'os-collaboration-exercise-data\\\\os-collaboration-exercise-data\\\\jul-29_singapore.txt',\n",
       " 'os-collaboration-exercise-data\\\\os-collaboration-exercise-data\\\\jun-01_singapore.txt',\n",
       " 'os-collaboration-exercise-data\\\\os-collaboration-exercise-data\\\\jun-02_singapore.txt',\n",
       " 'os-collaboration-exercise-data\\\\os-collaboration-exercise-data\\\\jun-05_singapore.txt',\n",
       " 'os-collaboration-exercise-data\\\\os-collaboration-exercise-data\\\\jun-06_singapore.txt',\n",
       " 'os-collaboration-exercise-data\\\\os-collaboration-exercise-data\\\\jun-07_singapore.txt',\n",
       " 'os-collaboration-exercise-data\\\\os-collaboration-exercise-data\\\\jun-08_singapore.txt',\n",
       " 'os-collaboration-exercise-data\\\\os-collaboration-exercise-data\\\\jun-09_singapore.txt',\n",
       " 'os-collaboration-exercise-data\\\\os-collaboration-exercise-data\\\\jun-11_singapore.txt',\n",
       " 'os-collaboration-exercise-data\\\\os-collaboration-exercise-data\\\\jun-15_singapore.txt',\n",
       " 'os-collaboration-exercise-data\\\\os-collaboration-exercise-data\\\\jun-16_singapore.txt',\n",
       " 'os-collaboration-exercise-data\\\\os-collaboration-exercise-data\\\\jun-23_singapore.txt',\n",
       " 'os-collaboration-exercise-data\\\\os-collaboration-exercise-data\\\\mar-05_singapore.txt',\n",
       " 'os-collaboration-exercise-data\\\\os-collaboration-exercise-data\\\\may-01_singapore.txt',\n",
       " 'os-collaboration-exercise-data\\\\os-collaboration-exercise-data\\\\may-04_singapore.txt',\n",
       " 'os-collaboration-exercise-data\\\\os-collaboration-exercise-data\\\\may-06_singapore.txt',\n",
       " 'os-collaboration-exercise-data\\\\os-collaboration-exercise-data\\\\may-08_singapore.txt',\n",
       " 'os-collaboration-exercise-data\\\\os-collaboration-exercise-data\\\\may-09_singapore.txt',\n",
       " 'os-collaboration-exercise-data\\\\os-collaboration-exercise-data\\\\may-12_singapore.txt',\n",
       " 'os-collaboration-exercise-data\\\\os-collaboration-exercise-data\\\\may-13_singapore.txt',\n",
       " 'os-collaboration-exercise-data\\\\os-collaboration-exercise-data\\\\may-16_singapore.txt',\n",
       " 'os-collaboration-exercise-data\\\\os-collaboration-exercise-data\\\\may-23_singapore.txt',\n",
       " 'os-collaboration-exercise-data\\\\os-collaboration-exercise-data\\\\may-28_singapore.txt',\n",
       " 'os-collaboration-exercise-data\\\\os-collaboration-exercise-data\\\\may-30_singapore.txt',\n",
       " 'os-collaboration-exercise-data\\\\os-collaboration-exercise-data\\\\nov-02_singapore.txt',\n",
       " 'os-collaboration-exercise-data\\\\os-collaboration-exercise-data\\\\nov-03_singapore.txt',\n",
       " 'os-collaboration-exercise-data\\\\os-collaboration-exercise-data\\\\nov-04_singapore.txt',\n",
       " 'os-collaboration-exercise-data\\\\os-collaboration-exercise-data\\\\nov-07_singapore.txt',\n",
       " 'os-collaboration-exercise-data\\\\os-collaboration-exercise-data\\\\nov-08_singapore.txt',\n",
       " 'os-collaboration-exercise-data\\\\os-collaboration-exercise-data\\\\nov-11_singapore.txt',\n",
       " 'os-collaboration-exercise-data\\\\os-collaboration-exercise-data\\\\nov-12_singapore.txt',\n",
       " 'os-collaboration-exercise-data\\\\os-collaboration-exercise-data\\\\nov-13_singapore.txt',\n",
       " 'os-collaboration-exercise-data\\\\os-collaboration-exercise-data\\\\nov-16_singapore.txt',\n",
       " 'os-collaboration-exercise-data\\\\os-collaboration-exercise-data\\\\nov-17_singapore.txt',\n",
       " 'os-collaboration-exercise-data\\\\os-collaboration-exercise-data\\\\nov-20_singapore.txt',\n",
       " 'os-collaboration-exercise-data\\\\os-collaboration-exercise-data\\\\nov-24_singapore.txt',\n",
       " 'os-collaboration-exercise-data\\\\os-collaboration-exercise-data\\\\nov-25_singapore.txt',\n",
       " 'os-collaboration-exercise-data\\\\os-collaboration-exercise-data\\\\nov-26_singapore.txt',\n",
       " 'os-collaboration-exercise-data\\\\os-collaboration-exercise-data\\\\nov-27_singapore.txt',\n",
       " 'os-collaboration-exercise-data\\\\os-collaboration-exercise-data\\\\nov-28_singapore.txt',\n",
       " 'os-collaboration-exercise-data\\\\os-collaboration-exercise-data\\\\oct-01_singapore.txt',\n",
       " 'os-collaboration-exercise-data\\\\os-collaboration-exercise-data\\\\oct-04_singapore.txt',\n",
       " 'os-collaboration-exercise-data\\\\os-collaboration-exercise-data\\\\oct-05_singapore.txt',\n",
       " 'os-collaboration-exercise-data\\\\os-collaboration-exercise-data\\\\oct-06_singapore.txt',\n",
       " 'os-collaboration-exercise-data\\\\os-collaboration-exercise-data\\\\oct-07_singapore.txt',\n",
       " 'os-collaboration-exercise-data\\\\os-collaboration-exercise-data\\\\oct-10_singapore.txt',\n",
       " 'os-collaboration-exercise-data\\\\os-collaboration-exercise-data\\\\oct-11_singapore.txt',\n",
       " 'os-collaboration-exercise-data\\\\os-collaboration-exercise-data\\\\oct-12_singapore.txt',\n",
       " 'os-collaboration-exercise-data\\\\os-collaboration-exercise-data\\\\oct-13_singapore.txt',\n",
       " 'os-collaboration-exercise-data\\\\os-collaboration-exercise-data\\\\oct-16_singapore.txt',\n",
       " 'os-collaboration-exercise-data\\\\os-collaboration-exercise-data\\\\oct-18_singapore.txt',\n",
       " 'os-collaboration-exercise-data\\\\os-collaboration-exercise-data\\\\oct-19_singapore.txt',\n",
       " 'os-collaboration-exercise-data\\\\os-collaboration-exercise-data\\\\oct-20_singapore.txt',\n",
       " 'os-collaboration-exercise-data\\\\os-collaboration-exercise-data\\\\oct-21_singapore.txt',\n",
       " 'os-collaboration-exercise-data\\\\os-collaboration-exercise-data\\\\oct-22_singapore.txt',\n",
       " 'os-collaboration-exercise-data\\\\os-collaboration-exercise-data\\\\oct-24_singapore.txt',\n",
       " 'os-collaboration-exercise-data\\\\os-collaboration-exercise-data\\\\oct-29_singapore.txt',\n",
       " 'os-collaboration-exercise-data\\\\os-collaboration-exercise-data\\\\sep-03_singapore.txt',\n",
       " 'os-collaboration-exercise-data\\\\os-collaboration-exercise-data\\\\sep-07_singapore.txt',\n",
       " 'os-collaboration-exercise-data\\\\os-collaboration-exercise-data\\\\sep-11_singapore.txt',\n",
       " 'os-collaboration-exercise-data\\\\os-collaboration-exercise-data\\\\sep-12_singapore.txt',\n",
       " 'os-collaboration-exercise-data\\\\os-collaboration-exercise-data\\\\sep-13_singapore.txt',\n",
       " 'os-collaboration-exercise-data\\\\os-collaboration-exercise-data\\\\sep-19_singapore.txt',\n",
       " 'os-collaboration-exercise-data\\\\os-collaboration-exercise-data\\\\sep-20_singapore.txt',\n",
       " 'os-collaboration-exercise-data\\\\os-collaboration-exercise-data\\\\sep-21_singapore.txt',\n",
       " 'os-collaboration-exercise-data\\\\os-collaboration-exercise-data\\\\sep-23_singapore.txt',\n",
       " 'os-collaboration-exercise-data\\\\os-collaboration-exercise-data\\\\sep-24_singapore.txt',\n",
       " 'os-collaboration-exercise-data\\\\os-collaboration-exercise-data\\\\sep-25_singapore.txt',\n",
       " 'os-collaboration-exercise-data\\\\os-collaboration-exercise-data\\\\sep-29_singapore.txt']"
      ]
     },
     "execution_count": 13,
     "metadata": {},
     "output_type": "execute_result"
    }
   ],
   "source": [
    "glob.glob('os-collaboration-exercise-data\\\\os-collaboration-exercise-data\\\\*singapore.txt')\n"
   ]
  },
  {
   "cell_type": "code",
   "execution_count": 119,
   "id": "447e9fcf-18fd-48b9-92b5-d43dd9f59fd4",
   "metadata": {},
   "outputs": [
    {
     "name": "stdout",
     "output_type": "stream",
     "text": [
      "C:\\Users\\lmr20\\OneDrive\\Desktop\\learning-portfolio-2025-january-lmr73\\6.2_files,_folders_&_os__exercises\\os-collaboration-exercise-data\\os-collaboration-exercise-data\n"
     ]
    }
   ],
   "source": [
    "!cd"
   ]
  }
 ],
 "metadata": {
  "kernelspec": {
   "display_name": "Python 3 (ipykernel)",
   "language": "python",
   "name": "python3"
  },
  "language_info": {
   "codemirror_mode": {
    "name": "ipython",
    "version": 3
   },
   "file_extension": ".py",
   "mimetype": "text/x-python",
   "name": "python",
   "nbconvert_exporter": "python",
   "pygments_lexer": "ipython3",
   "version": "3.12.3"
  },
  "toc": {
   "base_numbering": 1,
   "nav_menu": {},
   "number_sections": true,
   "sideBar": true,
   "skip_h1_title": false,
   "title_cell": "Table of Contents",
   "title_sidebar": "Contents",
   "toc_cell": false,
   "toc_position": {},
   "toc_section_display": true,
   "toc_window_display": false
  },
  "vscode": {
   "interpreter": {
    "hash": "31f2aee4e71d21fbe5cf8b01ff0e069b9275f58929596ceb00d14d90e3e16cd6"
   }
  }
 },
 "nbformat": 4,
 "nbformat_minor": 5
}
