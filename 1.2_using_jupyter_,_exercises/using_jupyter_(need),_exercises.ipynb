{
 "cells": [
  {
   "attachments": {},
   "cell_type": "markdown",
   "id": "123456",
   "metadata": {},
   "source": [
    "<div style=\"text-align:left;font-size:2em\"><span style=\"font-weight:bolder;font-size:1.25em\">SP2273 | Learning Portfolio</span><br><br><span style=\"font-weight:bold;color:darkred\">Using Jupyter (Need), Exercises</span></div>"
   ]
  },
  {
   "attachments": {},
   "cell_type": "markdown",
   "id": "958441dc",
   "metadata": {},
   "source": [
    "## 1 Quadratic Equations"
   ]
  },
  {
   "attachments": {},
   "cell_type": "markdown",
   "id": "2946f6e4",
   "metadata": {},
   "source": [
    "### Introduction"
   ]
  },
  {
   "cell_type": "markdown",
   "id": "1ae6ca4b-6172-4cd1-861f-32ace96ab28b",
   "metadata": {},
   "source": [
    "![](https://upload.wikimedia.org/wikipedia/commons/thumb/f/f8/Polynomialdeg2.svg/600px-Polynomialdeg2.svg.png)\n",
    "\n",
    "*(Image from the [Wikipedia page on Quadratic equations](https://en.wikipedia.org/wiki/Quadratic_equation))*\n",
    "\n",
    "The general form of a quadratic equation is:\n",
    "\n",
    "$$ax^2+bx+c=0$$\n",
    "\n",
    "\n"
   ]
  },
  {
   "attachments": {},
   "cell_type": "markdown",
   "id": "18cb9b74",
   "metadata": {},
   "source": [
    "### Solutions"
   ]
  },
  {
   "cell_type": "markdown",
   "id": "55d8ef91-8ab0-4257-a166-2de795327eb7",
   "metadata": {},
   "source": [
    "Provided $a \\ne 0$, we can use an elementary algebraic method called [completing the square](https://en.wikipedia.org/wiki/Completing_the_square) to show that a quadratic equation has the following solution:"
   ]
  },
  {
   "cell_type": "markdown",
   "id": "97f3e752-16f4-4ebd-a532-d36ddf550aac",
   "metadata": {},
   "source": [
    "$$x=\\dfrac{-b\\pm \\sqrt{b^2-4ac}}{2a}$$"
   ]
  },
  {
   "attachments": {},
   "cell_type": "markdown",
   "id": "d1794bad",
   "metadata": {},
   "source": [
    "### Discriminant"
   ]
  },
  {
   "cell_type": "markdown",
   "id": "f363688c-b05d-4c01-ac67-229455815d44",
   "metadata": {},
   "source": [
    "The quantity $\\Delta = b^2-4ac$ is called the **discriminant** of the equation and decides the nature of its solutions. The table below shows the various possibilities."
   ]
  },
  {
   "cell_type": "markdown",
   "id": "c6ad9d60-644f-49ac-a05f-aa2ac733baab",
   "metadata": {},
   "source": [
    "| Discriminant | Roots|\n",
    "|--------------|:--------------------------------------|\n",
    "| $\\Delta = b^2-4ac=0$  | A single solution of $-b/(2a)$         |\n",
    "| $\\Delta = b^2-4ac \\gt 0$            | Two distinct solutions               |\n",
    "| $\\Delta = b^2-4ac \\lt 0$            | No real solutions; both are complex. |"
   ]
  },
  {
   "cell_type": "markdown",
   "id": "f8409819-ba3a-4165-85d0-14b6011e007b",
   "metadata": {},
   "source": [
    "## Exercise 2 (In Your Own Words)"
   ]
  },
  {
   "cell_type": "markdown",
   "id": "22826786-e6ed-4a0b-94bc-009ba6ceb5fe",
   "metadata": {},
   "source": [
    "### What is a Git repository?\n",
    "It is the cloud-based GitHub page used to store and share code, allowing collaboration. \n",
    "\n",
    "### Git keeps track of ____BLANK____ in the files in our repository.\n",
    "\"Changes\"\n",
    "\n",
    "### What is a commit?\n",
    "It is like saving a changes to the file after editing its code. \n",
    "\n",
    "### What is a push?\n",
    "To upload and sync new changes to the Github cloud.\n",
    "\n",
    "### What is a pull?\n",
    "To sync new changes from the cloud onto the local device. \n",
    "\n",
    "### What is the difference between GitHub and GitHub Desktop?\n",
    "GitHub: main location for files, stored in the cloud (Github servers). GitHub Desktop: GUI to access and change the Learning Portfolio files on the online GitHub by syncing it with the changes made on the local machine. "
   ]
  },
  {
   "cell_type": "markdown",
   "id": "bc5f671b-3152-4ab7-aaf4-eab81d23fe21",
   "metadata": {},
   "source": [
    "## Exercise 3 (A Matter of Statistics) "
   ]
  },
  {
   "cell_type": "markdown",
   "id": "b6ceb073-4f04-4a3c-b4c8-d849d0284ef3",
   "metadata": {},
   "source": [
    "$$ \\mu = \\dfrac{1}{n} \\sum_{i=1}^{n} x_{i}$$\n",
    "\n",
    "$$ \\sigma = \\sqrt{\\dfrac{1}{n} \\sum_{i=1}^{n} (x_{i}-\\mu)^{2}}$$\n"
   ]
  },
  {
   "cell_type": "markdown",
   "id": "4c821d6d-6df1-4954-ab7a-0ed2ca70d46e",
   "metadata": {},
   "source": [
    "$$r = \\frac{\\sum_{i=1}^{n} (x_{i}-\\mu_{X})(y_{i}-\\mu_{Y})}{\\sqrt{{\\sum_{i=1}^{n} (x_{i}-\\mu_{X})^{2}}{\\sum_{i=1}^{n} (y_{i}-\\mu_{Y})^{2}}}} $$\n",
    "\n",
    "\n",
    "$${\\sum_{i=1}^{n} (x_{i}-\\mu_{X})(y_{i}-\\mu_{Y})}$$\n",
    "$${\\sum_{i=1}^{n} (x_{i}-\\mu_{X})^{2}}{\\sum_{i=1}^{n} (y_{i}-\\mu_{Y})^{2}}$$"
   ]
  }
 ],
 "metadata": {
  "kernelspec": {
   "display_name": "Python 3 (ipykernel)",
   "language": "python",
   "name": "python3"
  },
  "language_info": {
   "codemirror_mode": {
    "name": "ipython",
    "version": 3
   },
   "file_extension": ".py",
   "mimetype": "text/x-python",
   "name": "python",
   "nbconvert_exporter": "python",
   "pygments_lexer": "ipython3",
   "version": "3.12.3"
  },
  "toc": {
   "base_numbering": 1,
   "nav_menu": {},
   "number_sections": true,
   "sideBar": true,
   "skip_h1_title": false,
   "title_cell": "Table of Contents",
   "title_sidebar": "Contents",
   "toc_cell": false,
   "toc_position": {},
   "toc_section_display": true,
   "toc_window_display": false
  },
  "vscode": {
   "interpreter": {
    "hash": "31f2aee4e71d21fbe5cf8b01ff0e069b9275f58929596ceb00d14d90e3e16cd6"
   }
  }
 },
 "nbformat": 4,
 "nbformat_minor": 5
}
