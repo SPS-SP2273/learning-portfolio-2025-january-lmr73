{
 "cells": [
  {
   "attachments": {},
   "cell_type": "markdown",
   "id": "123456",
   "metadata": {},
   "source": [
    "<div style=\"text-align:left;font-size:2em\"><span style=\"font-weight:bolder;font-size:1.25em\">SP2273 | Learning Portfolio</span><br><br><span style=\"font-weight:bold;color:darkred\">Functions (Good) Exercises</span></div>"
   ]
  },
  {
   "cell_type": "markdown",
   "id": "c082ca11-5ee9-4c99-afb5-d4d0d7e55ee3",
   "metadata": {},
   "source": [
    "# Exercise 1 (Celsius to Fahrenheit or Kelvin) "
   ]
  },
  {
   "cell_type": "code",
   "execution_count": 12,
   "id": "a48aaf11-448b-4b13-a1d0-37eea09a8d23",
   "metadata": {},
   "outputs": [
    {
     "name": "stdin",
     "output_type": "stream",
     "text": [
      "What scale you want? Kelvin\n",
      "Temperature 88\n"
     ]
    },
    {
     "data": {
      "text/plain": [
       "361.15"
      ]
     },
     "execution_count": 12,
     "metadata": {},
     "output_type": "execute_result"
    }
   ],
   "source": [
    "target_scale=str(input('What scale you want?'))\n",
    "temperature_celsius=float(input('Temperature'))\n",
    "\n",
    "def convert_celsius(temperature_celsius,target_scale):\n",
    "    if target_scale==\"Kelvin\":\n",
    "        p=temperature_celsius+273.15\n",
    "    else:\n",
    "        p=temperature_celsius*9/5+32\n",
    "    return p\n",
    "\n",
    "convert_celsius(temperature_celsius,target_scale)"
   ]
  },
  {
   "cell_type": "markdown",
   "id": "125de317-949e-4f38-9284-bb1f62e7e6c0",
   "metadata": {},
   "source": [
    "# Exercise 2 (Fahrenheit to Celsius or Kelvin)"
   ]
  },
  {
   "cell_type": "code",
   "execution_count": 14,
   "id": "47579564-ab59-4303-bb29-89f6d6e7d8d6",
   "metadata": {},
   "outputs": [
    {
     "name": "stdin",
     "output_type": "stream",
     "text": [
      "What scale you want? 12\n",
      "Temperature 12\n"
     ]
    },
    {
     "data": {
      "text/plain": [
       "-11.11111111111111"
      ]
     },
     "execution_count": 14,
     "metadata": {},
     "output_type": "execute_result"
    }
   ],
   "source": [
    "target_scale=str(input('What scale you want?'))\n",
    "temperature_fahrenheit=float(input('Temperature'))\n",
    "\n",
    "def convert_fahrenheit(temperature_fahrenheit,target_scale):\n",
    "    if target_scale==\"Kelvin\":\n",
    "        p=(temperature_fahrenheit-32)*5/9 + 273.15\n",
    "    else:\n",
    "        p=(temperature_fahrenheit-32)*5/9\n",
    "    return p\n",
    "\n",
    "convert_fahrenheit(temperature_fahrenheit,target_scale)"
   ]
  },
  {
   "cell_type": "markdown",
   "id": "a7c608cd-d6aa-409c-8c69-f3d1ab53c942",
   "metadata": {},
   "source": [
    "# Exercise 3 (General Temperature Conversion)"
   ]
  },
  {
   "cell_type": "code",
   "execution_count": 19,
   "id": "385e5c17-281d-4ea4-b11a-abbcb10bc730",
   "metadata": {},
   "outputs": [
    {
     "name": "stdin",
     "output_type": "stream",
     "text": [
      "What scale you have? Kevlin\n",
      "What scale you want? celsius\n",
      "Temperature 12\n"
     ]
    },
    {
     "data": {
      "text/plain": [
       "-261.15"
      ]
     },
     "execution_count": 19,
     "metadata": {},
     "output_type": "execute_result"
    }
   ],
   "source": [
    "start_scale=str(input('What scale you have?'))\n",
    "target_scale=str(input('What scale you want?'))\n",
    "input_temp=float(input('Temperature'))\n",
    "\n",
    "def convert_fahrenheit(input_temp,target_scale, start_scale):\n",
    "    if start_scale==\"celsius\":\n",
    "        if target_scale==\"Kelvin\":\n",
    "            p=input_temp+273.15\n",
    "        else:\n",
    "            p=input_temp*9/5+32\n",
    "        return p\n",
    "    elif start_scale==\"fahrenhenit\":\n",
    "        if target_scale==\"Kelvin\":\n",
    "            p=(input_temp-32)*5/9 + 273.15\n",
    "        else:\n",
    "            p=(input_temp-32)*5/9\n",
    "        return p\n",
    "    else:    \n",
    "        if target_scale==\"celsius\":\n",
    "            p=input_temp-273.15\n",
    "        else:\n",
    "            p=(input_temp-273.15)*9/5+32\n",
    "        return p\n",
    "\n",
    "convert_fahrenheit(input_temp,target_scale,start_scale)"
   ]
  }
 ],
 "metadata": {
  "kernelspec": {
   "display_name": "Python 3 (ipykernel)",
   "language": "python",
   "name": "python3"
  },
  "language_info": {
   "codemirror_mode": {
    "name": "ipython",
    "version": 3
   },
   "file_extension": ".py",
   "mimetype": "text/x-python",
   "name": "python",
   "nbconvert_exporter": "python",
   "pygments_lexer": "ipython3",
   "version": "3.12.3"
  },
  "toc": {
   "base_numbering": 1,
   "nav_menu": {},
   "number_sections": true,
   "sideBar": true,
   "skip_h1_title": false,
   "title_cell": "Table of Contents",
   "title_sidebar": "Contents",
   "toc_cell": false,
   "toc_position": {},
   "toc_section_display": true,
   "toc_window_display": false
  },
  "vscode": {
   "interpreter": {
    "hash": "31f2aee4e71d21fbe5cf8b01ff0e069b9275f58929596ceb00d14d90e3e16cd6"
   }
  }
 },
 "nbformat": 4,
 "nbformat_minor": 5
}
