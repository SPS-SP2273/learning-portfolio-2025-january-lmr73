{
 "cells": [
  {
   "attachments": {},
   "cell_type": "markdown",
   "id": "123456",
   "metadata": {},
   "source": [
    "<div style=\"text-align:left;font-size:2em\"><span style=\"font-weight:bolder;font-size:1.25em\">SP2273 | Learning Portfolio</span><br><br><span style=\"font-weight:bold;color:darkred\">Functions (Need) Exercises</span></div>"
   ]
  },
  {
   "cell_type": "markdown",
   "id": "d8550925-3ccf-49f0-bfd1-8d7b135ac667",
   "metadata": {},
   "source": [
    "# Exercise 1 (Do you know why?)\n",
    "\n",
    "I think it might be that \"else\" argument is not required. If the input was not \"Batman\", the if loop is escaped, and the \"return f'Hello {name}!'\" is executed."
   ]
  },
  {
   "cell_type": "markdown",
   "id": "ad36a582-89c3-4e7f-b025-969fbe45d91b",
   "metadata": {},
   "source": [
    "# Exercise 2 (Chubby or not) "
   ]
  },
  {
   "cell_type": "code",
   "execution_count": 11,
   "id": "fbf61e35-5ecb-4c65-9932-206a9c36c1a1",
   "metadata": {},
   "outputs": [
    {
     "data": {
      "text/plain": [
       "'Overweight'"
      ]
     },
     "execution_count": 11,
     "metadata": {},
     "output_type": "execute_result"
    }
   ],
   "source": [
    "#weight=float(input('What is your weight'))\n",
    "#height=float(input('What is your height?'))\n",
    "\n",
    "\n",
    "def calculate_bmi(weight,height):\n",
    "    bmi=(weight / (height**2))\n",
    "    if bmi<18.5:\n",
    "        cat='Underweight'\n",
    "    elif bmi<24.9:\n",
    "        cat='Normal weight'\n",
    "    elif bmi<29.9:\n",
    "        cat='Overweight'\n",
    "    else:\n",
    "        cat='Obese'\n",
    "    return cat\n",
    "\n",
    "calculate_bmi(90, 1.8)"
   ]
  },
  {
   "cell_type": "markdown",
   "id": "5628125a-6c2b-417a-b492-c8014a918569",
   "metadata": {},
   "source": [
    "# Exercise 3 (Factorials) n and returns its factorial. handles negative numbers."
   ]
  },
  {
   "cell_type": "markdown",
   "id": "24081304-c815-4b96-86cb-196a89d2a680",
   "metadata": {},
   "source": [
    "### this did not work"
   ]
  },
  {
   "cell_type": "code",
   "execution_count": 30,
   "id": "648e2ed6-a5a7-434a-9d00-ab9dcc82e0c8",
   "metadata": {},
   "outputs": [
    {
     "data": {
      "text/plain": [
       "18"
      ]
     },
     "execution_count": 30,
     "metadata": {},
     "output_type": "execute_result"
    }
   ],
   "source": [
    "def fact(n):\n",
    "    ans=n\n",
    "    for i in range(n-1):        \n",
    "        ans=ans*(n-i)\n",
    "    return ans\n",
    "\n",
    "fact(3)\n",
    "\n",
    "\n",
    "#while n >= i:\n",
    " #   x=n*(n-1)\n",
    "  #  n-1\n",
    "   # i+1\n",
    "    #return x"
   ]
  },
  {
   "cell_type": "code",
   "execution_count": 37,
   "id": "902f66f6-b4d3-406a-8427-ce7e2509d989",
   "metadata": {},
   "outputs": [
    {
     "name": "stdin",
     "output_type": "stream",
     "text": [
      "hello 12\n"
     ]
    }
   ],
   "source": [
    "# BRUH the input function spoil\n",
    "\n",
    "i=input('hello')\n",
    "\n",
    "def hi(i):\n",
    "    print(i)"
   ]
  },
  {
   "cell_type": "markdown",
   "id": "50b31228-9d92-4158-a8b7-5bf296d20c8c",
   "metadata": {},
   "source": [
    "## my real answer "
   ]
  },
  {
   "cell_type": "code",
   "execution_count": 34,
   "id": "d251b589-5b32-49a5-8f49-c15729674b41",
   "metadata": {},
   "outputs": [
    {
     "data": {
      "text/plain": [
       "120"
      ]
     },
     "execution_count": 34,
     "metadata": {},
     "output_type": "execute_result"
    }
   ],
   "source": [
    "def fact(n):\n",
    "    ans=1\n",
    "    for i in range(n):        \n",
    "        ans=ans*(n-i)\n",
    "    return ans\n",
    "\n",
    "fact(5)"
   ]
  }
 ],
 "metadata": {
  "kernelspec": {
   "display_name": "Python 3 (ipykernel)",
   "language": "python",
   "name": "python3"
  },
  "language_info": {
   "codemirror_mode": {
    "name": "ipython",
    "version": 3
   },
   "file_extension": ".py",
   "mimetype": "text/x-python",
   "name": "python",
   "nbconvert_exporter": "python",
   "pygments_lexer": "ipython3",
   "version": "3.12.3"
  },
  "toc": {
   "base_numbering": 1,
   "nav_menu": {},
   "number_sections": true,
   "sideBar": true,
   "skip_h1_title": false,
   "title_cell": "Table of Contents",
   "title_sidebar": "Contents",
   "toc_cell": false,
   "toc_position": {},
   "toc_section_display": true,
   "toc_window_display": false
  },
  "vscode": {
   "interpreter": {
    "hash": "31f2aee4e71d21fbe5cf8b01ff0e069b9275f58929596ceb00d14d90e3e16cd6"
   }
  }
 },
 "nbformat": 4,
 "nbformat_minor": 5
}
